{
  "nbformat": 4,
  "nbformat_minor": 0,
  "metadata": {
    "colab": {
      "provenance": [],
      "authorship_tag": "ABX9TyN0Ph72H3VdWya8Ex1upvOc",
      "include_colab_link": true
    },
    "kernelspec": {
      "name": "python3",
      "display_name": "Python 3"
    },
    "language_info": {
      "name": "python"
    }
  },
  "cells": [
    {
      "cell_type": "markdown",
      "metadata": {
        "id": "view-in-github",
        "colab_type": "text"
      },
      "source": [
        "<a href=\"https://colab.research.google.com/github/heymshri/MachineLeaninginPython/blob/main/StrokeDetection.ipynb\" target=\"_parent\"><img src=\"https://colab.research.google.com/assets/colab-badge.svg\" alt=\"Open In Colab\"/></a>"
      ]
    },
    {
      "cell_type": "code",
      "source": [
        "import pandas as pd\n",
        "import numpy as np\n",
        "\n",
        "import matplotlib.pyplot as plt \n",
        "import seaborn as sns \n",
        "import matplotlib as mpl\n",
        "\n",
        "\n",
        "import plotly \n",
        "import plotly.express as px\n",
        "import plotly.graph_objs as go\n",
        "import plotly.offline as py\n",
        "from plotly.offline import iplot\n",
        "from plotly.subplots import make_subplots\n",
        "import plotly.figure_factory as ff\n",
        "\n",
        "\n",
        "import warnings\n",
        "warnings.filterwarnings('ignore') "
      ],
      "metadata": {
        "id": "VnBgL0LhgMdx"
      },
      "execution_count": null,
      "outputs": []
    },
    {
      "cell_type": "code",
      "source": [
        "data = pd.read_csv('/content/healthcare-dataset-stroke-data.csv')\n",
        "data.head()"
      ],
      "metadata": {
        "colab": {
          "base_uri": "https://localhost:8080/",
          "height": 305
        },
        "id": "aj5z4C9RIc58",
        "outputId": "52b05e11-053c-482b-9e8c-87a6cf75c400"
      },
      "execution_count": null,
      "outputs": [
        {
          "output_type": "execute_result",
          "data": {
            "text/plain": [
              "      id  gender   age  hypertension  heart_disease ever_married  \\\n",
              "0   9046    Male  67.0             0              1          Yes   \n",
              "1  51676  Female  61.0             0              0          Yes   \n",
              "2  31112    Male  80.0             0              1          Yes   \n",
              "3  60182  Female  49.0             0              0          Yes   \n",
              "4   1665  Female  79.0             1              0          Yes   \n",
              "\n",
              "       work_type Residence_type  avg_glucose_level   bmi   smoking_status  \\\n",
              "0        Private          Urban             228.69  36.6  formerly smoked   \n",
              "1  Self-employed          Rural             202.21   NaN     never smoked   \n",
              "2        Private          Rural             105.92  32.5     never smoked   \n",
              "3        Private          Urban             171.23  34.4           smokes   \n",
              "4  Self-employed          Rural             174.12  24.0     never smoked   \n",
              "\n",
              "   stroke  \n",
              "0       1  \n",
              "1       1  \n",
              "2       1  \n",
              "3       1  \n",
              "4       1  "
            ],
            "text/html": [
              "\n",
              "  <div id=\"df-e38a7308-b5d3-45cb-9154-38d9322bad95\">\n",
              "    <div class=\"colab-df-container\">\n",
              "      <div>\n",
              "<style scoped>\n",
              "    .dataframe tbody tr th:only-of-type {\n",
              "        vertical-align: middle;\n",
              "    }\n",
              "\n",
              "    .dataframe tbody tr th {\n",
              "        vertical-align: top;\n",
              "    }\n",
              "\n",
              "    .dataframe thead th {\n",
              "        text-align: right;\n",
              "    }\n",
              "</style>\n",
              "<table border=\"1\" class=\"dataframe\">\n",
              "  <thead>\n",
              "    <tr style=\"text-align: right;\">\n",
              "      <th></th>\n",
              "      <th>id</th>\n",
              "      <th>gender</th>\n",
              "      <th>age</th>\n",
              "      <th>hypertension</th>\n",
              "      <th>heart_disease</th>\n",
              "      <th>ever_married</th>\n",
              "      <th>work_type</th>\n",
              "      <th>Residence_type</th>\n",
              "      <th>avg_glucose_level</th>\n",
              "      <th>bmi</th>\n",
              "      <th>smoking_status</th>\n",
              "      <th>stroke</th>\n",
              "    </tr>\n",
              "  </thead>\n",
              "  <tbody>\n",
              "    <tr>\n",
              "      <th>0</th>\n",
              "      <td>9046</td>\n",
              "      <td>Male</td>\n",
              "      <td>67.0</td>\n",
              "      <td>0</td>\n",
              "      <td>1</td>\n",
              "      <td>Yes</td>\n",
              "      <td>Private</td>\n",
              "      <td>Urban</td>\n",
              "      <td>228.69</td>\n",
              "      <td>36.6</td>\n",
              "      <td>formerly smoked</td>\n",
              "      <td>1</td>\n",
              "    </tr>\n",
              "    <tr>\n",
              "      <th>1</th>\n",
              "      <td>51676</td>\n",
              "      <td>Female</td>\n",
              "      <td>61.0</td>\n",
              "      <td>0</td>\n",
              "      <td>0</td>\n",
              "      <td>Yes</td>\n",
              "      <td>Self-employed</td>\n",
              "      <td>Rural</td>\n",
              "      <td>202.21</td>\n",
              "      <td>NaN</td>\n",
              "      <td>never smoked</td>\n",
              "      <td>1</td>\n",
              "    </tr>\n",
              "    <tr>\n",
              "      <th>2</th>\n",
              "      <td>31112</td>\n",
              "      <td>Male</td>\n",
              "      <td>80.0</td>\n",
              "      <td>0</td>\n",
              "      <td>1</td>\n",
              "      <td>Yes</td>\n",
              "      <td>Private</td>\n",
              "      <td>Rural</td>\n",
              "      <td>105.92</td>\n",
              "      <td>32.5</td>\n",
              "      <td>never smoked</td>\n",
              "      <td>1</td>\n",
              "    </tr>\n",
              "    <tr>\n",
              "      <th>3</th>\n",
              "      <td>60182</td>\n",
              "      <td>Female</td>\n",
              "      <td>49.0</td>\n",
              "      <td>0</td>\n",
              "      <td>0</td>\n",
              "      <td>Yes</td>\n",
              "      <td>Private</td>\n",
              "      <td>Urban</td>\n",
              "      <td>171.23</td>\n",
              "      <td>34.4</td>\n",
              "      <td>smokes</td>\n",
              "      <td>1</td>\n",
              "    </tr>\n",
              "    <tr>\n",
              "      <th>4</th>\n",
              "      <td>1665</td>\n",
              "      <td>Female</td>\n",
              "      <td>79.0</td>\n",
              "      <td>1</td>\n",
              "      <td>0</td>\n",
              "      <td>Yes</td>\n",
              "      <td>Self-employed</td>\n",
              "      <td>Rural</td>\n",
              "      <td>174.12</td>\n",
              "      <td>24.0</td>\n",
              "      <td>never smoked</td>\n",
              "      <td>1</td>\n",
              "    </tr>\n",
              "  </tbody>\n",
              "</table>\n",
              "</div>\n",
              "      <button class=\"colab-df-convert\" onclick=\"convertToInteractive('df-e38a7308-b5d3-45cb-9154-38d9322bad95')\"\n",
              "              title=\"Convert this dataframe to an interactive table.\"\n",
              "              style=\"display:none;\">\n",
              "        \n",
              "  <svg xmlns=\"http://www.w3.org/2000/svg\" height=\"24px\"viewBox=\"0 0 24 24\"\n",
              "       width=\"24px\">\n",
              "    <path d=\"M0 0h24v24H0V0z\" fill=\"none\"/>\n",
              "    <path d=\"M18.56 5.44l.94 2.06.94-2.06 2.06-.94-2.06-.94-.94-2.06-.94 2.06-2.06.94zm-11 1L8.5 8.5l.94-2.06 2.06-.94-2.06-.94L8.5 2.5l-.94 2.06-2.06.94zm10 10l.94 2.06.94-2.06 2.06-.94-2.06-.94-.94-2.06-.94 2.06-2.06.94z\"/><path d=\"M17.41 7.96l-1.37-1.37c-.4-.4-.92-.59-1.43-.59-.52 0-1.04.2-1.43.59L10.3 9.45l-7.72 7.72c-.78.78-.78 2.05 0 2.83L4 21.41c.39.39.9.59 1.41.59.51 0 1.02-.2 1.41-.59l7.78-7.78 2.81-2.81c.8-.78.8-2.07 0-2.86zM5.41 20L4 18.59l7.72-7.72 1.47 1.35L5.41 20z\"/>\n",
              "  </svg>\n",
              "      </button>\n",
              "      \n",
              "  <style>\n",
              "    .colab-df-container {\n",
              "      display:flex;\n",
              "      flex-wrap:wrap;\n",
              "      gap: 12px;\n",
              "    }\n",
              "\n",
              "    .colab-df-convert {\n",
              "      background-color: #E8F0FE;\n",
              "      border: none;\n",
              "      border-radius: 50%;\n",
              "      cursor: pointer;\n",
              "      display: none;\n",
              "      fill: #1967D2;\n",
              "      height: 32px;\n",
              "      padding: 0 0 0 0;\n",
              "      width: 32px;\n",
              "    }\n",
              "\n",
              "    .colab-df-convert:hover {\n",
              "      background-color: #E2EBFA;\n",
              "      box-shadow: 0px 1px 2px rgba(60, 64, 67, 0.3), 0px 1px 3px 1px rgba(60, 64, 67, 0.15);\n",
              "      fill: #174EA6;\n",
              "    }\n",
              "\n",
              "    [theme=dark] .colab-df-convert {\n",
              "      background-color: #3B4455;\n",
              "      fill: #D2E3FC;\n",
              "    }\n",
              "\n",
              "    [theme=dark] .colab-df-convert:hover {\n",
              "      background-color: #434B5C;\n",
              "      box-shadow: 0px 1px 3px 1px rgba(0, 0, 0, 0.15);\n",
              "      filter: drop-shadow(0px 1px 2px rgba(0, 0, 0, 0.3));\n",
              "      fill: #FFFFFF;\n",
              "    }\n",
              "  </style>\n",
              "\n",
              "      <script>\n",
              "        const buttonEl =\n",
              "          document.querySelector('#df-e38a7308-b5d3-45cb-9154-38d9322bad95 button.colab-df-convert');\n",
              "        buttonEl.style.display =\n",
              "          google.colab.kernel.accessAllowed ? 'block' : 'none';\n",
              "\n",
              "        async function convertToInteractive(key) {\n",
              "          const element = document.querySelector('#df-e38a7308-b5d3-45cb-9154-38d9322bad95');\n",
              "          const dataTable =\n",
              "            await google.colab.kernel.invokeFunction('convertToInteractive',\n",
              "                                                     [key], {});\n",
              "          if (!dataTable) return;\n",
              "\n",
              "          const docLinkHtml = 'Like what you see? Visit the ' +\n",
              "            '<a target=\"_blank\" href=https://colab.research.google.com/notebooks/data_table.ipynb>data table notebook</a>'\n",
              "            + ' to learn more about interactive tables.';\n",
              "          element.innerHTML = '';\n",
              "          dataTable['output_type'] = 'display_data';\n",
              "          await google.colab.output.renderOutput(dataTable, element);\n",
              "          const docLink = document.createElement('div');\n",
              "          docLink.innerHTML = docLinkHtml;\n",
              "          element.appendChild(docLink);\n",
              "        }\n",
              "      </script>\n",
              "    </div>\n",
              "  </div>\n",
              "  "
            ]
          },
          "metadata": {},
          "execution_count": 116
        }
      ]
    },
    {
      "cell_type": "code",
      "source": [
        "data.shape\n",
        "data.columns\n",
        "data.info()"
      ],
      "metadata": {
        "colab": {
          "base_uri": "https://localhost:8080/"
        },
        "id": "Ktn5WXQCIc8y",
        "outputId": "3c0f7623-b4ef-4fc1-96f8-9da3b0923cc6"
      },
      "execution_count": null,
      "outputs": [
        {
          "output_type": "stream",
          "name": "stdout",
          "text": [
            "<class 'pandas.core.frame.DataFrame'>\n",
            "RangeIndex: 5110 entries, 0 to 5109\n",
            "Data columns (total 12 columns):\n",
            " #   Column             Non-Null Count  Dtype  \n",
            "---  ------             --------------  -----  \n",
            " 0   id                 5110 non-null   int64  \n",
            " 1   gender             5110 non-null   object \n",
            " 2   age                5110 non-null   float64\n",
            " 3   hypertension       5110 non-null   int64  \n",
            " 4   heart_disease      5110 non-null   int64  \n",
            " 5   ever_married       5110 non-null   object \n",
            " 6   work_type          5110 non-null   object \n",
            " 7   Residence_type     5110 non-null   object \n",
            " 8   avg_glucose_level  5110 non-null   float64\n",
            " 9   bmi                4909 non-null   float64\n",
            " 10  smoking_status     5110 non-null   object \n",
            " 11  stroke             5110 non-null   int64  \n",
            "dtypes: float64(3), int64(4), object(5)\n",
            "memory usage: 479.2+ KB\n"
          ]
        }
      ]
    },
    {
      "cell_type": "code",
      "source": [
        "data.describe()"
      ],
      "metadata": {
        "colab": {
          "base_uri": "https://localhost:8080/",
          "height": 300
        },
        "id": "6BPekCCfIc_Z",
        "outputId": "10741c61-8fe1-4ded-e8e1-cdb02467f511"
      },
      "execution_count": null,
      "outputs": [
        {
          "output_type": "execute_result",
          "data": {
            "text/plain": [
              "                 id          age  hypertension  heart_disease  \\\n",
              "count   5110.000000  5110.000000   5110.000000    5110.000000   \n",
              "mean   36517.829354    43.226614      0.097456       0.054012   \n",
              "std    21161.721625    22.612647      0.296607       0.226063   \n",
              "min       67.000000     0.080000      0.000000       0.000000   \n",
              "25%    17741.250000    25.000000      0.000000       0.000000   \n",
              "50%    36932.000000    45.000000      0.000000       0.000000   \n",
              "75%    54682.000000    61.000000      0.000000       0.000000   \n",
              "max    72940.000000    82.000000      1.000000       1.000000   \n",
              "\n",
              "       avg_glucose_level          bmi       stroke  \n",
              "count        5110.000000  4909.000000  5110.000000  \n",
              "mean          106.147677    28.893237     0.048728  \n",
              "std            45.283560     7.854067     0.215320  \n",
              "min            55.120000    10.300000     0.000000  \n",
              "25%            77.245000    23.500000     0.000000  \n",
              "50%            91.885000    28.100000     0.000000  \n",
              "75%           114.090000    33.100000     0.000000  \n",
              "max           271.740000    97.600000     1.000000  "
            ],
            "text/html": [
              "\n",
              "  <div id=\"df-6066860b-7bd4-4ada-9cd8-e8b62206812f\">\n",
              "    <div class=\"colab-df-container\">\n",
              "      <div>\n",
              "<style scoped>\n",
              "    .dataframe tbody tr th:only-of-type {\n",
              "        vertical-align: middle;\n",
              "    }\n",
              "\n",
              "    .dataframe tbody tr th {\n",
              "        vertical-align: top;\n",
              "    }\n",
              "\n",
              "    .dataframe thead th {\n",
              "        text-align: right;\n",
              "    }\n",
              "</style>\n",
              "<table border=\"1\" class=\"dataframe\">\n",
              "  <thead>\n",
              "    <tr style=\"text-align: right;\">\n",
              "      <th></th>\n",
              "      <th>id</th>\n",
              "      <th>age</th>\n",
              "      <th>hypertension</th>\n",
              "      <th>heart_disease</th>\n",
              "      <th>avg_glucose_level</th>\n",
              "      <th>bmi</th>\n",
              "      <th>stroke</th>\n",
              "    </tr>\n",
              "  </thead>\n",
              "  <tbody>\n",
              "    <tr>\n",
              "      <th>count</th>\n",
              "      <td>5110.000000</td>\n",
              "      <td>5110.000000</td>\n",
              "      <td>5110.000000</td>\n",
              "      <td>5110.000000</td>\n",
              "      <td>5110.000000</td>\n",
              "      <td>4909.000000</td>\n",
              "      <td>5110.000000</td>\n",
              "    </tr>\n",
              "    <tr>\n",
              "      <th>mean</th>\n",
              "      <td>36517.829354</td>\n",
              "      <td>43.226614</td>\n",
              "      <td>0.097456</td>\n",
              "      <td>0.054012</td>\n",
              "      <td>106.147677</td>\n",
              "      <td>28.893237</td>\n",
              "      <td>0.048728</td>\n",
              "    </tr>\n",
              "    <tr>\n",
              "      <th>std</th>\n",
              "      <td>21161.721625</td>\n",
              "      <td>22.612647</td>\n",
              "      <td>0.296607</td>\n",
              "      <td>0.226063</td>\n",
              "      <td>45.283560</td>\n",
              "      <td>7.854067</td>\n",
              "      <td>0.215320</td>\n",
              "    </tr>\n",
              "    <tr>\n",
              "      <th>min</th>\n",
              "      <td>67.000000</td>\n",
              "      <td>0.080000</td>\n",
              "      <td>0.000000</td>\n",
              "      <td>0.000000</td>\n",
              "      <td>55.120000</td>\n",
              "      <td>10.300000</td>\n",
              "      <td>0.000000</td>\n",
              "    </tr>\n",
              "    <tr>\n",
              "      <th>25%</th>\n",
              "      <td>17741.250000</td>\n",
              "      <td>25.000000</td>\n",
              "      <td>0.000000</td>\n",
              "      <td>0.000000</td>\n",
              "      <td>77.245000</td>\n",
              "      <td>23.500000</td>\n",
              "      <td>0.000000</td>\n",
              "    </tr>\n",
              "    <tr>\n",
              "      <th>50%</th>\n",
              "      <td>36932.000000</td>\n",
              "      <td>45.000000</td>\n",
              "      <td>0.000000</td>\n",
              "      <td>0.000000</td>\n",
              "      <td>91.885000</td>\n",
              "      <td>28.100000</td>\n",
              "      <td>0.000000</td>\n",
              "    </tr>\n",
              "    <tr>\n",
              "      <th>75%</th>\n",
              "      <td>54682.000000</td>\n",
              "      <td>61.000000</td>\n",
              "      <td>0.000000</td>\n",
              "      <td>0.000000</td>\n",
              "      <td>114.090000</td>\n",
              "      <td>33.100000</td>\n",
              "      <td>0.000000</td>\n",
              "    </tr>\n",
              "    <tr>\n",
              "      <th>max</th>\n",
              "      <td>72940.000000</td>\n",
              "      <td>82.000000</td>\n",
              "      <td>1.000000</td>\n",
              "      <td>1.000000</td>\n",
              "      <td>271.740000</td>\n",
              "      <td>97.600000</td>\n",
              "      <td>1.000000</td>\n",
              "    </tr>\n",
              "  </tbody>\n",
              "</table>\n",
              "</div>\n",
              "      <button class=\"colab-df-convert\" onclick=\"convertToInteractive('df-6066860b-7bd4-4ada-9cd8-e8b62206812f')\"\n",
              "              title=\"Convert this dataframe to an interactive table.\"\n",
              "              style=\"display:none;\">\n",
              "        \n",
              "  <svg xmlns=\"http://www.w3.org/2000/svg\" height=\"24px\"viewBox=\"0 0 24 24\"\n",
              "       width=\"24px\">\n",
              "    <path d=\"M0 0h24v24H0V0z\" fill=\"none\"/>\n",
              "    <path d=\"M18.56 5.44l.94 2.06.94-2.06 2.06-.94-2.06-.94-.94-2.06-.94 2.06-2.06.94zm-11 1L8.5 8.5l.94-2.06 2.06-.94-2.06-.94L8.5 2.5l-.94 2.06-2.06.94zm10 10l.94 2.06.94-2.06 2.06-.94-2.06-.94-.94-2.06-.94 2.06-2.06.94z\"/><path d=\"M17.41 7.96l-1.37-1.37c-.4-.4-.92-.59-1.43-.59-.52 0-1.04.2-1.43.59L10.3 9.45l-7.72 7.72c-.78.78-.78 2.05 0 2.83L4 21.41c.39.39.9.59 1.41.59.51 0 1.02-.2 1.41-.59l7.78-7.78 2.81-2.81c.8-.78.8-2.07 0-2.86zM5.41 20L4 18.59l7.72-7.72 1.47 1.35L5.41 20z\"/>\n",
              "  </svg>\n",
              "      </button>\n",
              "      \n",
              "  <style>\n",
              "    .colab-df-container {\n",
              "      display:flex;\n",
              "      flex-wrap:wrap;\n",
              "      gap: 12px;\n",
              "    }\n",
              "\n",
              "    .colab-df-convert {\n",
              "      background-color: #E8F0FE;\n",
              "      border: none;\n",
              "      border-radius: 50%;\n",
              "      cursor: pointer;\n",
              "      display: none;\n",
              "      fill: #1967D2;\n",
              "      height: 32px;\n",
              "      padding: 0 0 0 0;\n",
              "      width: 32px;\n",
              "    }\n",
              "\n",
              "    .colab-df-convert:hover {\n",
              "      background-color: #E2EBFA;\n",
              "      box-shadow: 0px 1px 2px rgba(60, 64, 67, 0.3), 0px 1px 3px 1px rgba(60, 64, 67, 0.15);\n",
              "      fill: #174EA6;\n",
              "    }\n",
              "\n",
              "    [theme=dark] .colab-df-convert {\n",
              "      background-color: #3B4455;\n",
              "      fill: #D2E3FC;\n",
              "    }\n",
              "\n",
              "    [theme=dark] .colab-df-convert:hover {\n",
              "      background-color: #434B5C;\n",
              "      box-shadow: 0px 1px 3px 1px rgba(0, 0, 0, 0.15);\n",
              "      filter: drop-shadow(0px 1px 2px rgba(0, 0, 0, 0.3));\n",
              "      fill: #FFFFFF;\n",
              "    }\n",
              "  </style>\n",
              "\n",
              "      <script>\n",
              "        const buttonEl =\n",
              "          document.querySelector('#df-6066860b-7bd4-4ada-9cd8-e8b62206812f button.colab-df-convert');\n",
              "        buttonEl.style.display =\n",
              "          google.colab.kernel.accessAllowed ? 'block' : 'none';\n",
              "\n",
              "        async function convertToInteractive(key) {\n",
              "          const element = document.querySelector('#df-6066860b-7bd4-4ada-9cd8-e8b62206812f');\n",
              "          const dataTable =\n",
              "            await google.colab.kernel.invokeFunction('convertToInteractive',\n",
              "                                                     [key], {});\n",
              "          if (!dataTable) return;\n",
              "\n",
              "          const docLinkHtml = 'Like what you see? Visit the ' +\n",
              "            '<a target=\"_blank\" href=https://colab.research.google.com/notebooks/data_table.ipynb>data table notebook</a>'\n",
              "            + ' to learn more about interactive tables.';\n",
              "          element.innerHTML = '';\n",
              "          dataTable['output_type'] = 'display_data';\n",
              "          await google.colab.output.renderOutput(dataTable, element);\n",
              "          const docLink = document.createElement('div');\n",
              "          docLink.innerHTML = docLinkHtml;\n",
              "          element.appendChild(docLink);\n",
              "        }\n",
              "      </script>\n",
              "    </div>\n",
              "  </div>\n",
              "  "
            ]
          },
          "metadata": {},
          "execution_count": 118
        }
      ]
    },
    {
      "cell_type": "markdown",
      "source": [
        "# Data preparation"
      ],
      "metadata": {
        "id": "-oH0hANjfcum"
      }
    },
    {
      "cell_type": "code",
      "source": [
        "data.isna().sum()"
      ],
      "metadata": {
        "colab": {
          "base_uri": "https://localhost:8080/"
        },
        "id": "0qbA7PQ0Id9l",
        "outputId": "0e9eccba-d9c3-4ae9-98a2-479de6ecdd23"
      },
      "execution_count": null,
      "outputs": [
        {
          "output_type": "execute_result",
          "data": {
            "text/plain": [
              "id                     0\n",
              "gender                 0\n",
              "age                    0\n",
              "hypertension           0\n",
              "heart_disease          0\n",
              "ever_married           0\n",
              "work_type              0\n",
              "Residence_type         0\n",
              "avg_glucose_level      0\n",
              "bmi                  201\n",
              "smoking_status         0\n",
              "stroke                 0\n",
              "dtype: int64"
            ]
          },
          "metadata": {},
          "execution_count": 119
        }
      ]
    },
    {
      "cell_type": "code",
      "source": [
        "data.fillna(data.mean(), inplace=True)"
      ],
      "metadata": {
        "id": "Rx2KypD1IpIg"
      },
      "execution_count": null,
      "outputs": []
    },
    {
      "cell_type": "code",
      "source": [
        "data[\"stroke\"].replace({0:\"No\", 1:\"Yes\"}, inplace = True)"
      ],
      "metadata": {
        "id": "GtUAlOS6IyBC"
      },
      "execution_count": null,
      "outputs": []
    },
    {
      "cell_type": "code",
      "source": [
        "data.isna().sum()"
      ],
      "metadata": {
        "colab": {
          "base_uri": "https://localhost:8080/"
        },
        "id": "jj-cnjiuJT5A",
        "outputId": "772092c0-f336-4fd4-c51f-c490ab760fb7"
      },
      "execution_count": null,
      "outputs": [
        {
          "output_type": "execute_result",
          "data": {
            "text/plain": [
              "id                   0\n",
              "gender               0\n",
              "age                  0\n",
              "hypertension         0\n",
              "heart_disease        0\n",
              "ever_married         0\n",
              "work_type            0\n",
              "Residence_type       0\n",
              "avg_glucose_level    0\n",
              "bmi                  0\n",
              "smoking_status       0\n",
              "stroke               0\n",
              "dtype: int64"
            ]
          },
          "metadata": {},
          "execution_count": 122
        }
      ]
    },
    {
      "cell_type": "markdown",
      "source": [
        "#Data Analysis"
      ],
      "metadata": {
        "id": "O-aUBJbTfho1"
      }
    },
    {
      "cell_type": "markdown",
      "source": [
        "Percentage of patients with Brain Stroke"
      ],
      "metadata": {
        "id": "CO2BbwJHKK8D"
      }
    },
    {
      "cell_type": "code",
      "source": [
        "df=data.groupby('stroke').count()['age']\n",
        "df"
      ],
      "metadata": {
        "colab": {
          "base_uri": "https://localhost:8080/"
        },
        "id": "ZEYoYSVuJhLA",
        "outputId": "3fe01974-15d3-4b9b-f9fe-f852ea8315ad"
      },
      "execution_count": null,
      "outputs": [
        {
          "output_type": "execute_result",
          "data": {
            "text/plain": [
              "stroke\n",
              "No     4861\n",
              "Yes     249\n",
              "Name: age, dtype: int64"
            ]
          },
          "metadata": {},
          "execution_count": 123
        }
      ]
    },
    {
      "cell_type": "code",
      "source": [
        "label1=data.groupby('stroke').count()['age'].index\n",
        "label1"
      ],
      "metadata": {
        "colab": {
          "base_uri": "https://localhost:8080/"
        },
        "id": "l48Zr4bKJhHl",
        "outputId": "ffc9f18b-625d-450a-94fe-3302f96c701d"
      },
      "execution_count": null,
      "outputs": [
        {
          "output_type": "execute_result",
          "data": {
            "text/plain": [
              "Index(['No', 'Yes'], dtype='object', name='stroke')"
            ]
          },
          "metadata": {},
          "execution_count": 124
        }
      ]
    },
    {
      "cell_type": "code",
      "source": [
        "plt.axis(\"equal\")\n",
        "plt.pie(df,labels=label1, shadow=True, autopct='%1.2f%%',radius=1.1)\n",
        "plt.title(\"The percentage of stroke 1: stroke, 0: non-stroke\")\n",
        "plt.show()"
      ],
      "metadata": {
        "colab": {
          "base_uri": "https://localhost:8080/",
          "height": 264
        },
        "id": "uxuo2W-1JhCq",
        "outputId": "4879d360-9376-4cc0-847e-15dc39302fd7"
      },
      "execution_count": null,
      "outputs": [
        {
          "output_type": "display_data",
          "data": {
            "text/plain": [
              "<Figure size 432x288 with 1 Axes>"
            ],
            "image/png": "[encoded data removed]"
          },
          "metadata": {}
        }
      ]
    },
    {
      "cell_type": "markdown",
      "source": [
        "Stroke Patient's Age Distribution"
      ],
      "metadata": {
        "id": "W5ndXSylKFaF"
      }
    },
    {
      "cell_type": "code",
      "source": [
        "data1=data[data[\"stroke\"]=='Yes']\n",
        "data1.head()"
      ],
      "metadata": {
        "colab": {
          "base_uri": "https://localhost:8080/",
          "height": 305
        },
        "id": "InynVXVRJ6Zi",
        "outputId": "2061dc91-9211-4035-c82b-c5a273bf38f7"
      },
      "execution_count": null,
      "outputs": [
        {
          "output_type": "execute_result",
          "data": {
            "text/plain": [
              "      id  gender   age  hypertension  heart_disease ever_married  \\\n",
              "0   9046    Male  67.0             0              1          Yes   \n",
              "1  51676  Female  61.0             0              0          Yes   \n",
              "2  31112    Male  80.0             0              1          Yes   \n",
              "3  60182  Female  49.0             0              0          Yes   \n",
              "4   1665  Female  79.0             1              0          Yes   \n",
              "\n",
              "       work_type Residence_type  avg_glucose_level        bmi  \\\n",
              "0        Private          Urban             228.69  36.600000   \n",
              "1  Self-employed          Rural             202.21  28.893237   \n",
              "2        Private          Rural             105.92  32.500000   \n",
              "3        Private          Urban             171.23  34.400000   \n",
              "4  Self-employed          Rural             174.12  24.000000   \n",
              "\n",
              "    smoking_status stroke  \n",
              "0  formerly smoked    Yes  \n",
              "1     never smoked    Yes  \n",
              "2     never smoked    Yes  \n",
              "3           smokes    Yes  \n",
              "4     never smoked    Yes  "
            ],
            "text/html": [
              "\n",
              "  <div id=\"df-56325b1d-9b59-47bf-8f9a-14fc289f6ef9\">\n",
              "    <div class=\"colab-df-container\">\n",
              "      <div>\n",
              "<style scoped>\n",
              "    .dataframe tbody tr th:only-of-type {\n",
              "        vertical-align: middle;\n",
              "    }\n",
              "\n",
              "    .dataframe tbody tr th {\n",
              "        vertical-align: top;\n",
              "    }\n",
              "\n",
              "    .dataframe thead th {\n",
              "        text-align: right;\n",
              "    }\n",
              "</style>\n",
              "<table border=\"1\" class=\"dataframe\">\n",
              "  <thead>\n",
              "    <tr style=\"text-align: right;\">\n",
              "      <th></th>\n",
              "      <th>id</th>\n",
              "      <th>gender</th>\n",
              "      <th>age</th>\n",
              "      <th>hypertension</th>\n",
              "      <th>heart_disease</th>\n",
              "      <th>ever_married</th>\n",
              "      <th>work_type</th>\n",
              "      <th>Residence_type</th>\n",
              "      <th>avg_glucose_level</th>\n",
              "      <th>bmi</th>\n",
              "      <th>smoking_status</th>\n",
              "      <th>stroke</th>\n",
              "    </tr>\n",
              "  </thead>\n",
              "  <tbody>\n",
              "    <tr>\n",
              "      <th>0</th>\n",
              "      <td>9046</td>\n",
              "      <td>Male</td>\n",
              "      <td>67.0</td>\n",
              "      <td>0</td>\n",
              "      <td>1</td>\n",
              "      <td>Yes</td>\n",
              "      <td>Private</td>\n",
              "      <td>Urban</td>\n",
              "      <td>228.69</td>\n",
              "      <td>36.600000</td>\n",
              "      <td>formerly smoked</td>\n",
              "      <td>Yes</td>\n",
              "    </tr>\n",
              "    <tr>\n",
              "      <th>1</th>\n",
              "      <td>51676</td>\n",
              "      <td>Female</td>\n",
              "      <td>61.0</td>\n",
              "      <td>0</td>\n",
              "      <td>0</td>\n",
              "      <td>Yes</td>\n",
              "      <td>Self-employed</td>\n",
              "      <td>Rural</td>\n",
              "      <td>202.21</td>\n",
              "      <td>28.893237</td>\n",
              "      <td>never smoked</td>\n",
              "      <td>Yes</td>\n",
              "    </tr>\n",
              "    <tr>\n",
              "      <th>2</th>\n",
              "      <td>31112</td>\n",
              "      <td>Male</td>\n",
              "      <td>80.0</td>\n",
              "      <td>0</td>\n",
              "      <td>1</td>\n",
              "      <td>Yes</td>\n",
              "      <td>Private</td>\n",
              "      <td>Rural</td>\n",
              "      <td>105.92</td>\n",
              "      <td>32.500000</td>\n",
              "      <td>never smoked</td>\n",
              "      <td>Yes</td>\n",
              "    </tr>\n",
              "    <tr>\n",
              "      <th>3</th>\n",
              "      <td>60182</td>\n",
              "      <td>Female</td>\n",
              "      <td>49.0</td>\n",
              "      <td>0</td>\n",
              "      <td>0</td>\n",
              "      <td>Yes</td>\n",
              "      <td>Private</td>\n",
              "      <td>Urban</td>\n",
              "      <td>171.23</td>\n",
              "      <td>34.400000</td>\n",
              "      <td>smokes</td>\n",
              "      <td>Yes</td>\n",
              "    </tr>\n",
              "    <tr>\n",
              "      <th>4</th>\n",
              "      <td>1665</td>\n",
              "      <td>Female</td>\n",
              "      <td>79.0</td>\n",
              "      <td>1</td>\n",
              "      <td>0</td>\n",
              "      <td>Yes</td>\n",
              "      <td>Self-employed</td>\n",
              "      <td>Rural</td>\n",
              "      <td>174.12</td>\n",
              "      <td>24.000000</td>\n",
              "      <td>never smoked</td>\n",
              "      <td>Yes</td>\n",
              "    </tr>\n",
              "  </tbody>\n",
              "</table>\n",
              "</div>\n",
              "      <button class=\"colab-df-convert\" onclick=\"convertToInteractive('df-56325b1d-9b59-47bf-8f9a-14fc289f6ef9')\"\n",
              "              title=\"Convert this dataframe to an interactive table.\"\n",
              "              style=\"display:none;\">\n",
              "        \n",
              "  <svg xmlns=\"http://www.w3.org/2000/svg\" height=\"24px\"viewBox=\"0 0 24 24\"\n",
              "       width=\"24px\">\n",
              "    <path d=\"M0 0h24v24H0V0z\" fill=\"none\"/>\n",
              "    <path d=\"M18.56 5.44l.94 2.06.94-2.06 2.06-.94-2.06-.94-.94-2.06-.94 2.06-2.06.94zm-11 1L8.5 8.5l.94-2.06 2.06-.94-2.06-.94L8.5 2.5l-.94 2.06-2.06.94zm10 10l.94 2.06.94-2.06 2.06-.94-2.06-.94-.94-2.06-.94 2.06-2.06.94z\"/><path d=\"M17.41 7.96l-1.37-1.37c-.4-.4-.92-.59-1.43-.59-.52 0-1.04.2-1.43.59L10.3 9.45l-7.72 7.72c-.78.78-.78 2.05 0 2.83L4 21.41c.39.39.9.59 1.41.59.51 0 1.02-.2 1.41-.59l7.78-7.78 2.81-2.81c.8-.78.8-2.07 0-2.86zM5.41 20L4 18.59l7.72-7.72 1.47 1.35L5.41 20z\"/>\n",
              "  </svg>\n",
              "      </button>\n",
              "      \n",
              "  <style>\n",
              "    .colab-df-container {\n",
              "      display:flex;\n",
              "      flex-wrap:wrap;\n",
              "      gap: 12px;\n",
              "    }\n",
              "\n",
              "    .colab-df-convert {\n",
              "      background-color: #E8F0FE;\n",
              "      border: none;\n",
              "      border-radius: 50%;\n",
              "      cursor: pointer;\n",
              "      display: none;\n",
              "      fill: #1967D2;\n",
              "      height: 32px;\n",
              "      padding: 0 0 0 0;\n",
              "      width: 32px;\n",
              "    }\n",
              "\n",
              "    .colab-df-convert:hover {\n",
              "      background-color: #E2EBFA;\n",
              "      box-shadow: 0px 1px 2px rgba(60, 64, 67, 0.3), 0px 1px 3px 1px rgba(60, 64, 67, 0.15);\n",
              "      fill: #174EA6;\n",
              "    }\n",
              "\n",
              "    [theme=dark] .colab-df-convert {\n",
              "      background-color: #3B4455;\n",
              "      fill: #D2E3FC;\n",
              "    }\n",
              "\n",
              "    [theme=dark] .colab-df-convert:hover {\n",
              "      background-color: #434B5C;\n",
              "      box-shadow: 0px 1px 3px 1px rgba(0, 0, 0, 0.15);\n",
              "      filter: drop-shadow(0px 1px 2px rgba(0, 0, 0, 0.3));\n",
              "      fill: #FFFFFF;\n",
              "    }\n",
              "  </style>\n",
              "\n",
              "      <script>\n",
              "        const buttonEl =\n",
              "          document.querySelector('#df-56325b1d-9b59-47bf-8f9a-14fc289f6ef9 button.colab-df-convert');\n",
              "        buttonEl.style.display =\n",
              "          google.colab.kernel.accessAllowed ? 'block' : 'none';\n",
              "\n",
              "        async function convertToInteractive(key) {\n",
              "          const element = document.querySelector('#df-56325b1d-9b59-47bf-8f9a-14fc289f6ef9');\n",
              "          const dataTable =\n",
              "            await google.colab.kernel.invokeFunction('convertToInteractive',\n",
              "                                                     [key], {});\n",
              "          if (!dataTable) return;\n",
              "\n",
              "          const docLinkHtml = 'Like what you see? Visit the ' +\n",
              "            '<a target=\"_blank\" href=https://colab.research.google.com/notebooks/data_table.ipynb>data table notebook</a>'\n",
              "            + ' to learn more about interactive tables.';\n",
              "          element.innerHTML = '';\n",
              "          dataTable['output_type'] = 'display_data';\n",
              "          await google.colab.output.renderOutput(dataTable, element);\n",
              "          const docLink = document.createElement('div');\n",
              "          docLink.innerHTML = docLinkHtml;\n",
              "          element.appendChild(docLink);\n",
              "        }\n",
              "      </script>\n",
              "    </div>\n",
              "  </div>\n",
              "  "
            ]
          },
          "metadata": {},
          "execution_count": 126
        }
      ]
    },
    {
      "cell_type": "code",
      "source": [
        "fig = px.histogram(data1, x= 'age', marginal=\"box\")\n",
        "fig.show()"
      ],
      "metadata": {
        "colab": {
          "base_uri": "https://localhost:8080/",
          "height": 542
        },
        "id": "Yrb1jl7XJ6W9",
        "outputId": "077de603-81da-4ad5-903d-afc1962f276e"
      },
      "execution_count": null,
      "outputs": [
        {
          "output_type": "display_data",
          "data": {
            "text/html": [
              "<html>\n",
              "<head><meta charset=\"utf-8\" /></head>\n",
              "<body>\n",
              "    <div>            <script src=\"https://cdnjs.cloudflare.com/ajax/libs/mathjax/2.7.5/MathJax.js?config=TeX-AMS-MML_SVG\"></script><script type=\"text/javascript\">if (window.MathJax) {MathJax.Hub.Config({SVG: {font: \"STIX-Web\"}});}</script>                <script type=\"text/javascript\">window.PlotlyConfig = {MathJaxConfig: 'local'};</script>\n",
              "        <script src=\"https://cdn.plot.ly/plotly-2.8.3.min.js\"></script>                <div id=\"eca7f512-856f-48b5-89ef-b811575c9177\" class=\"plotly-graph-div\" style=\"height:525px; width:100%;\"></div>            <script type=\"text/javascript\">                                    window.PLOTLYENV=window.PLOTLYENV || {};                                    if (document.getElementById(\"eca7f512-856f-48b5-89ef-b811575c9177\")) {                    Plotly.newPlot(                        \"eca7f512-856f-48b5-89ef-b811575c9177\",                        [{\"alignmentgroup\":\"True\",\"bingroup\":\"x\",\"hovertemplate\":\"age=%{x}<br>count=%{y}<extra></extra>\",\"legendgroup\":\"\",\"marker\":{\"color\":\"#636efa\",\"pattern\":{\"shape\":\"\"}},\"name\":\"\",\"offsetgroup\":\"\",\"orientation\":\"v\",\"showlegend\":false,\"x\":[67.0,61.0,80.0,49.0,79.0,81.0,74.0,69.0,59.0,78.0,81.0,61.0,54.0,78.0,79.0,50.0,64.0,75.0,60.0,57.0,71.0,52.0,79.0,82.0,71.0,80.0,65.0,58.0,69.0,59.0,57.0,42.0,82.0,80.0,48.0,82.0,74.0,72.0,58.0,49.0,78.0,54.0,82.0,63.0,60.0,76.0,75.0,58.0,81.0,39.0,76.0,78.0,79.0,77.0,63.0,63.0,82.0,78.0,73.0,54.0,56.0,80.0,67.0,45.0,75.0,78.0,70.0,76.0,59.0,80.0,76.0,67.0,66.0,63.0,52.0,80.0,80.0,79.0,51.0,43.0,59.0,66.0,79.0,68.0,58.0,54.0,61.0,70.0,47.0,74.0,79.0,81.0,57.0,80.0,45.0,78.0,70.0,58.0,57.0,69.0,64.0,77.0,74.0,81.0,57.0,58.0,50.0,54.0,79.0,53.0,79.0,80.0,76.0,45.0,68.0,71.0,61.0,74.0,38.0,77.0,58.0,53.0,80.0,56.0,72.0,72.0,78.0,80.0,82.0,75.0,73.0,78.0,69.0,38.0,68.0,71.0,76.0,76.0,76.0,75.0,82.0,59.0,74.0,69.0,72.0,66.0,65.0,78.0,57.0,70.0,79.0,68.0,80.0,68.0,55.0,77.0,50.0,57.0,71.0,81.0,76.0,71.0,1.32,78.0,70.0,78.0,56.0,79.0,79.0,81.0,64.0,79.0,60.0,80.0,78.0,72.0,80.0,78.0,80.0,81.0,46.0,59.0,32.0,77.0,61.0,63.0,63.0,82.0,82.0,61.0,65.0,51.0,59.0,68.0,72.0,59.0,70.0,69.0,79.0,74.0,74.0,80.0,77.0,78.0,54.0,78.0,81.0,78.0,78.0,63.0,39.0,51.0,63.0,48.0,81.0,79.0,78.0,55.0,76.0,73.0,81.0,79.0,63.0,81.0,49.0,57.0,81.0,74.0,39.0,80.0,81.0,79.0,73.0,77.0,78.0,68.0,57.0,77.0,51.0,60.0,66.0,57.0,68.0,68.0,57.0,14.0,75.0,71.0,78.0],\"xaxis\":\"x\",\"yaxis\":\"y\",\"type\":\"histogram\"},{\"alignmentgroup\":\"True\",\"hovertemplate\":\"age=%{x}<extra></extra>\",\"legendgroup\":\"\",\"marker\":{\"color\":\"#636efa\"},\"name\":\"\",\"notched\":true,\"offsetgroup\":\"\",\"showlegend\":false,\"x\":[67.0,61.0,80.0,49.0,79.0,81.0,74.0,69.0,59.0,78.0,81.0,61.0,54.0,78.0,79.0,50.0,64.0,75.0,60.0,57.0,71.0,52.0,79.0,82.0,71.0,80.0,65.0,58.0,69.0,59.0,57.0,42.0,82.0,80.0,48.0,82.0,74.0,72.0,58.0,49.0,78.0,54.0,82.0,63.0,60.0,76.0,75.0,58.0,81.0,39.0,76.0,78.0,79.0,77.0,63.0,63.0,82.0,78.0,73.0,54.0,56.0,80.0,67.0,45.0,75.0,78.0,70.0,76.0,59.0,80.0,76.0,67.0,66.0,63.0,52.0,80.0,80.0,79.0,51.0,43.0,59.0,66.0,79.0,68.0,58.0,54.0,61.0,70.0,47.0,74.0,79.0,81.0,57.0,80.0,45.0,78.0,70.0,58.0,57.0,69.0,64.0,77.0,74.0,81.0,57.0,58.0,50.0,54.0,79.0,53.0,79.0,80.0,76.0,45.0,68.0,71.0,61.0,74.0,38.0,77.0,58.0,53.0,80.0,56.0,72.0,72.0,78.0,80.0,82.0,75.0,73.0,78.0,69.0,38.0,68.0,71.0,76.0,76.0,76.0,75.0,82.0,59.0,74.0,69.0,72.0,66.0,65.0,78.0,57.0,70.0,79.0,68.0,80.0,68.0,55.0,77.0,50.0,57.0,71.0,81.0,76.0,71.0,1.32,78.0,70.0,78.0,56.0,79.0,79.0,81.0,64.0,79.0,60.0,80.0,78.0,72.0,80.0,78.0,80.0,81.0,46.0,59.0,32.0,77.0,61.0,63.0,63.0,82.0,82.0,61.0,65.0,51.0,59.0,68.0,72.0,59.0,70.0,69.0,79.0,74.0,74.0,80.0,77.0,78.0,54.0,78.0,81.0,78.0,78.0,63.0,39.0,51.0,63.0,48.0,81.0,79.0,78.0,55.0,76.0,73.0,81.0,79.0,63.0,81.0,49.0,57.0,81.0,74.0,39.0,80.0,81.0,79.0,73.0,77.0,78.0,68.0,57.0,77.0,51.0,60.0,66.0,57.0,68.0,68.0,57.0,14.0,75.0,71.0,78.0],\"xaxis\":\"x2\",\"yaxis\":\"y2\",\"type\":\"box\"}],                        {\"template\":{\"data\":{\"bar\":[{\"error_x\":{\"color\":\"#2a3f5f\"},\"error_y\":{\"color\":\"#2a3f5f\"},\"marker\":{\"line\":{\"color\":\"#E5ECF6\",\"width\":0.5},\"pattern\":{\"fillmode\":\"overlay\",\"size\":10,\"solidity\":0.2}},\"type\":\"bar\"}],\"barpolar\":[{\"marker\":{\"line\":{\"color\":\"#E5ECF6\",\"width\":0.5},\"pattern\":{\"fillmode\":\"overlay\",\"size\":10,\"solidity\":0.2}},\"type\":\"barpolar\"}],\"carpet\":[{\"aaxis\":{\"endlinecolor\":\"#2a3f5f\",\"gridcolor\":\"white\",\"linecolor\":\"white\",\"minorgridcolor\":\"white\",\"startlinecolor\":\"#2a3f5f\"},\"baxis\":{\"endlinecolor\":\"#2a3f5f\",\"gridcolor\":\"white\",\"linecolor\":\"white\",\"minorgridcolor\":\"white\",\"startlinecolor\":\"#2a3f5f\"},\"type\":\"carpet\"}],\"choropleth\":[{\"colorbar\":{\"outlinewidth\":0,\"ticks\":\"\"},\"type\":\"choropleth\"}],\"contour\":[{\"colorbar\":{\"outlinewidth\":0,\"ticks\":\"\"},\"colorscale\":[[0.0,\"#0d0887\"],[0.1111111111111111,\"#46039f\"],[0.2222222222222222,\"#7201a8\"],[0.3333333333333333,\"#9c179e\"],[0.4444444444444444,\"#bd3786\"],[0.5555555555555556,\"#d8576b\"],[0.6666666666666666,\"#ed7953\"],[0.7777777777777778,\"#fb9f3a\"],[0.8888888888888888,\"#fdca26\"],[1.0,\"#f0f921\"]],\"type\":\"contour\"}],\"contourcarpet\":[{\"colorbar\":{\"outlinewidth\":0,\"ticks\":\"\"},\"type\":\"contourcarpet\"}],\"heatmap\":[{\"colorbar\":{\"outlinewidth\":0,\"ticks\":\"\"},\"colorscale\":[[0.0,\"#0d0887\"],[0.1111111111111111,\"#46039f\"],[0.2222222222222222,\"#7201a8\"],[0.3333333333333333,\"#9c179e\"],[0.4444444444444444,\"#bd3786\"],[0.5555555555555556,\"#d8576b\"],[0.6666666666666666,\"#ed7953\"],[0.7777777777777778,\"#fb9f3a\"],[0.8888888888888888,\"#fdca26\"],[1.0,\"#f0f921\"]],\"type\":\"heatmap\"}],\"heatmapgl\":[{\"colorbar\":{\"outlinewidth\":0,\"ticks\":\"\"},\"colorscale\":[[0.0,\"#0d0887\"],[0.1111111111111111,\"#46039f\"],[0.2222222222222222,\"#7201a8\"],[0.3333333333333333,\"#9c179e\"],[0.4444444444444444,\"#bd3786\"],[0.5555555555555556,\"#d8576b\"],[0.6666666666666666,\"#ed7953\"],[0.7777777777777778,\"#fb9f3a\"],[0.8888888888888888,\"#fdca26\"],[1.0,\"#f0f921\"]],\"type\":\"heatmapgl\"}],\"histogram\":[{\"marker\":{\"pattern\":{\"fillmode\":\"overlay\",\"size\":10,\"solidity\":0.2}},\"type\":\"histogram\"}],\"histogram2d\":[{\"colorbar\":{\"outlinewidth\":0,\"ticks\":\"\"},\"colorscale\":[[0.0,\"#0d0887\"],[0.1111111111111111,\"#46039f\"],[0.2222222222222222,\"#7201a8\"],[0.3333333333333333,\"#9c179e\"],[0.4444444444444444,\"#bd3786\"],[0.5555555555555556,\"#d8576b\"],[0.6666666666666666,\"#ed7953\"],[0.7777777777777778,\"#fb9f3a\"],[0.8888888888888888,\"#fdca26\"],[1.0,\"#f0f921\"]],\"type\":\"histogram2d\"}],\"histogram2dcontour\":[{\"colorbar\":{\"outlinewidth\":0,\"ticks\":\"\"},\"colorscale\":[[0.0,\"#0d0887\"],[0.1111111111111111,\"#46039f\"],[0.2222222222222222,\"#7201a8\"],[0.3333333333333333,\"#9c179e\"],[0.4444444444444444,\"#bd3786\"],[0.5555555555555556,\"#d8576b\"],[0.6666666666666666,\"#ed7953\"],[0.7777777777777778,\"#fb9f3a\"],[0.8888888888888888,\"#fdca26\"],[1.0,\"#f0f921\"]],\"type\":\"histogram2dcontour\"}],\"mesh3d\":[{\"colorbar\":{\"outlinewidth\":0,\"ticks\":\"\"},\"type\":\"mesh3d\"}],\"parcoords\":[{\"line\":{\"colorbar\":{\"outlinewidth\":0,\"ticks\":\"\"}},\"type\":\"parcoords\"}],\"pie\":[{\"automargin\":true,\"type\":\"pie\"}],\"scatter\":[{\"marker\":{\"colorbar\":{\"outlinewidth\":0,\"ticks\":\"\"}},\"type\":\"scatter\"}],\"scatter3d\":[{\"line\":{\"colorbar\":{\"outlinewidth\":0,\"ticks\":\"\"}},\"marker\":{\"colorbar\":{\"outlinewidth\":0,\"ticks\":\"\"}},\"type\":\"scatter3d\"}],\"scattercarpet\":[{\"marker\":{\"colorbar\":{\"outlinewidth\":0,\"ticks\":\"\"}},\"type\":\"scattercarpet\"}],\"scattergeo\":[{\"marker\":{\"colorbar\":{\"outlinewidth\":0,\"ticks\":\"\"}},\"type\":\"scattergeo\"}],\"scattergl\":[{\"marker\":{\"colorbar\":{\"outlinewidth\":0,\"ticks\":\"\"}},\"type\":\"scattergl\"}],\"scattermapbox\":[{\"marker\":{\"colorbar\":{\"outlinewidth\":0,\"ticks\":\"\"}},\"type\":\"scattermapbox\"}],\"scatterpolar\":[{\"marker\":{\"colorbar\":{\"outlinewidth\":0,\"ticks\":\"\"}},\"type\":\"scatterpolar\"}],\"scatterpolargl\":[{\"marker\":{\"colorbar\":{\"outlinewidth\":0,\"ticks\":\"\"}},\"type\":\"scatterpolargl\"}],\"scatterternary\":[{\"marker\":{\"colorbar\":{\"outlinewidth\":0,\"ticks\":\"\"}},\"type\":\"scatterternary\"}],\"surface\":[{\"colorbar\":{\"outlinewidth\":0,\"ticks\":\"\"},\"colorscale\":[[0.0,\"#0d0887\"],[0.1111111111111111,\"#46039f\"],[0.2222222222222222,\"#7201a8\"],[0.3333333333333333,\"#9c179e\"],[0.4444444444444444,\"#bd3786\"],[0.5555555555555556,\"#d8576b\"],[0.6666666666666666,\"#ed7953\"],[0.7777777777777778,\"#fb9f3a\"],[0.8888888888888888,\"#fdca26\"],[1.0,\"#f0f921\"]],\"type\":\"surface\"}],\"table\":[{\"cells\":{\"fill\":{\"color\":\"#EBF0F8\"},\"line\":{\"color\":\"white\"}},\"header\":{\"fill\":{\"color\":\"#C8D4E3\"},\"line\":{\"color\":\"white\"}},\"type\":\"table\"}]},\"layout\":{\"annotationdefaults\":{\"arrowcolor\":\"#2a3f5f\",\"arrowhead\":0,\"arrowwidth\":1},\"autotypenumbers\":\"strict\",\"coloraxis\":{\"colorbar\":{\"outlinewidth\":0,\"ticks\":\"\"}},\"colorscale\":{\"diverging\":[[0,\"#8e0152\"],[0.1,\"#c51b7d\"],[0.2,\"#de77ae\"],[0.3,\"#f1b6da\"],[0.4,\"#fde0ef\"],[0.5,\"#f7f7f7\"],[0.6,\"#e6f5d0\"],[0.7,\"#b8e186\"],[0.8,\"#7fbc41\"],[0.9,\"#4d9221\"],[1,\"#276419\"]],\"sequential\":[[0.0,\"#0d0887\"],[0.1111111111111111,\"#46039f\"],[0.2222222222222222,\"#7201a8\"],[0.3333333333333333,\"#9c179e\"],[0.4444444444444444,\"#bd3786\"],[0.5555555555555556,\"#d8576b\"],[0.6666666666666666,\"#ed7953\"],[0.7777777777777778,\"#fb9f3a\"],[0.8888888888888888,\"#fdca26\"],[1.0,\"#f0f921\"]],\"sequentialminus\":[[0.0,\"#0d0887\"],[0.1111111111111111,\"#46039f\"],[0.2222222222222222,\"#7201a8\"],[0.3333333333333333,\"#9c179e\"],[0.4444444444444444,\"#bd3786\"],[0.5555555555555556,\"#d8576b\"],[0.6666666666666666,\"#ed7953\"],[0.7777777777777778,\"#fb9f3a\"],[0.8888888888888888,\"#fdca26\"],[1.0,\"#f0f921\"]]},\"colorway\":[\"#636efa\",\"#EF553B\",\"#00cc96\",\"#ab63fa\",\"#FFA15A\",\"#19d3f3\",\"#FF6692\",\"#B6E880\",\"#FF97FF\",\"#FECB52\"],\"font\":{\"color\":\"#2a3f5f\"},\"geo\":{\"bgcolor\":\"white\",\"lakecolor\":\"white\",\"landcolor\":\"#E5ECF6\",\"showlakes\":true,\"showland\":true,\"subunitcolor\":\"white\"},\"hoverlabel\":{\"align\":\"left\"},\"hovermode\":\"closest\",\"mapbox\":{\"style\":\"light\"},\"paper_bgcolor\":\"white\",\"plot_bgcolor\":\"#E5ECF6\",\"polar\":{\"angularaxis\":{\"gridcolor\":\"white\",\"linecolor\":\"white\",\"ticks\":\"\"},\"bgcolor\":\"#E5ECF6\",\"radialaxis\":{\"gridcolor\":\"white\",\"linecolor\":\"white\",\"ticks\":\"\"}},\"scene\":{\"xaxis\":{\"backgroundcolor\":\"#E5ECF6\",\"gridcolor\":\"white\",\"gridwidth\":2,\"linecolor\":\"white\",\"showbackground\":true,\"ticks\":\"\",\"zerolinecolor\":\"white\"},\"yaxis\":{\"backgroundcolor\":\"#E5ECF6\",\"gridcolor\":\"white\",\"gridwidth\":2,\"linecolor\":\"white\",\"showbackground\":true,\"ticks\":\"\",\"zerolinecolor\":\"white\"},\"zaxis\":{\"backgroundcolor\":\"#E5ECF6\",\"gridcolor\":\"white\",\"gridwidth\":2,\"linecolor\":\"white\",\"showbackground\":true,\"ticks\":\"\",\"zerolinecolor\":\"white\"}},\"shapedefaults\":{\"line\":{\"color\":\"#2a3f5f\"}},\"ternary\":{\"aaxis\":{\"gridcolor\":\"white\",\"linecolor\":\"white\",\"ticks\":\"\"},\"baxis\":{\"gridcolor\":\"white\",\"linecolor\":\"white\",\"ticks\":\"\"},\"bgcolor\":\"#E5ECF6\",\"caxis\":{\"gridcolor\":\"white\",\"linecolor\":\"white\",\"ticks\":\"\"}},\"title\":{\"x\":0.05},\"xaxis\":{\"automargin\":true,\"gridcolor\":\"white\",\"linecolor\":\"white\",\"ticks\":\"\",\"title\":{\"standoff\":15},\"zerolinecolor\":\"white\",\"zerolinewidth\":2},\"yaxis\":{\"automargin\":true,\"gridcolor\":\"white\",\"linecolor\":\"white\",\"ticks\":\"\",\"title\":{\"standoff\":15},\"zerolinecolor\":\"white\",\"zerolinewidth\":2}}},\"xaxis\":{\"anchor\":\"y\",\"domain\":[0.0,1.0],\"title\":{\"text\":\"age\"}},\"yaxis\":{\"anchor\":\"x\",\"domain\":[0.0,0.8316],\"title\":{\"text\":\"count\"}},\"xaxis2\":{\"anchor\":\"y2\",\"domain\":[0.0,1.0],\"matches\":\"x\",\"showticklabels\":false,\"showgrid\":true},\"yaxis2\":{\"anchor\":\"x2\",\"domain\":[0.8416,1.0],\"matches\":\"y2\",\"showticklabels\":false,\"showline\":false,\"ticks\":\"\",\"showgrid\":false},\"legend\":{\"tracegroupgap\":0},\"margin\":{\"t\":60},\"barmode\":\"relative\"},                        {\"responsive\": true}                    ).then(function(){\n",
              "                            \n",
              "var gd = document.getElementById('eca7f512-856f-48b5-89ef-b811575c9177');\n",
              "var x = new MutationObserver(function (mutations, observer) {{\n",
              "        var display = window.getComputedStyle(gd).display;\n",
              "        if (!display || display === 'none') {{\n",
              "            console.log([gd, 'removed!']);\n",
              "            Plotly.purge(gd);\n",
              "            observer.disconnect();\n",
              "        }}\n",
              "}});\n",
              "\n",
              "// Listen for the removal of the full notebook cells\n",
              "var notebookContainer = gd.closest('#notebook-container');\n",
              "if (notebookContainer) {{\n",
              "    x.observe(notebookContainer, {childList: true});\n",
              "}}\n",
              "\n",
              "// Listen for the clearing of the current output cell\n",
              "var outputEl = gd.closest('.output');\n",
              "if (outputEl) {{\n",
              "    x.observe(outputEl, {childList: true});\n",
              "}}\n",
              "\n",
              "                        })                };                            </script>        </div>\n",
              "</body>\n",
              "</html>"
            ]
          },
          "metadata": {}
        }
      ]
    },
    {
      "cell_type": "code",
      "source": [
        "r1=data1.groupby('gender').count()['id']\n",
        "r1"
      ],
      "metadata": {
        "colab": {
          "base_uri": "https://localhost:8080/"
        },
        "id": "BLkp__ZbJ6UI",
        "outputId": "ad8c857e-9216-423c-f621-7fba09615aa3"
      },
      "execution_count": null,
      "outputs": [
        {
          "output_type": "execute_result",
          "data": {
            "text/plain": [
              "gender\n",
              "Female    141\n",
              "Male      108\n",
              "Name: id, dtype: int64"
            ]
          },
          "metadata": {},
          "execution_count": 128
        }
      ]
    },
    {
      "cell_type": "markdown",
      "source": [
        "Stroke Patient's Age Distribution on Gender Basis"
      ],
      "metadata": {
        "id": "ifnhcn3mKqeR"
      }
    },
    {
      "cell_type": "code",
      "source": [
        "m_data=data1[data1[\"gender\"]=='Male']\n",
        "f_data=data1[data1[\"gender\"]=='Female'] "
      ],
      "metadata": {
        "id": "ooYnDZ1yJ6Q2"
      },
      "execution_count": null,
      "outputs": []
    },
    {
      "cell_type": "code",
      "source": [
        "sns.set_theme(style = 'darkgrid')\n",
        "fig, ((ax1, ax2)) = plt.subplots(1,2,figsize=(14,3))\n",
        "ax1.title.set_text('Gender - Male')\n",
        "sns.histplot(data=m_data,x=\"age\",ax=ax1,)\n",
        "sns.histplot(data=f_data,x=\"age\",ax=ax2)\n",
        "ax2.title.set_text('Gender - Female')"
      ],
      "metadata": {
        "colab": {
          "base_uri": "https://localhost:8080/",
          "height": 246
        },
        "id": "sXcZ1HfJJ6NU",
        "outputId": "7d16806d-fc5a-4c92-fb5d-01265ee5a787"
      },
      "execution_count": null,
      "outputs": [
        {
          "output_type": "display_data",
          "data": {
            "text/plain": [
              "<Figure size 1008x216 with 2 Axes>"
            ],
            "image/png": "[encoded data removed]"
          },
          "metadata": {}
        }
      ]
    },
    {
      "cell_type": "code",
      "source": [
        "s_data=data[data[\"stroke\"]=='Yes'] \n",
        "n_data=data[data[\"stroke\"]=='No'] "
      ],
      "metadata": {
        "id": "v7cS3VrzJ6Jp"
      },
      "execution_count": null,
      "outputs": []
    },
    {
      "cell_type": "markdown",
      "source": [
        "Hypertension"
      ],
      "metadata": {
        "id": "NIeFhuQdK706"
      }
    },
    {
      "cell_type": "code",
      "source": [
        "sns.set_theme(style = 'darkgrid')\n",
        "fig, ((ax1, ax2)) = plt.subplots(1,2,figsize=(14,3))\n",
        "sns.histplot(data=s_data,x=\"hypertension\",ax=ax1)\n",
        "ax1.title.set_text('Patients with stroke')\n",
        "sns.histplot(data=n_data,x=\"hypertension\",ax=ax2)\n",
        "ax2.title.set_text('Patients without stroke')"
      ],
      "metadata": {
        "colab": {
          "base_uri": "https://localhost:8080/",
          "height": 246
        },
        "id": "DUDJ-OHIIdRi",
        "outputId": "3a969f1f-b40d-4da0-9eec-681bf463220b"
      },
      "execution_count": null,
      "outputs": [
        {
          "output_type": "display_data",
          "data": {
            "text/plain": [
              "<Figure size 1008x216 with 2 Axes>"
            ],
            "image/png": "[encoded data removed]"
          },
          "metadata": {}
        }
      ]
    },
    {
      "cell_type": "markdown",
      "source": [
        "Heart Disease"
      ],
      "metadata": {
        "id": "Fx-xnyHuLDHD"
      }
    },
    {
      "cell_type": "code",
      "source": [
        "figstroke = px.histogram(s_data, x= 'heart_disease', title='Patients with stroke')\n",
        "figstroke.show()\n",
        "figwithoutstroke = px.histogram(n_data, x= 'heart_disease', title='Patients without stroke')\n",
        "figwithoutstroke.show()\n",
        "\n"
      ],
      "metadata": {
        "colab": {
          "base_uri": "https://localhost:8080/",
          "height": 1000
        },
        "id": "dCY4KJWjIdUi",
        "outputId": "873ec299-6157-433c-f318-2ed50dc831f3"
      },
      "execution_count": null,
      "outputs": [
        {
          "output_type": "display_data",
          "data": {
            "text/html": [
              "<html>\n",
              "<head><meta charset=\"utf-8\" /></head>\n",
              "<body>\n",
              "    <div>            <script src=\"https://cdnjs.cloudflare.com/ajax/libs/mathjax/2.7.5/MathJax.js?config=TeX-AMS-MML_SVG\"></script><script type=\"text/javascript\">if (window.MathJax) {MathJax.Hub.Config({SVG: {font: \"STIX-Web\"}});}</script>                <script type=\"text/javascript\">window.PlotlyConfig = {MathJaxConfig: 'local'};</script>\n",
              "        <script src=\"https://cdn.plot.ly/plotly-2.8.3.min.js\"></script>                <div id=\"ce2caca3-9514-4ffd-b048-4e36abcffe23\" class=\"plotly-graph-div\" style=\"height:525px; width:100%;\"></div>            <script type=\"text/javascript\">                                    window.PLOTLYENV=window.PLOTLYENV || {};                                    if (document.getElementById(\"ce2caca3-9514-4ffd-b048-4e36abcffe23\")) {                    Plotly.newPlot(                        \"ce2caca3-9514-4ffd-b048-4e36abcffe23\",                        [{\"alignmentgroup\":\"True\",\"bingroup\":\"x\",\"hovertemplate\":\"heart_disease=%{x}<br>count=%{y}<extra></extra>\",\"legendgroup\":\"\",\"marker\":{\"color\":\"#636efa\",\"pattern\":{\"shape\":\"\"}},\"name\":\"\",\"offsetgroup\":\"\",\"orientation\":\"v\",\"showlegend\":false,\"x\":[1,0,1,0,0,0,1,0,0,0,0,1,0,1,1,0,1,0,0,1,0,0,0,1,0,0,0,0,1,0,0,0,0,1,0,1,0,0,0,0,0,0,1,0,0,0,1,0,0,0,0,0,1,0,0,1,0,0,0,0,0,0,0,0,0,0,0,0,0,0,0,0,0,0,0,1,0,0,0,0,0,0,0,0,0,0,1,1,0,0,1,0,0,0,0,0,0,1,0,0,1,0,0,1,0,0,0,0,0,0,1,1,0,0,0,1,0,0,0,0,0,0,0,0,0,0,0,0,0,0,0,0,0,0,0,0,0,0,0,0,1,0,0,1,0,0,0,0,0,1,0,1,0,0,0,1,0,0,0,0,0,1,0,0,0,0,0,0,0,0,0,1,0,0,0,0,0,0,0,0,0,0,0,0,1,0,1,1,0,1,0,0,0,1,0,0,0,0,0,0,0,1,0,0,0,0,0,0,0,0,0,0,0,0,0,1,0,1,1,1,1,0,0,0,0,1,0,0,0,0,0,0,0,0,0,0,0,0,0,1,0,0,0,1,0,0,0,0,0],\"xaxis\":\"x\",\"yaxis\":\"y\",\"type\":\"histogram\"}],                        {\"template\":{\"data\":{\"bar\":[{\"error_x\":{\"color\":\"#2a3f5f\"},\"error_y\":{\"color\":\"#2a3f5f\"},\"marker\":{\"line\":{\"color\":\"#E5ECF6\",\"width\":0.5},\"pattern\":{\"fillmode\":\"overlay\",\"size\":10,\"solidity\":0.2}},\"type\":\"bar\"}],\"barpolar\":[{\"marker\":{\"line\":{\"color\":\"#E5ECF6\",\"width\":0.5},\"pattern\":{\"fillmode\":\"overlay\",\"size\":10,\"solidity\":0.2}},\"type\":\"barpolar\"}],\"carpet\":[{\"aaxis\":{\"endlinecolor\":\"#2a3f5f\",\"gridcolor\":\"white\",\"linecolor\":\"white\",\"minorgridcolor\":\"white\",\"startlinecolor\":\"#2a3f5f\"},\"baxis\":{\"endlinecolor\":\"#2a3f5f\",\"gridcolor\":\"white\",\"linecolor\":\"white\",\"minorgridcolor\":\"white\",\"startlinecolor\":\"#2a3f5f\"},\"type\":\"carpet\"}],\"choropleth\":[{\"colorbar\":{\"outlinewidth\":0,\"ticks\":\"\"},\"type\":\"choropleth\"}],\"contour\":[{\"colorbar\":{\"outlinewidth\":0,\"ticks\":\"\"},\"colorscale\":[[0.0,\"#0d0887\"],[0.1111111111111111,\"#46039f\"],[0.2222222222222222,\"#7201a8\"],[0.3333333333333333,\"#9c179e\"],[0.4444444444444444,\"#bd3786\"],[0.5555555555555556,\"#d8576b\"],[0.6666666666666666,\"#ed7953\"],[0.7777777777777778,\"#fb9f3a\"],[0.8888888888888888,\"#fdca26\"],[1.0,\"#f0f921\"]],\"type\":\"contour\"}],\"contourcarpet\":[{\"colorbar\":{\"outlinewidth\":0,\"ticks\":\"\"},\"type\":\"contourcarpet\"}],\"heatmap\":[{\"colorbar\":{\"outlinewidth\":0,\"ticks\":\"\"},\"colorscale\":[[0.0,\"#0d0887\"],[0.1111111111111111,\"#46039f\"],[0.2222222222222222,\"#7201a8\"],[0.3333333333333333,\"#9c179e\"],[0.4444444444444444,\"#bd3786\"],[0.5555555555555556,\"#d8576b\"],[0.6666666666666666,\"#ed7953\"],[0.7777777777777778,\"#fb9f3a\"],[0.8888888888888888,\"#fdca26\"],[1.0,\"#f0f921\"]],\"type\":\"heatmap\"}],\"heatmapgl\":[{\"colorbar\":{\"outlinewidth\":0,\"ticks\":\"\"},\"colorscale\":[[0.0,\"#0d0887\"],[0.1111111111111111,\"#46039f\"],[0.2222222222222222,\"#7201a8\"],[0.3333333333333333,\"#9c179e\"],[0.4444444444444444,\"#bd3786\"],[0.5555555555555556,\"#d8576b\"],[0.6666666666666666,\"#ed7953\"],[0.7777777777777778,\"#fb9f3a\"],[0.8888888888888888,\"#fdca26\"],[1.0,\"#f0f921\"]],\"type\":\"heatmapgl\"}],\"histogram\":[{\"marker\":{\"pattern\":{\"fillmode\":\"overlay\",\"size\":10,\"solidity\":0.2}},\"type\":\"histogram\"}],\"histogram2d\":[{\"colorbar\":{\"outlinewidth\":0,\"ticks\":\"\"},\"colorscale\":[[0.0,\"#0d0887\"],[0.1111111111111111,\"#46039f\"],[0.2222222222222222,\"#7201a8\"],[0.3333333333333333,\"#9c179e\"],[0.4444444444444444,\"#bd3786\"],[0.5555555555555556,\"#d8576b\"],[0.6666666666666666,\"#ed7953\"],[0.7777777777777778,\"#fb9f3a\"],[0.8888888888888888,\"#fdca26\"],[1.0,\"#f0f921\"]],\"type\":\"histogram2d\"}],\"histogram2dcontour\":[{\"colorbar\":{\"outlinewidth\":0,\"ticks\":\"\"},\"colorscale\":[[0.0,\"#0d0887\"],[0.1111111111111111,\"#46039f\"],[0.2222222222222222,\"#7201a8\"],[0.3333333333333333,\"#9c179e\"],[0.4444444444444444,\"#bd3786\"],[0.5555555555555556,\"#d8576b\"],[0.6666666666666666,\"#ed7953\"],[0.7777777777777778,\"#fb9f3a\"],[0.8888888888888888,\"#fdca26\"],[1.0,\"#f0f921\"]],\"type\":\"histogram2dcontour\"}],\"mesh3d\":[{\"colorbar\":{\"outlinewidth\":0,\"ticks\":\"\"},\"type\":\"mesh3d\"}],\"parcoords\":[{\"line\":{\"colorbar\":{\"outlinewidth\":0,\"ticks\":\"\"}},\"type\":\"parcoords\"}],\"pie\":[{\"automargin\":true,\"type\":\"pie\"}],\"scatter\":[{\"marker\":{\"colorbar\":{\"outlinewidth\":0,\"ticks\":\"\"}},\"type\":\"scatter\"}],\"scatter3d\":[{\"line\":{\"colorbar\":{\"outlinewidth\":0,\"ticks\":\"\"}},\"marker\":{\"colorbar\":{\"outlinewidth\":0,\"ticks\":\"\"}},\"type\":\"scatter3d\"}],\"scattercarpet\":[{\"marker\":{\"colorbar\":{\"outlinewidth\":0,\"ticks\":\"\"}},\"type\":\"scattercarpet\"}],\"scattergeo\":[{\"marker\":{\"colorbar\":{\"outlinewidth\":0,\"ticks\":\"\"}},\"type\":\"scattergeo\"}],\"scattergl\":[{\"marker\":{\"colorbar\":{\"outlinewidth\":0,\"ticks\":\"\"}},\"type\":\"scattergl\"}],\"scattermapbox\":[{\"marker\":{\"colorbar\":{\"outlinewidth\":0,\"ticks\":\"\"}},\"type\":\"scattermapbox\"}],\"scatterpolar\":[{\"marker\":{\"colorbar\":{\"outlinewidth\":0,\"ticks\":\"\"}},\"type\":\"scatterpolar\"}],\"scatterpolargl\":[{\"marker\":{\"colorbar\":{\"outlinewidth\":0,\"ticks\":\"\"}},\"type\":\"scatterpolargl\"}],\"scatterternary\":[{\"marker\":{\"colorbar\":{\"outlinewidth\":0,\"ticks\":\"\"}},\"type\":\"scatterternary\"}],\"surface\":[{\"colorbar\":{\"outlinewidth\":0,\"ticks\":\"\"},\"colorscale\":[[0.0,\"#0d0887\"],[0.1111111111111111,\"#46039f\"],[0.2222222222222222,\"#7201a8\"],[0.3333333333333333,\"#9c179e\"],[0.4444444444444444,\"#bd3786\"],[0.5555555555555556,\"#d8576b\"],[0.6666666666666666,\"#ed7953\"],[0.7777777777777778,\"#fb9f3a\"],[0.8888888888888888,\"#fdca26\"],[1.0,\"#f0f921\"]],\"type\":\"surface\"}],\"table\":[{\"cells\":{\"fill\":{\"color\":\"#EBF0F8\"},\"line\":{\"color\":\"white\"}},\"header\":{\"fill\":{\"color\":\"#C8D4E3\"},\"line\":{\"color\":\"white\"}},\"type\":\"table\"}]},\"layout\":{\"annotationdefaults\":{\"arrowcolor\":\"#2a3f5f\",\"arrowhead\":0,\"arrowwidth\":1},\"autotypenumbers\":\"strict\",\"coloraxis\":{\"colorbar\":{\"outlinewidth\":0,\"ticks\":\"\"}},\"colorscale\":{\"diverging\":[[0,\"#8e0152\"],[0.1,\"#c51b7d\"],[0.2,\"#de77ae\"],[0.3,\"#f1b6da\"],[0.4,\"#fde0ef\"],[0.5,\"#f7f7f7\"],[0.6,\"#e6f5d0\"],[0.7,\"#b8e186\"],[0.8,\"#7fbc41\"],[0.9,\"#4d9221\"],[1,\"#276419\"]],\"sequential\":[[0.0,\"#0d0887\"],[0.1111111111111111,\"#46039f\"],[0.2222222222222222,\"#7201a8\"],[0.3333333333333333,\"#9c179e\"],[0.4444444444444444,\"#bd3786\"],[0.5555555555555556,\"#d8576b\"],[0.6666666666666666,\"#ed7953\"],[0.7777777777777778,\"#fb9f3a\"],[0.8888888888888888,\"#fdca26\"],[1.0,\"#f0f921\"]],\"sequentialminus\":[[0.0,\"#0d0887\"],[0.1111111111111111,\"#46039f\"],[0.2222222222222222,\"#7201a8\"],[0.3333333333333333,\"#9c179e\"],[0.4444444444444444,\"#bd3786\"],[0.5555555555555556,\"#d8576b\"],[0.6666666666666666,\"#ed7953\"],[0.7777777777777778,\"#fb9f3a\"],[0.8888888888888888,\"#fdca26\"],[1.0,\"#f0f921\"]]},\"colorway\":[\"#636efa\",\"#EF553B\",\"#00cc96\",\"#ab63fa\",\"#FFA15A\",\"#19d3f3\",\"#FF6692\",\"#B6E880\",\"#FF97FF\",\"#FECB52\"],\"font\":{\"color\":\"#2a3f5f\"},\"geo\":{\"bgcolor\":\"white\",\"lakecolor\":\"white\",\"landcolor\":\"#E5ECF6\",\"showlakes\":true,\"showland\":true,\"subunitcolor\":\"white\"},\"hoverlabel\":{\"align\":\"left\"},\"hovermode\":\"closest\",\"mapbox\":{\"style\":\"light\"},\"paper_bgcolor\":\"white\",\"plot_bgcolor\":\"#E5ECF6\",\"polar\":{\"angularaxis\":{\"gridcolor\":\"white\",\"linecolor\":\"white\",\"ticks\":\"\"},\"bgcolor\":\"#E5ECF6\",\"radialaxis\":{\"gridcolor\":\"white\",\"linecolor\":\"white\",\"ticks\":\"\"}},\"scene\":{\"xaxis\":{\"backgroundcolor\":\"#E5ECF6\",\"gridcolor\":\"white\",\"gridwidth\":2,\"linecolor\":\"white\",\"showbackground\":true,\"ticks\":\"\",\"zerolinecolor\":\"white\"},\"yaxis\":{\"backgroundcolor\":\"#E5ECF6\",\"gridcolor\":\"white\",\"gridwidth\":2,\"linecolor\":\"white\",\"showbackground\":true,\"ticks\":\"\",\"zerolinecolor\":\"white\"},\"zaxis\":{\"backgroundcolor\":\"#E5ECF6\",\"gridcolor\":\"white\",\"gridwidth\":2,\"linecolor\":\"white\",\"showbackground\":true,\"ticks\":\"\",\"zerolinecolor\":\"white\"}},\"shapedefaults\":{\"line\":{\"color\":\"#2a3f5f\"}},\"ternary\":{\"aaxis\":{\"gridcolor\":\"white\",\"linecolor\":\"white\",\"ticks\":\"\"},\"baxis\":{\"gridcolor\":\"white\",\"linecolor\":\"white\",\"ticks\":\"\"},\"bgcolor\":\"#E5ECF6\",\"caxis\":{\"gridcolor\":\"white\",\"linecolor\":\"white\",\"ticks\":\"\"}},\"title\":{\"x\":0.05},\"xaxis\":{\"automargin\":true,\"gridcolor\":\"white\",\"linecolor\":\"white\",\"ticks\":\"\",\"title\":{\"standoff\":15},\"zerolinecolor\":\"white\",\"zerolinewidth\":2},\"yaxis\":{\"automargin\":true,\"gridcolor\":\"white\",\"linecolor\":\"white\",\"ticks\":\"\",\"title\":{\"standoff\":15},\"zerolinecolor\":\"white\",\"zerolinewidth\":2}}},\"xaxis\":{\"anchor\":\"y\",\"domain\":[0.0,1.0],\"title\":{\"text\":\"heart_disease\"}},\"yaxis\":{\"anchor\":\"x\",\"domain\":[0.0,1.0],\"title\":{\"text\":\"count\"}},\"legend\":{\"tracegroupgap\":0},\"title\":{\"text\":\"Patients with stroke\"},\"barmode\":\"relative\"},                        {\"responsive\": true}                    ).then(function(){\n",
              "                            \n",
              "var gd = document.getElementById('ce2caca3-9514-4ffd-b048-4e36abcffe23');\n",
              "var x = new MutationObserver(function (mutations, observer) {{\n",
              "        var display = window.getComputedStyle(gd).display;\n",
              "        if (!display || display === 'none') {{\n",
              "            console.log([gd, 'removed!']);\n",
              "            Plotly.purge(gd);\n",
              "            observer.disconnect();\n",
              "        }}\n",
              "}});\n",
              "\n",
              "// Listen for the removal of the full notebook cells\n",
              "var notebookContainer = gd.closest('#notebook-container');\n",
              "if (notebookContainer) {{\n",
              "    x.observe(notebookContainer, {childList: true});\n",
              "}}\n",
              "\n",
              "// Listen for the clearing of the current output cell\n",
              "var outputEl = gd.closest('.output');\n",
              "if (outputEl) {{\n",
              "    x.observe(outputEl, {childList: true});\n",
              "}}\n",
              "\n",
              "                        })                };                            </script>        </div>\n",
              "</body>\n",
              "</html>"
            ]
          },
          "metadata": {}
        },
        {
          "output_type": "display_data",
          "data": {
            "text/html": [
              "<html>\n",
              "<head><meta charset=\"utf-8\" /></head>\n",
              "<body>\n",
              "    <div>            <script src=\"https://cdnjs.cloudflare.com/ajax/libs/mathjax/2.7.5/MathJax.js?config=TeX-AMS-MML_SVG\"></script><script type=\"text/javascript\">if (window.MathJax) {MathJax.Hub.Config({SVG: {font: \"STIX-Web\"}});}</script>                <script type=\"text/javascript\">window.PlotlyConfig = {MathJaxConfig: 'local'};</script>\n",
              "        <script src=\"https://cdn.plot.ly/plotly-2.8.3.min.js\"></script>                <div id=\"fb786d41-1260-48c3-9f98-51b5cf1c1132\" class=\"plotly-graph-div\" style=\"height:525px; width:100%;\"></div>            <script type=\"text/javascript\">                                    window.PLOTLYENV=window.PLOTLYENV || {};                                    if (document.getElementById(\"fb786d41-1260-48c3-9f98-51b5cf1c1132\")) {                    Plotly.newPlot(                        \"fb786d41-1260-48c3-9f98-51b5cf1c1132\",                        [{\"alignmentgroup\":\"True\",\"bingroup\":\"x\",\"hovertemplate\":\"heart_disease=%{x}<br>count=%{y}<extra></extra>\",\"legendgroup\":\"\",\"marker\":{\"color\":\"#636efa\",\"pattern\":{\"shape\":\"\"}},\"name\":\"\",\"offsetgroup\":\"\",\"orientation\":\"v\",\"showlegend\":false,\"x\":[0,0,0,0,0,0,0,1,0,0,0,1,0,0,0,0,0,0,0,1,0,0,0,0,0,0,0,0,0,0,0,0,0,0,0,0,0,0,0,0,0,0,0,0,0,0,0,0,0,0,0,0,0,0,0,0,0,0,0,0,0,0,0,0,0,0,1,0,0,0,0,0,0,0,0,0,0,0,0,0,0,0,0,0,0,0,0,0,1,0,0,0,0,1,0,0,0,0,0,0,0,1,0,0,0,0,0,0,0,0,0,0,0,0,0,0,0,0,0,0,0,0,0,0,0,0,0,0,0,0,0,0,0,1,0,0,0,0,0,0,0,0,0,0,0,0,0,0,0,0,0,0,0,0,0,0,1,0,0,0,0,0,0,0,0,0,0,0,0,0,0,0,0,0,0,0,0,0,0,0,0,1,0,0,0,0,0,0,0,0,0,0,0,0,0,0,0,0,0,0,0,1,0,0,0,0,0,1,0,0,0,0,0,0,0,0,0,0,0,0,0,0,0,0,0,0,0,0,0,0,0,0,0,1,0,0,0,0,0,0,0,0,0,0,0,0,0,0,0,0,0,0,0,0,0,0,0,0,0,0,0,0,0,0,0,0,0,0,0,0,0,0,0,0,0,0,0,0,0,0,0,0,0,0,0,0,0,0,0,0,0,0,0,0,0,0,0,0,0,0,0,0,0,0,0,0,0,0,0,0,0,0,1,0,0,0,0,0,0,0,0,0,0,0,0,0,0,0,0,0,0,0,0,0,0,0,1,0,0,0,0,0,0,0,0,0,0,0,0,0,0,0,0,0,0,0,0,0,0,0,0,0,0,0,0,0,0,0,0,0,0,0,0,0,0,1,0,1,0,0,0,0,0,0,0,0,0,1,0,0,0,0,0,0,1,0,0,0,0,0,0,0,0,0,0,0,0,0,0,0,0,0,0,0,0,0,0,0,0,0,0,0,1,0,0,0,0,0,0,0,0,0,0,0,0,0,0,0,0,0,0,0,0,0,0,0,0,0,0,0,0,0,0,0,0,0,0,0,0,0,0,0,0,0,0,0,0,0,0,0,0,0,0,0,0,0,0,0,0,0,0,0,0,0,0,0,0,0,0,0,0,0,0,0,0,0,1,0,0,0,0,0,0,0,0,0,0,0,0,0,0,0,0,0,0,0,0,0,0,0,0,0,0,0,0,0,0,0,0,0,0,0,0,0,0,0,1,0,0,0,0,0,0,0,0,0,0,0,0,0,0,0,0,0,0,0,0,0,0,0,0,0,0,0,0,0,0,0,0,0,0,0,0,0,0,0,0,0,0,0,1,0,0,0,0,0,0,0,0,0,0,0,0,0,0,0,0,0,0,0,0,0,0,0,0,0,0,0,0,0,0,0,0,0,0,0,0,0,1,0,0,0,0,0,0,0,0,0,0,0,0,0,0,0,0,0,0,0,0,0,1,1,0,0,0,0,0,0,0,0,0,1,0,0,0,0,0,0,0,0,0,0,0,0,0,0,0,0,0,0,0,0,0,0,1,0,0,0,0,0,1,0,0,0,0,0,0,0,0,0,0,0,0,1,0,0,0,0,0,0,0,0,0,0,0,0,0,0,0,0,0,0,0,0,0,0,0,0,0,0,0,1,1,0,0,0,0,0,0,0,0,0,0,0,0,0,0,0,0,0,0,1,0,1,0,0,0,0,0,0,0,0,0,1,0,0,0,0,0,0,0,0,0,0,0,0,0,0,0,0,0,0,0,0,0,0,0,0,0,0,0,0,0,0,0,0,0,0,0,0,0,0,0,0,0,0,0,0,0,1,0,0,0,0,0,0,0,0,0,0,0,0,0,1,0,0,0,0,1,0,0,0,0,0,0,0,0,0,0,0,0,0,0,0,0,0,0,0,0,0,0,0,0,0,0,0,0,0,0,0,0,0,0,0,0,0,0,0,0,0,0,0,0,0,0,0,0,0,0,0,0,0,0,0,0,0,0,0,0,0,0,0,0,0,0,0,0,0,0,0,0,0,0,0,0,0,0,0,0,0,0,0,0,0,0,0,0,0,0,0,0,0,0,0,0,0,0,0,0,0,0,0,0,0,0,0,0,0,0,0,0,0,0,0,0,0,0,0,0,0,1,0,0,0,1,0,0,0,0,1,0,0,0,0,0,0,0,0,0,0,0,0,0,0,0,0,0,0,0,0,0,0,0,0,0,0,0,0,0,0,0,0,0,0,0,0,0,0,0,0,0,0,0,0,0,0,0,0,0,0,0,0,0,0,0,0,0,0,0,0,0,0,0,0,0,0,0,0,0,0,0,0,0,0,0,0,0,0,0,0,0,0,0,1,1,0,0,1,0,0,0,0,0,0,0,0,0,0,0,0,0,0,0,0,0,0,0,0,0,0,1,0,0,0,0,0,0,0,0,1,1,1,0,0,0,0,0,0,0,0,0,0,0,0,1,0,0,0,0,0,1,0,0,0,0,0,0,0,0,0,0,0,0,0,0,0,0,0,0,0,0,0,0,0,0,0,1,0,0,0,0,0,0,0,0,0,0,0,0,0,0,0,0,0,0,1,0,0,0,0,0,0,0,0,0,0,0,0,0,0,0,0,0,0,0,0,0,0,0,0,0,0,0,0,1,1,0,0,0,0,0,0,0,0,0,0,0,0,0,0,0,0,0,0,0,0,1,0,0,0,0,0,0,0,0,0,0,0,0,0,0,0,0,0,0,0,0,0,0,0,0,0,0,0,0,0,0,0,0,0,0,0,0,0,0,0,0,0,0,0,0,0,0,0,0,0,0,0,1,0,0,0,0,0,0,0,0,0,0,0,0,0,0,0,1,0,0,1,0,0,0,0,1,0,0,0,0,0,0,0,0,0,0,0,0,0,0,1,1,0,0,0,0,0,0,0,0,0,0,0,0,0,0,0,0,0,0,0,1,0,0,0,0,0,0,0,0,0,0,0,0,0,1,0,0,0,0,1,0,0,0,0,0,0,0,0,0,0,0,0,0,0,0,0,0,0,0,0,0,0,0,0,0,0,0,0,0,0,0,0,0,0,0,0,0,0,0,0,0,0,0,0,1,0,0,0,0,0,0,0,0,0,0,0,0,0,0,0,0,1,0,0,0,0,0,0,0,0,0,0,0,1,0,0,0,0,0,1,0,0,0,0,0,0,0,1,0,0,0,0,0,0,0,0,0,0,0,0,0,0,0,1,0,0,0,0,0,0,0,0,0,0,0,0,0,0,0,0,0,0,0,0,0,0,0,0,0,0,0,0,0,0,0,0,0,0,0,0,0,0,0,0,0,0,0,0,0,0,0,1,0,0,0,0,0,0,0,0,0,0,0,0,0,0,0,0,0,0,1,0,0,0,0,0,0,0,0,0,0,0,0,0,0,1,0,0,0,0,0,0,0,0,0,0,0,0,0,0,0,0,1,0,0,0,0,0,0,0,0,0,0,0,0,0,0,0,1,0,0,0,0,0,0,0,0,0,0,0,0,0,0,0,0,0,0,0,0,0,0,0,0,1,0,0,0,0,0,0,0,0,0,0,0,0,0,0,0,0,0,0,0,0,0,0,0,0,1,0,0,0,0,0,0,0,0,0,0,0,0,0,0,0,0,0,0,0,0,0,0,0,0,0,0,1,0,0,0,0,0,0,0,0,0,0,0,0,1,0,0,0,0,0,0,0,0,0,0,0,0,0,0,0,0,0,1,0,0,0,0,0,0,0,0,0,0,0,0,0,0,0,0,0,0,0,0,0,0,0,0,0,0,1,0,0,0,0,0,0,0,0,0,0,0,0,0,0,0,0,0,0,0,0,0,0,0,0,0,0,0,0,0,0,0,0,1,1,0,0,0,0,0,0,0,0,0,0,0,0,0,0,0,0,0,0,0,0,0,0,0,0,0,0,0,0,0,1,0,0,0,0,0,0,0,1,0,0,0,0,0,0,0,0,0,0,0,0,0,0,0,0,0,0,0,0,0,0,0,0,0,0,0,0,0,0,0,0,0,0,0,0,0,0,0,0,0,0,0,0,0,0,0,0,0,0,0,0,0,0,0,0,0,0,0,0,0,0,0,0,0,0,0,0,0,0,0,0,0,0,0,0,0,0,0,0,0,0,0,0,0,0,0,0,0,1,0,0,0,1,0,0,0,0,0,0,0,0,0,0,0,0,0,0,0,1,0,0,0,0,0,0,0,1,0,0,0,0,0,0,0,0,0,0,0,1,0,0,0,0,0,0,0,0,0,1,0,0,0,0,0,0,0,0,0,0,0,0,0,0,0,0,0,0,0,0,0,0,0,0,0,0,0,0,0,0,0,0,0,0,0,0,0,0,0,0,0,0,0,0,0,0,0,0,0,0,0,0,1,0,0,1,0,0,0,0,0,0,0,0,0,0,0,0,1,1,0,1,0,0,0,0,0,0,0,0,0,0,1,0,0,0,0,0,1,0,0,0,0,0,0,0,0,0,0,0,0,0,0,0,0,0,0,0,0,0,0,0,0,0,0,0,0,1,0,0,0,0,1,0,0,0,0,0,0,0,0,0,0,0,0,0,0,0,0,0,0,0,0,0,0,0,0,0,0,0,1,0,0,0,0,0,0,0,0,0,0,0,0,0,0,0,0,0,0,0,0,0,0,0,0,0,0,0,0,0,0,0,0,0,0,0,0,0,1,0,0,0,0,0,0,0,0,0,0,1,0,0,0,0,0,0,0,0,0,0,0,0,0,0,0,0,0,0,0,0,0,0,0,0,0,0,0,1,0,1,0,0,0,0,0,0,0,0,0,0,0,0,0,0,0,0,0,0,0,0,0,0,0,0,0,0,0,0,0,0,0,0,0,0,0,0,0,0,0,0,0,0,0,0,0,0,0,0,0,0,0,0,0,0,0,1,0,0,0,0,0,0,0,0,0,0,0,0,0,0,1,0,0,0,0,0,0,0,0,0,0,0,0,0,0,0,0,0,0,0,0,0,0,0,0,0,0,0,0,0,0,0,0,0,0,0,0,0,0,0,0,0,0,0,0,0,0,0,0,0,0,0,0,0,0,0,0,0,0,0,0,1,0,0,1,0,0,0,0,1,0,0,0,0,0,0,0,0,0,0,0,0,1,0,0,0,1,0,1,0,1,0,0,0,1,0,0,0,0,1,0,0,0,0,0,0,0,0,1,0,0,1,0,0,0,0,0,0,0,0,0,0,0,0,0,0,0,0,0,0,0,0,0,0,0,0,0,0,0,0,0,0,0,1,0,0,0,0,0,0,1,0,0,0,0,0,0,0,0,1,0,0,0,0,0,0,0,0,0,0,0,0,0,0,0,0,0,0,0,0,0,0,0,0,0,0,0,0,0,0,0,0,0,0,0,0,0,0,0,1,0,0,0,0,1,0,0,0,0,0,0,0,0,0,0,0,0,0,0,0,0,0,0,0,0,0,0,0,0,0,0,0,0,0,0,0,0,0,0,0,0,0,0,0,0,0,0,0,0,0,0,0,0,0,0,0,0,1,0,0,0,0,0,0,0,0,0,0,0,0,0,0,0,0,0,0,1,0,0,0,0,0,0,0,0,1,0,1,0,0,0,0,0,0,0,0,0,0,0,0,0,0,0,0,0,0,0,0,0,0,0,0,0,0,0,0,0,0,0,0,0,0,0,0,0,0,0,0,0,0,0,0,0,0,0,0,1,0,0,0,0,0,0,0,0,0,0,0,0,0,0,0,0,0,0,0,0,0,0,0,0,0,0,0,0,0,1,1,0,0,0,0,0,0,0,0,0,0,0,0,0,0,0,0,0,1,0,0,1,0,0,0,0,0,0,0,0,0,0,0,0,0,0,0,0,0,0,0,0,0,0,0,0,0,0,0,0,0,0,0,0,0,0,0,0,0,0,0,0,0,0,0,0,0,1,0,0,0,0,0,0,0,0,0,0,0,0,1,0,0,0,0,0,0,0,0,0,0,1,0,0,0,0,0,1,0,0,0,0,1,0,0,0,0,0,0,0,0,0,0,0,0,0,0,0,1,0,0,0,0,0,0,0,0,0,0,0,0,0,0,0,1,0,0,0,1,0,1,0,0,0,0,0,0,0,0,0,0,0,0,0,0,0,0,0,0,0,0,1,0,0,0,0,0,0,0,0,0,0,0,0,0,0,0,0,0,0,0,0,1,0,0,1,1,0,0,0,0,0,0,0,0,0,0,1,0,0,0,0,0,0,0,0,0,0,0,0,0,0,0,0,0,0,0,0,0,0,0,0,0,0,0,0,0,0,0,0,0,1,0,0,0,0,0,0,0,0,0,0,0,0,0,0,0,0,0,0,0,0,0,0,1,0,1,0,0,0,0,0,0,0,0,0,0,0,0,1,0,0,0,0,0,1,0,0,0,0,0,0,0,0,0,1,0,0,0,0,0,0,0,0,0,0,0,0,0,0,0,0,0,0,0,0,0,0,0,0,0,0,0,0,0,0,0,0,0,0,0,0,0,0,0,0,0,0,0,0,0,0,0,0,1,0,0,0,0,0,0,0,0,0,0,0,0,0,0,0,0,0,0,0,0,0,0,0,0,0,0,0,0,0,0,0,0,0,0,0,0,0,0,0,0,0,0,0,0,0,0,1,0,0,0,0,0,0,0,0,0,0,0,0,0,0,0,0,0,0,0,0,0,0,0,0,0,0,0,0,0,0,0,1,0,0,0,0,0,0,0,0,0,0,0,0,0,0,0,0,0,0,0,0,0,0,0,0,0,0,0,0,0,0,0,0,0,0,0,0,0,0,0,0,0,0,0,0,0,0,0,0,0,0,0,0,0,0,0,0,0,0,0,0,0,0,0,0,0,0,0,0,0,0,0,0,0,0,0,0,0,0,0,0,0,0,0,0,0,1,0,0,0,0,0,0,0,0,0,0,0,0,0,0,0,0,0,0,1,0,0,0,0,0,0,0,0,0,1,0,0,0,0,0,0,0,0,0,0,0,0,0,0,0,0,1,0,0,0,0,0,0,0,0,0,0,0,0,1,0,1,0,0,0,0,0,0,0,0,0,0,0,0,0,0,0,0,0,0,0,0,0,0,0,0,0,0,0,0,0,0,0,0,0,0,0,0,0,0,1,1,0,0,0,0,0,0,0,0,0,0,0,0,0,0,0,0,0,0,0,0,0,0,0,0,0,0,0,0,0,0,0,0,0,0,0,1,0,0,0,0,0,0,0,0,0,0,0,0,0,0,0,0,0,0,0,0,0,0,0,0,1,0,0,0,0,0,0,0,0,0,0,0,0,0,0,0,0,0,1,0,0,0,0,0,0,0,0,0,0,0,0,0,0,0,0,0,0,0,0,0,0,1,1,0,0,0,0,0,0,0,0,0,0,0,0,0,0,0,0,0,0,0,0,0,0,0,0,0,0,0,0,0,0,0,0,0,0,0,0,0,0,0,0,0,0,0,0,0,0,0,0,0,1,0,0,0,0,0,0,0,0,0,1,1,0,0,0,0,0,0,0,0,0,0,0,0,0,0,0,0,0,0,0,0,0,0,1,0,0,0,0,0,0,0,0,0,0,0,0,0,0,0,0,0,0,0,0,0,0,0,0,0,0,0,0,0,0,0,0,0,0,0,0,0,1,0,0,0,0,0,0,0,0,0,0,0,0,0,0,0,1,0,0,0,0,0,0,0,0,0,0,0,0,0,0,0,0,0,0,0,0,0,0,0,0,0,0,0,0,0,0,0,0,0,0,0,0,0,0,1,0,0,1,0,0,0,0,0,0,0,0,0,0,0,0,0,0,0,0,0,0,0,0,0,0,0,0,0,0,0,0,0,0,0,0,0,0,0,0,0,0,0,0,0,0,0,0,0,0,0,0,0,0,0,0,0,0,0,0,0,0,0,0,0,0,0,0,0,0,0,0,0,1,0,0,1,0,0,0,0,0,0,0,0,0,0,0,0,0,0,1,0,0,0,0,0,0,0,0,0,1,0,0,1,0,0,0,0,0,0,0,0,0,0,0,0,0,0,0,0,0,0,0,0,1,0,0,0,0,0,0,0,0,0,0,0,0,0,0,0,0,0,0,0,0,0,0,0,0,0,0,0,0,0,0,0,0,0,0,0,0,0,0,0,0,0,0,0,0,0,0,0,0,0,0,0,0,0,0,0,0,0,0,0,0,0,0,0,0,0,0,0,0,0,0,0,0,0,0,0,0,1,0,0,1,0,0,0,0,0,0,0,0,0,0,0,0,0,0,0,0,0,0,0,0,0,0,0,0,0,0,0,0,0,0,0,0,0,0,0,0,0,0,0,0,0,0,0,0,0,0,0,0,0,0,0,0,0,0,0,0,0,0,0,1,0,0,0,0,0,0,0,0,0,0,0,0,0,0,0,0,0,0,0,0,0,0,0,0,0,0,0,0,0,0,0,0,0,0,0,0,0,0,0,0,0,0,0,0,0,0,0,0,1,0,0,1,0,0,0,0,0,0,0,0,0,0,0,0,0,0,0,0,0,0,0,0,0,0,0,0,0,0,0,0,0,0,0,0,0,0,0,0,0,0,0,0,0,0,0,0,0,0,0,0,1,0,0,1,0,0,0,0,1,1,0,0,0,0,0,0,0,0,0,0,0,0,0,0,0,0,0,0,0,0,0,0,0,0,0,0,0,0,0,1,1,0,1,0,0,0,0,0,0,0,1,0,0,0,0,0,0,0,0,0,0,0,0,0,0,0,0,0,0,0,0,0,0,0,0,0,0,1,0,0,0,0,0,0,0,0,0,0,0,0,1,0,0,0,0,0,0,0,0,0,0,1,0,1,0,0,0,0,0,0,0,0,0,0,0,0,1,0,0,1,0,0,0,0,0,0,0,0,0,0,0,0,0,0,0,0,0,0,0,0,0,0,0,0,0,0,0,0,0,0,0,1,0,0,0,0,0,0,0,0,0,0,0,0,0,1,0,0,0,0,0,0,0,0,0,0,0,0,0,0,0,0,0,0,0,0,0,0,0,0,0,0,1,0,0,0,0,0,0,0,0,0,0,0,0,0,0,0,0,0,0,0,0,0,0,0,0,0,0,0,0,0,0,0,0,0,0,0,0,0,0,0,0,0,0,0,0,0,1,0,0,0,0,0,0,0,0,0,0,0,0,0,0,0,0,0,0,0,0,0,0,0,0,0,0,0,0,0,0,0,0,0,0,0,0,0,0,0,0,0,0,0,0,0,0,0,0,0,0,0,1,0,0,0,0,0,0,0,0,0,0,0,0,0,0,0,0,0,0,0,0,0,0,0,1,0,0,0,0,0,0,0,0,0,0,0,0,0,0,1,0,0,0,0,0,0,0,0,0,0,0,0,0,0,1,0,0,0,0,0,0,0,0,0,0,0,0,0,0,0,0,0,0,0,0,1,0,0,0,0,0,0,0,0,0,0,0,0,0,0,0,0,0,0,0,0,0,0,0,0,0,0,0,0,0,0,0,0,0,0,0,0,0,0,0,0,0,0,0,0,0,0,0,0,0,0,0,0,0,0,0,0,0,0,0,0,0,0,0,0,1,0,0,0,0,0,0,0,0,0,0,0,0,0,0,0,0,0,0,0,0,0,0,0,0,0,0,0,0,0,0,0,0,0,0,0,0,0,0,0,0,0,0,0,0,0,0,0,0,0,0,0,0,1,0,0,0,0,0,0,0,0,0,0,0,0,1,1,0,0,0,0,0,0,0,0,1,0,0,0,0,0,0,0,0,1,0,0,0,0,0,0,0,0,0,0,0,0,0,0,0,0,0,0,0,0,0,0,0,0,0,0,0,0,1,0,0,0,0,0,0,0,0,0,0,0,0,0,0,0,0,0,0,0,0,0,0,0,0,0,0,0,0,0,0,0,0,0,0,0,0,0,0,0,0,0,0,0,0,0,0,0,1,0,0,0,0,0,0,0,0,0,0,0,0,0,0,0,0,0,0,0,0,0,0,0,0,0,0,0,0,0,0,0,0,0,0,0,0,0,0,0,0,0,0,0,0,0,1,0,0,0,0,0,0,0,0,0,0,0,0,0,0,0,0,0,1,1,0,0,0,0,0,0,0,0,0,1,0,0,0,0,0,0,0,0,0,0,0,0,0,0,0,0,0,0,0,0,0,0,0,0,0,0,0,0,0,0,0,0,0,0,0,0,1,0,0,0,0,0,0,0,0,0,0,0,0,0,0,0,0,0,0,0,0,0,0,0,0,0,0,0,0,0,0,0,0,0,1,0,0,0,0,0,0,0,0,0,0,0,0,0,0,0,0,0,0,0,0,0,0,0,0,0,0,0,0,0,0,0,0,0,0,0,0,0,0,0,0,0,0,0,0,0,0,0,0,0,0,0,0,0,0,0,0,0,0,0,0,0,0,0,0,0,0,0,0,0,0,1,0,0,0,0,0,0,0,0,0,0,0,0,0,1,0,0,0,0,0,0,0,0,0,0,0,0,0,0,0,0,0,0,0,0,0,0,0,0,0,0,0,0,0,0,0,0,0,0,0,0,0,0,0,0,0,0,0,0,0,0,0,0,0,0,0,1,0,0,0,0,0,0,0,0,0,0,0,0,0,0,0,0,0,0,0,0,0,0,0,0,0,0,0,0,0,0,0,0,0,0,0,0,0,0,0,0,0,0,0,0,0,0,0,0,0,0,0,0,0,0,0,0,0,0,0,0,0,0,0,0,1,0,0,0,0,0,0,0,0,0,0,0,0,0,0,0,0,0,0,0,0,0,1,0,0,0,0,0,0,0,0,0,0,0,0,0,0,0,0,0,0,0,0,0,0,0,0,0,0,0,0,0,0,0,0,0,0,0,0,0,0,0,0,0,0,0,0,0,0,0,0,0,0,0,0,0,0,0,0,0,0,0,0,0,0,0,0,0,0,0,0,0,0,0,0,0,0,0,0,0,0,0,0,0,0,0,0,0,0,0,0,0,0,0,0,0,0,0,0,0,0,0,0,0],\"xaxis\":\"x\",\"yaxis\":\"y\",\"type\":\"histogram\"}],                        {\"template\":{\"data\":{\"bar\":[{\"error_x\":{\"color\":\"#2a3f5f\"},\"error_y\":{\"color\":\"#2a3f5f\"},\"marker\":{\"line\":{\"color\":\"#E5ECF6\",\"width\":0.5},\"pattern\":{\"fillmode\":\"overlay\",\"size\":10,\"solidity\":0.2}},\"type\":\"bar\"}],\"barpolar\":[{\"marker\":{\"line\":{\"color\":\"#E5ECF6\",\"width\":0.5},\"pattern\":{\"fillmode\":\"overlay\",\"size\":10,\"solidity\":0.2}},\"type\":\"barpolar\"}],\"carpet\":[{\"aaxis\":{\"endlinecolor\":\"#2a3f5f\",\"gridcolor\":\"white\",\"linecolor\":\"white\",\"minorgridcolor\":\"white\",\"startlinecolor\":\"#2a3f5f\"},\"baxis\":{\"endlinecolor\":\"#2a3f5f\",\"gridcolor\":\"white\",\"linecolor\":\"white\",\"minorgridcolor\":\"white\",\"startlinecolor\":\"#2a3f5f\"},\"type\":\"carpet\"}],\"choropleth\":[{\"colorbar\":{\"outlinewidth\":0,\"ticks\":\"\"},\"type\":\"choropleth\"}],\"contour\":[{\"colorbar\":{\"outlinewidth\":0,\"ticks\":\"\"},\"colorscale\":[[0.0,\"#0d0887\"],[0.1111111111111111,\"#46039f\"],[0.2222222222222222,\"#7201a8\"],[0.3333333333333333,\"#9c179e\"],[0.4444444444444444,\"#bd3786\"],[0.5555555555555556,\"#d8576b\"],[0.6666666666666666,\"#ed7953\"],[0.7777777777777778,\"#fb9f3a\"],[0.8888888888888888,\"#fdca26\"],[1.0,\"#f0f921\"]],\"type\":\"contour\"}],\"contourcarpet\":[{\"colorbar\":{\"outlinewidth\":0,\"ticks\":\"\"},\"type\":\"contourcarpet\"}],\"heatmap\":[{\"colorbar\":{\"outlinewidth\":0,\"ticks\":\"\"},\"colorscale\":[[0.0,\"#0d0887\"],[0.1111111111111111,\"#46039f\"],[0.2222222222222222,\"#7201a8\"],[0.3333333333333333,\"#9c179e\"],[0.4444444444444444,\"#bd3786\"],[0.5555555555555556,\"#d8576b\"],[0.6666666666666666,\"#ed7953\"],[0.7777777777777778,\"#fb9f3a\"],[0.8888888888888888,\"#fdca26\"],[1.0,\"#f0f921\"]],\"type\":\"heatmap\"}],\"heatmapgl\":[{\"colorbar\":{\"outlinewidth\":0,\"ticks\":\"\"},\"colorscale\":[[0.0,\"#0d0887\"],[0.1111111111111111,\"#46039f\"],[0.2222222222222222,\"#7201a8\"],[0.3333333333333333,\"#9c179e\"],[0.4444444444444444,\"#bd3786\"],[0.5555555555555556,\"#d8576b\"],[0.6666666666666666,\"#ed7953\"],[0.7777777777777778,\"#fb9f3a\"],[0.8888888888888888,\"#fdca26\"],[1.0,\"#f0f921\"]],\"type\":\"heatmapgl\"}],\"histogram\":[{\"marker\":{\"pattern\":{\"fillmode\":\"overlay\",\"size\":10,\"solidity\":0.2}},\"type\":\"histogram\"}],\"histogram2d\":[{\"colorbar\":{\"outlinewidth\":0,\"ticks\":\"\"},\"colorscale\":[[0.0,\"#0d0887\"],[0.1111111111111111,\"#46039f\"],[0.2222222222222222,\"#7201a8\"],[0.3333333333333333,\"#9c179e\"],[0.4444444444444444,\"#bd3786\"],[0.5555555555555556,\"#d8576b\"],[0.6666666666666666,\"#ed7953\"],[0.7777777777777778,\"#fb9f3a\"],[0.8888888888888888,\"#fdca26\"],[1.0,\"#f0f921\"]],\"type\":\"histogram2d\"}],\"histogram2dcontour\":[{\"colorbar\":{\"outlinewidth\":0,\"ticks\":\"\"},\"colorscale\":[[0.0,\"#0d0887\"],[0.1111111111111111,\"#46039f\"],[0.2222222222222222,\"#7201a8\"],[0.3333333333333333,\"#9c179e\"],[0.4444444444444444,\"#bd3786\"],[0.5555555555555556,\"#d8576b\"],[0.6666666666666666,\"#ed7953\"],[0.7777777777777778,\"#fb9f3a\"],[0.8888888888888888,\"#fdca26\"],[1.0,\"#f0f921\"]],\"type\":\"histogram2dcontour\"}],\"mesh3d\":[{\"colorbar\":{\"outlinewidth\":0,\"ticks\":\"\"},\"type\":\"mesh3d\"}],\"parcoords\":[{\"line\":{\"colorbar\":{\"outlinewidth\":0,\"ticks\":\"\"}},\"type\":\"parcoords\"}],\"pie\":[{\"automargin\":true,\"type\":\"pie\"}],\"scatter\":[{\"marker\":{\"colorbar\":{\"outlinewidth\":0,\"ticks\":\"\"}},\"type\":\"scatter\"}],\"scatter3d\":[{\"line\":{\"colorbar\":{\"outlinewidth\":0,\"ticks\":\"\"}},\"marker\":{\"colorbar\":{\"outlinewidth\":0,\"ticks\":\"\"}},\"type\":\"scatter3d\"}],\"scattercarpet\":[{\"marker\":{\"colorbar\":{\"outlinewidth\":0,\"ticks\":\"\"}},\"type\":\"scattercarpet\"}],\"scattergeo\":[{\"marker\":{\"colorbar\":{\"outlinewidth\":0,\"ticks\":\"\"}},\"type\":\"scattergeo\"}],\"scattergl\":[{\"marker\":{\"colorbar\":{\"outlinewidth\":0,\"ticks\":\"\"}},\"type\":\"scattergl\"}],\"scattermapbox\":[{\"marker\":{\"colorbar\":{\"outlinewidth\":0,\"ticks\":\"\"}},\"type\":\"scattermapbox\"}],\"scatterpolar\":[{\"marker\":{\"colorbar\":{\"outlinewidth\":0,\"ticks\":\"\"}},\"type\":\"scatterpolar\"}],\"scatterpolargl\":[{\"marker\":{\"colorbar\":{\"outlinewidth\":0,\"ticks\":\"\"}},\"type\":\"scatterpolargl\"}],\"scatterternary\":[{\"marker\":{\"colorbar\":{\"outlinewidth\":0,\"ticks\":\"\"}},\"type\":\"scatterternary\"}],\"surface\":[{\"colorbar\":{\"outlinewidth\":0,\"ticks\":\"\"},\"colorscale\":[[0.0,\"#0d0887\"],[0.1111111111111111,\"#46039f\"],[0.2222222222222222,\"#7201a8\"],[0.3333333333333333,\"#9c179e\"],[0.4444444444444444,\"#bd3786\"],[0.5555555555555556,\"#d8576b\"],[0.6666666666666666,\"#ed7953\"],[0.7777777777777778,\"#fb9f3a\"],[0.8888888888888888,\"#fdca26\"],[1.0,\"#f0f921\"]],\"type\":\"surface\"}],\"table\":[{\"cells\":{\"fill\":{\"color\":\"#EBF0F8\"},\"line\":{\"color\":\"white\"}},\"header\":{\"fill\":{\"color\":\"#C8D4E3\"},\"line\":{\"color\":\"white\"}},\"type\":\"table\"}]},\"layout\":{\"annotationdefaults\":{\"arrowcolor\":\"#2a3f5f\",\"arrowhead\":0,\"arrowwidth\":1},\"autotypenumbers\":\"strict\",\"coloraxis\":{\"colorbar\":{\"outlinewidth\":0,\"ticks\":\"\"}},\"colorscale\":{\"diverging\":[[0,\"#8e0152\"],[0.1,\"#c51b7d\"],[0.2,\"#de77ae\"],[0.3,\"#f1b6da\"],[0.4,\"#fde0ef\"],[0.5,\"#f7f7f7\"],[0.6,\"#e6f5d0\"],[0.7,\"#b8e186\"],[0.8,\"#7fbc41\"],[0.9,\"#4d9221\"],[1,\"#276419\"]],\"sequential\":[[0.0,\"#0d0887\"],[0.1111111111111111,\"#46039f\"],[0.2222222222222222,\"#7201a8\"],[0.3333333333333333,\"#9c179e\"],[0.4444444444444444,\"#bd3786\"],[0.5555555555555556,\"#d8576b\"],[0.6666666666666666,\"#ed7953\"],[0.7777777777777778,\"#fb9f3a\"],[0.8888888888888888,\"#fdca26\"],[1.0,\"#f0f921\"]],\"sequentialminus\":[[0.0,\"#0d0887\"],[0.1111111111111111,\"#46039f\"],[0.2222222222222222,\"#7201a8\"],[0.3333333333333333,\"#9c179e\"],[0.4444444444444444,\"#bd3786\"],[0.5555555555555556,\"#d8576b\"],[0.6666666666666666,\"#ed7953\"],[0.7777777777777778,\"#fb9f3a\"],[0.8888888888888888,\"#fdca26\"],[1.0,\"#f0f921\"]]},\"colorway\":[\"#636efa\",\"#EF553B\",\"#00cc96\",\"#ab63fa\",\"#FFA15A\",\"#19d3f3\",\"#FF6692\",\"#B6E880\",\"#FF97FF\",\"#FECB52\"],\"font\":{\"color\":\"#2a3f5f\"},\"geo\":{\"bgcolor\":\"white\",\"lakecolor\":\"white\",\"landcolor\":\"#E5ECF6\",\"showlakes\":true,\"showland\":true,\"subunitcolor\":\"white\"},\"hoverlabel\":{\"align\":\"left\"},\"hovermode\":\"closest\",\"mapbox\":{\"style\":\"light\"},\"paper_bgcolor\":\"white\",\"plot_bgcolor\":\"#E5ECF6\",\"polar\":{\"angularaxis\":{\"gridcolor\":\"white\",\"linecolor\":\"white\",\"ticks\":\"\"},\"bgcolor\":\"#E5ECF6\",\"radialaxis\":{\"gridcolor\":\"white\",\"linecolor\":\"white\",\"ticks\":\"\"}},\"scene\":{\"xaxis\":{\"backgroundcolor\":\"#E5ECF6\",\"gridcolor\":\"white\",\"gridwidth\":2,\"linecolor\":\"white\",\"showbackground\":true,\"ticks\":\"\",\"zerolinecolor\":\"white\"},\"yaxis\":{\"backgroundcolor\":\"#E5ECF6\",\"gridcolor\":\"white\",\"gridwidth\":2,\"linecolor\":\"white\",\"showbackground\":true,\"ticks\":\"\",\"zerolinecolor\":\"white\"},\"zaxis\":{\"backgroundcolor\":\"#E5ECF6\",\"gridcolor\":\"white\",\"gridwidth\":2,\"linecolor\":\"white\",\"showbackground\":true,\"ticks\":\"\",\"zerolinecolor\":\"white\"}},\"shapedefaults\":{\"line\":{\"color\":\"#2a3f5f\"}},\"ternary\":{\"aaxis\":{\"gridcolor\":\"white\",\"linecolor\":\"white\",\"ticks\":\"\"},\"baxis\":{\"gridcolor\":\"white\",\"linecolor\":\"white\",\"ticks\":\"\"},\"bgcolor\":\"#E5ECF6\",\"caxis\":{\"gridcolor\":\"white\",\"linecolor\":\"white\",\"ticks\":\"\"}},\"title\":{\"x\":0.05},\"xaxis\":{\"automargin\":true,\"gridcolor\":\"white\",\"linecolor\":\"white\",\"ticks\":\"\",\"title\":{\"standoff\":15},\"zerolinecolor\":\"white\",\"zerolinewidth\":2},\"yaxis\":{\"automargin\":true,\"gridcolor\":\"white\",\"linecolor\":\"white\",\"ticks\":\"\",\"title\":{\"standoff\":15},\"zerolinecolor\":\"white\",\"zerolinewidth\":2}}},\"xaxis\":{\"anchor\":\"y\",\"domain\":[0.0,1.0],\"title\":{\"text\":\"heart_disease\"}},\"yaxis\":{\"anchor\":\"x\",\"domain\":[0.0,1.0],\"title\":{\"text\":\"count\"}},\"legend\":{\"tracegroupgap\":0},\"title\":{\"text\":\"Patients without stroke\"},\"barmode\":\"relative\"},                        {\"responsive\": true}                    ).then(function(){\n",
              "                            \n",
              "var gd = document.getElementById('fb786d41-1260-48c3-9f98-51b5cf1c1132');\n",
              "var x = new MutationObserver(function (mutations, observer) {{\n",
              "        var display = window.getComputedStyle(gd).display;\n",
              "        if (!display || display === 'none') {{\n",
              "            console.log([gd, 'removed!']);\n",
              "            Plotly.purge(gd);\n",
              "            observer.disconnect();\n",
              "        }}\n",
              "}});\n",
              "\n",
              "// Listen for the removal of the full notebook cells\n",
              "var notebookContainer = gd.closest('#notebook-container');\n",
              "if (notebookContainer) {{\n",
              "    x.observe(notebookContainer, {childList: true});\n",
              "}}\n",
              "\n",
              "// Listen for the clearing of the current output cell\n",
              "var outputEl = gd.closest('.output');\n",
              "if (outputEl) {{\n",
              "    x.observe(outputEl, {childList: true});\n",
              "}}\n",
              "\n",
              "                        })                };                            </script>        </div>\n",
              "</body>\n",
              "</html>"
            ]
          },
          "metadata": {}
        }
      ]
    },
    {
      "cell_type": "markdown",
      "source": [
        "Residence Type"
      ],
      "metadata": {
        "id": "6vq_J4mNLQM3"
      }
    },
    {
      "cell_type": "code",
      "source": [
        "sns.set_theme(style = 'darkgrid')\n",
        "fig, ((ax1, ax2)) = plt.subplots(1,2,figsize=(14,3))\n",
        "sns.histplot(data=s_data,x=\"Residence_type\",ax=ax1)\n",
        "ax1.title.set_text('Patients with stroke')\n",
        "sns.histplot(data=n_data,x=\"Residence_type\",ax=ax2)\n",
        "ax2.title.set_text('Patients without stroke')"
      ],
      "metadata": {
        "colab": {
          "base_uri": "https://localhost:8080/",
          "height": 246
        },
        "id": "7rJYtmMdIdbV",
        "outputId": "663718eb-9b1e-49a6-a1f0-b9bf0aaae522"
      },
      "execution_count": null,
      "outputs": [
        {
          "output_type": "display_data",
          "data": {
            "text/plain": [
              "<Figure size 1008x216 with 2 Axes>"
            ],
            "image/png": "[encoded data removed]"
          },
          "metadata": {}
        }
      ]
    },
    {
      "cell_type": "markdown",
      "source": [
        "Worktype"
      ],
      "metadata": {
        "id": "yZ9EKLMJLWLy"
      }
    },
    {
      "cell_type": "code",
      "source": [
        "figwiths = px.histogram(s_data, x= 'work_type', title='Patients with stroke')\n",
        "figwiths.show()\n",
        "figwithouts = px.histogram(n_data, x= 'work_type', title='Patients without stroke')\n",
        "figwithouts.show()"
      ],
      "metadata": {
        "colab": {
          "base_uri": "https://localhost:8080/",
          "height": 1000
        },
        "id": "rlNC0_yfLV50",
        "outputId": "511f3025-6622-4508-d799-9423619af756"
      },
      "execution_count": null,
      "outputs": [
        {
          "output_type": "display_data",
          "data": {
            "text/html": [
              "<html>\n",
              "<head><meta charset=\"utf-8\" /></head>\n",
              "<body>\n",
              "    <div>            <script src=\"https://cdnjs.cloudflare.com/ajax/libs/mathjax/2.7.5/MathJax.js?config=TeX-AMS-MML_SVG\"></script><script type=\"text/javascript\">if (window.MathJax) {MathJax.Hub.Config({SVG: {font: \"STIX-Web\"}});}</script>                <script type=\"text/javascript\">window.PlotlyConfig = {MathJaxConfig: 'local'};</script>\n",
              "        <script src=\"https://cdn.plot.ly/plotly-2.8.3.min.js\"></script>                <div id=\"e3053fdf-9036-4de2-b536-65da0e986580\" class=\"plotly-graph-div\" style=\"height:525px; width:100%;\"></div>            <script type=\"text/javascript\">                                    window.PLOTLYENV=window.PLOTLYENV || {};                                    if (document.getElementById(\"e3053fdf-9036-4de2-b536-65da0e986580\")) {                    Plotly.newPlot(                        \"e3053fdf-9036-4de2-b536-65da0e986580\",                        [{\"alignmentgroup\":\"True\",\"bingroup\":\"x\",\"hovertemplate\":\"work_type=%{x}<br>count=%{y}<extra></extra>\",\"legendgroup\":\"\",\"marker\":{\"color\":\"#636efa\",\"pattern\":{\"shape\":\"\"}},\"name\":\"\",\"offsetgroup\":\"\",\"orientation\":\"v\",\"showlegend\":false,\"x\":[\"Private\",\"Self-employed\",\"Private\",\"Private\",\"Self-employed\",\"Private\",\"Private\",\"Private\",\"Private\",\"Private\",\"Private\",\"Govt_job\",\"Private\",\"Private\",\"Private\",\"Self-employed\",\"Private\",\"Private\",\"Private\",\"Govt_job\",\"Govt_job\",\"Self-employed\",\"Self-employed\",\"Private\",\"Private\",\"Self-employed\",\"Private\",\"Private\",\"Self-employed\",\"Private\",\"Private\",\"Private\",\"Self-employed\",\"Self-employed\",\"Govt_job\",\"Private\",\"Private\",\"Private\",\"Private\",\"Private\",\"Private\",\"Private\",\"Private\",\"Private\",\"Govt_job\",\"Private\",\"Self-employed\",\"Private\",\"Self-employed\",\"Private\",\"Private\",\"Private\",\"Private\",\"Self-employed\",\"Govt_job\",\"Private\",\"Private\",\"Private\",\"Self-employed\",\"Govt_job\",\"Private\",\"Private\",\"Self-employed\",\"Private\",\"Private\",\"Private\",\"Private\",\"Private\",\"Private\",\"Self-employed\",\"Govt_job\",\"Private\",\"Govt_job\",\"Private\",\"Private\",\"Self-employed\",\"Private\",\"Private\",\"Private\",\"Self-employed\",\"Private\",\"Self-employed\",\"Private\",\"Self-employed\",\"Private\",\"Private\",\"Private\",\"Private\",\"Private\",\"Private\",\"Private\",\"Private\",\"Self-employed\",\"Self-employed\",\"Private\",\"Private\",\"Self-employed\",\"Private\",\"Govt_job\",\"Govt_job\",\"Govt_job\",\"Govt_job\",\"Private\",\"Self-employed\",\"Govt_job\",\"Private\",\"Private\",\"Self-employed\",\"Private\",\"Govt_job\",\"Private\",\"Private\",\"Self-employed\",\"Private\",\"Govt_job\",\"Govt_job\",\"Self-employed\",\"Private\",\"Self-employed\",\"Private\",\"Private\",\"Private\",\"Private\",\"Private\",\"Private\",\"Govt_job\",\"Self-employed\",\"Private\",\"Govt_job\",\"Govt_job\",\"Private\",\"Private\",\"Private\",\"Private\",\"Self-employed\",\"Govt_job\",\"Private\",\"Private\",\"Self-employed\",\"Private\",\"Govt_job\",\"Private\",\"Private\",\"Self-employed\",\"Private\",\"Private\",\"Self-employed\",\"Private\",\"Govt_job\",\"Private\",\"Private\",\"Private\",\"Self-employed\",\"Self-employed\",\"Self-employed\",\"Private\",\"Private\",\"Private\",\"Self-employed\",\"Self-employed\",\"Private\",\"Private\",\"children\",\"Private\",\"Self-employed\",\"Self-employed\",\"Govt_job\",\"Private\",\"Govt_job\",\"Self-employed\",\"Self-employed\",\"Self-employed\",\"Private\",\"Self-employed\",\"Self-employed\",\"Self-employed\",\"Private\",\"Self-employed\",\"Govt_job\",\"Private\",\"Private\",\"Private\",\"Private\",\"Private\",\"Private\",\"Private\",\"Self-employed\",\"Govt_job\",\"Private\",\"Private\",\"Private\",\"Private\",\"Self-employed\",\"Private\",\"Private\",\"Private\",\"Private\",\"Private\",\"Private\",\"Self-employed\",\"Private\",\"Private\",\"Self-employed\",\"Self-employed\",\"Govt_job\",\"Private\",\"Private\",\"Self-employed\",\"Self-employed\",\"Govt_job\",\"Private\",\"Govt_job\",\"Private\",\"Private\",\"Self-employed\",\"Private\",\"Self-employed\",\"Private\",\"Self-employed\",\"Govt_job\",\"Private\",\"Private\",\"Govt_job\",\"Govt_job\",\"Private\",\"Private\",\"Private\",\"Self-employed\",\"Self-employed\",\"Private\",\"Self-employed\",\"Private\",\"Self-employed\",\"Self-employed\",\"Self-employed\",\"Private\",\"Private\",\"Self-employed\",\"Private\",\"Private\",\"Private\",\"Private\",\"Private\",\"Private\",\"Private\",\"children\",\"Self-employed\",\"Self-employed\",\"Private\"],\"xaxis\":\"x\",\"yaxis\":\"y\",\"type\":\"histogram\"}],                        {\"template\":{\"data\":{\"bar\":[{\"error_x\":{\"color\":\"#2a3f5f\"},\"error_y\":{\"color\":\"#2a3f5f\"},\"marker\":{\"line\":{\"color\":\"#E5ECF6\",\"width\":0.5},\"pattern\":{\"fillmode\":\"overlay\",\"size\":10,\"solidity\":0.2}},\"type\":\"bar\"}],\"barpolar\":[{\"marker\":{\"line\":{\"color\":\"#E5ECF6\",\"width\":0.5},\"pattern\":{\"fillmode\":\"overlay\",\"size\":10,\"solidity\":0.2}},\"type\":\"barpolar\"}],\"carpet\":[{\"aaxis\":{\"endlinecolor\":\"#2a3f5f\",\"gridcolor\":\"white\",\"linecolor\":\"white\",\"minorgridcolor\":\"white\",\"startlinecolor\":\"#2a3f5f\"},\"baxis\":{\"endlinecolor\":\"#2a3f5f\",\"gridcolor\":\"white\",\"linecolor\":\"white\",\"minorgridcolor\":\"white\",\"startlinecolor\":\"#2a3f5f\"},\"type\":\"carpet\"}],\"choropleth\":[{\"colorbar\":{\"outlinewidth\":0,\"ticks\":\"\"},\"type\":\"choropleth\"}],\"contour\":[{\"colorbar\":{\"outlinewidth\":0,\"ticks\":\"\"},\"colorscale\":[[0.0,\"#0d0887\"],[0.1111111111111111,\"#46039f\"],[0.2222222222222222,\"#7201a8\"],[0.3333333333333333,\"#9c179e\"],[0.4444444444444444,\"#bd3786\"],[0.5555555555555556,\"#d8576b\"],[0.6666666666666666,\"#ed7953\"],[0.7777777777777778,\"#fb9f3a\"],[0.8888888888888888,\"#fdca26\"],[1.0,\"#f0f921\"]],\"type\":\"contour\"}],\"contourcarpet\":[{\"colorbar\":{\"outlinewidth\":0,\"ticks\":\"\"},\"type\":\"contourcarpet\"}],\"heatmap\":[{\"colorbar\":{\"outlinewidth\":0,\"ticks\":\"\"},\"colorscale\":[[0.0,\"#0d0887\"],[0.1111111111111111,\"#46039f\"],[0.2222222222222222,\"#7201a8\"],[0.3333333333333333,\"#9c179e\"],[0.4444444444444444,\"#bd3786\"],[0.5555555555555556,\"#d8576b\"],[0.6666666666666666,\"#ed7953\"],[0.7777777777777778,\"#fb9f3a\"],[0.8888888888888888,\"#fdca26\"],[1.0,\"#f0f921\"]],\"type\":\"heatmap\"}],\"heatmapgl\":[{\"colorbar\":{\"outlinewidth\":0,\"ticks\":\"\"},\"colorscale\":[[0.0,\"#0d0887\"],[0.1111111111111111,\"#46039f\"],[0.2222222222222222,\"#7201a8\"],[0.3333333333333333,\"#9c179e\"],[0.4444444444444444,\"#bd3786\"],[0.5555555555555556,\"#d8576b\"],[0.6666666666666666,\"#ed7953\"],[0.7777777777777778,\"#fb9f3a\"],[0.8888888888888888,\"#fdca26\"],[1.0,\"#f0f921\"]],\"type\":\"heatmapgl\"}],\"histogram\":[{\"marker\":{\"pattern\":{\"fillmode\":\"overlay\",\"size\":10,\"solidity\":0.2}},\"type\":\"histogram\"}],\"histogram2d\":[{\"colorbar\":{\"outlinewidth\":0,\"ticks\":\"\"},\"colorscale\":[[0.0,\"#0d0887\"],[0.1111111111111111,\"#46039f\"],[0.2222222222222222,\"#7201a8\"],[0.3333333333333333,\"#9c179e\"],[0.4444444444444444,\"#bd3786\"],[0.5555555555555556,\"#d8576b\"],[0.6666666666666666,\"#ed7953\"],[0.7777777777777778,\"#fb9f3a\"],[0.8888888888888888,\"#fdca26\"],[1.0,\"#f0f921\"]],\"type\":\"histogram2d\"}],\"histogram2dcontour\":[{\"colorbar\":{\"outlinewidth\":0,\"ticks\":\"\"},\"colorscale\":[[0.0,\"#0d0887\"],[0.1111111111111111,\"#46039f\"],[0.2222222222222222,\"#7201a8\"],[0.3333333333333333,\"#9c179e\"],[0.4444444444444444,\"#bd3786\"],[0.5555555555555556,\"#d8576b\"],[0.6666666666666666,\"#ed7953\"],[0.7777777777777778,\"#fb9f3a\"],[0.8888888888888888,\"#fdca26\"],[1.0,\"#f0f921\"]],\"type\":\"histogram2dcontour\"}],\"mesh3d\":[{\"colorbar\":{\"outlinewidth\":0,\"ticks\":\"\"},\"type\":\"mesh3d\"}],\"parcoords\":[{\"line\":{\"colorbar\":{\"outlinewidth\":0,\"ticks\":\"\"}},\"type\":\"parcoords\"}],\"pie\":[{\"automargin\":true,\"type\":\"pie\"}],\"scatter\":[{\"marker\":{\"colorbar\":{\"outlinewidth\":0,\"ticks\":\"\"}},\"type\":\"scatter\"}],\"scatter3d\":[{\"line\":{\"colorbar\":{\"outlinewidth\":0,\"ticks\":\"\"}},\"marker\":{\"colorbar\":{\"outlinewidth\":0,\"ticks\":\"\"}},\"type\":\"scatter3d\"}],\"scattercarpet\":[{\"marker\":{\"colorbar\":{\"outlinewidth\":0,\"ticks\":\"\"}},\"type\":\"scattercarpet\"}],\"scattergeo\":[{\"marker\":{\"colorbar\":{\"outlinewidth\":0,\"ticks\":\"\"}},\"type\":\"scattergeo\"}],\"scattergl\":[{\"marker\":{\"colorbar\":{\"outlinewidth\":0,\"ticks\":\"\"}},\"type\":\"scattergl\"}],\"scattermapbox\":[{\"marker\":{\"colorbar\":{\"outlinewidth\":0,\"ticks\":\"\"}},\"type\":\"scattermapbox\"}],\"scatterpolar\":[{\"marker\":{\"colorbar\":{\"outlinewidth\":0,\"ticks\":\"\"}},\"type\":\"scatterpolar\"}],\"scatterpolargl\":[{\"marker\":{\"colorbar\":{\"outlinewidth\":0,\"ticks\":\"\"}},\"type\":\"scatterpolargl\"}],\"scatterternary\":[{\"marker\":{\"colorbar\":{\"outlinewidth\":0,\"ticks\":\"\"}},\"type\":\"scatterternary\"}],\"surface\":[{\"colorbar\":{\"outlinewidth\":0,\"ticks\":\"\"},\"colorscale\":[[0.0,\"#0d0887\"],[0.1111111111111111,\"#46039f\"],[0.2222222222222222,\"#7201a8\"],[0.3333333333333333,\"#9c179e\"],[0.4444444444444444,\"#bd3786\"],[0.5555555555555556,\"#d8576b\"],[0.6666666666666666,\"#ed7953\"],[0.7777777777777778,\"#fb9f3a\"],[0.8888888888888888,\"#fdca26\"],[1.0,\"#f0f921\"]],\"type\":\"surface\"}],\"table\":[{\"cells\":{\"fill\":{\"color\":\"#EBF0F8\"},\"line\":{\"color\":\"white\"}},\"header\":{\"fill\":{\"color\":\"#C8D4E3\"},\"line\":{\"color\":\"white\"}},\"type\":\"table\"}]},\"layout\":{\"annotationdefaults\":{\"arrowcolor\":\"#2a3f5f\",\"arrowhead\":0,\"arrowwidth\":1},\"autotypenumbers\":\"strict\",\"coloraxis\":{\"colorbar\":{\"outlinewidth\":0,\"ticks\":\"\"}},\"colorscale\":{\"diverging\":[[0,\"#8e0152\"],[0.1,\"#c51b7d\"],[0.2,\"#de77ae\"],[0.3,\"#f1b6da\"],[0.4,\"#fde0ef\"],[0.5,\"#f7f7f7\"],[0.6,\"#e6f5d0\"],[0.7,\"#b8e186\"],[0.8,\"#7fbc41\"],[0.9,\"#4d9221\"],[1,\"#276419\"]],\"sequential\":[[0.0,\"#0d0887\"],[0.1111111111111111,\"#46039f\"],[0.2222222222222222,\"#7201a8\"],[0.3333333333333333,\"#9c179e\"],[0.4444444444444444,\"#bd3786\"],[0.5555555555555556,\"#d8576b\"],[0.6666666666666666,\"#ed7953\"],[0.7777777777777778,\"#fb9f3a\"],[0.8888888888888888,\"#fdca26\"],[1.0,\"#f0f921\"]],\"sequentialminus\":[[0.0,\"#0d0887\"],[0.1111111111111111,\"#46039f\"],[0.2222222222222222,\"#7201a8\"],[0.3333333333333333,\"#9c179e\"],[0.4444444444444444,\"#bd3786\"],[0.5555555555555556,\"#d8576b\"],[0.6666666666666666,\"#ed7953\"],[0.7777777777777778,\"#fb9f3a\"],[0.8888888888888888,\"#fdca26\"],[1.0,\"#f0f921\"]]},\"colorway\":[\"#636efa\",\"#EF553B\",\"#00cc96\",\"#ab63fa\",\"#FFA15A\",\"#19d3f3\",\"#FF6692\",\"#B6E880\",\"#FF97FF\",\"#FECB52\"],\"font\":{\"color\":\"#2a3f5f\"},\"geo\":{\"bgcolor\":\"white\",\"lakecolor\":\"white\",\"landcolor\":\"#E5ECF6\",\"showlakes\":true,\"showland\":true,\"subunitcolor\":\"white\"},\"hoverlabel\":{\"align\":\"left\"},\"hovermode\":\"closest\",\"mapbox\":{\"style\":\"light\"},\"paper_bgcolor\":\"white\",\"plot_bgcolor\":\"#E5ECF6\",\"polar\":{\"angularaxis\":{\"gridcolor\":\"white\",\"linecolor\":\"white\",\"ticks\":\"\"},\"bgcolor\":\"#E5ECF6\",\"radialaxis\":{\"gridcolor\":\"white\",\"linecolor\":\"white\",\"ticks\":\"\"}},\"scene\":{\"xaxis\":{\"backgroundcolor\":\"#E5ECF6\",\"gridcolor\":\"white\",\"gridwidth\":2,\"linecolor\":\"white\",\"showbackground\":true,\"ticks\":\"\",\"zerolinecolor\":\"white\"},\"yaxis\":{\"backgroundcolor\":\"#E5ECF6\",\"gridcolor\":\"white\",\"gridwidth\":2,\"linecolor\":\"white\",\"showbackground\":true,\"ticks\":\"\",\"zerolinecolor\":\"white\"},\"zaxis\":{\"backgroundcolor\":\"#E5ECF6\",\"gridcolor\":\"white\",\"gridwidth\":2,\"linecolor\":\"white\",\"showbackground\":true,\"ticks\":\"\",\"zerolinecolor\":\"white\"}},\"shapedefaults\":{\"line\":{\"color\":\"#2a3f5f\"}},\"ternary\":{\"aaxis\":{\"gridcolor\":\"white\",\"linecolor\":\"white\",\"ticks\":\"\"},\"baxis\":{\"gridcolor\":\"white\",\"linecolor\":\"white\",\"ticks\":\"\"},\"bgcolor\":\"#E5ECF6\",\"caxis\":{\"gridcolor\":\"white\",\"linecolor\":\"white\",\"ticks\":\"\"}},\"title\":{\"x\":0.05},\"xaxis\":{\"automargin\":true,\"gridcolor\":\"white\",\"linecolor\":\"white\",\"ticks\":\"\",\"title\":{\"standoff\":15},\"zerolinecolor\":\"white\",\"zerolinewidth\":2},\"yaxis\":{\"automargin\":true,\"gridcolor\":\"white\",\"linecolor\":\"white\",\"ticks\":\"\",\"title\":{\"standoff\":15},\"zerolinecolor\":\"white\",\"zerolinewidth\":2}}},\"xaxis\":{\"anchor\":\"y\",\"domain\":[0.0,1.0],\"title\":{\"text\":\"work_type\"}},\"yaxis\":{\"anchor\":\"x\",\"domain\":[0.0,1.0],\"title\":{\"text\":\"count\"}},\"legend\":{\"tracegroupgap\":0},\"title\":{\"text\":\"Patients with stroke\"},\"barmode\":\"relative\"},                        {\"responsive\": true}                    ).then(function(){\n",
              "                            \n",
              "var gd = document.getElementById('e3053fdf-9036-4de2-b536-65da0e986580');\n",
              "var x = new MutationObserver(function (mutations, observer) {{\n",
              "        var display = window.getComputedStyle(gd).display;\n",
              "        if (!display || display === 'none') {{\n",
              "            console.log([gd, 'removed!']);\n",
              "            Plotly.purge(gd);\n",
              "            observer.disconnect();\n",
              "        }}\n",
              "}});\n",
              "\n",
              "// Listen for the removal of the full notebook cells\n",
              "var notebookContainer = gd.closest('#notebook-container');\n",
              "if (notebookContainer) {{\n",
              "    x.observe(notebookContainer, {childList: true});\n",
              "}}\n",
              "\n",
              "// Listen for the clearing of the current output cell\n",
              "var outputEl = gd.closest('.output');\n",
              "if (outputEl) {{\n",
              "    x.observe(outputEl, {childList: true});\n",
              "}}\n",
              "\n",
              "                        })                };                            </script>        </div>\n",
              "</body>\n",
              "</html>"
            ]
          },
          "metadata": {}
        },
        {
          "output_type": "display_data",
          "data": {
            "text/html": [
              "<html>\n",
              "<head><meta charset=\"utf-8\" /></head>\n",
              "<body>\n",
              "    <div>            <script src=\"https://cdnjs.cloudflare.com/ajax/libs/mathjax/2.7.5/MathJax.js?config=TeX-AMS-MML_SVG\"></script><script type=\"text/javascript\">if (window.MathJax) {MathJax.Hub.Config({SVG: {font: \"STIX-Web\"}});}</script>                <script type=\"text/javascript\">window.PlotlyConfig = {MathJaxConfig: 'local'};</script>\n",
              "        <script src=\"https://cdn.plot.ly/plotly-2.8.3.min.js\"></script>                <div id=\"656db9e5-d65f-40b9-845b-3d90e926931e\" class=\"plotly-graph-div\" style=\"height:525px; width:100%;\"></div>            <script type=\"text/javascript\">                                    window.PLOTLYENV=window.PLOTLYENV || {};                                    if (document.getElementById(\"656db9e5-d65f-40b9-845b-3d90e926931e\")) {                    Plotly.newPlot(                        \"656db9e5-d65f-40b9-845b-3d90e926931e\",                        [{\"alignmentgroup\":\"True\",\"bingroup\":\"x\",\"hovertemplate\":\"work_type=%{x}<br>count=%{y}<extra></extra>\",\"legendgroup\":\"\",\"marker\":{\"color\":\"#636efa\",\"pattern\":{\"shape\":\"\"}},\"name\":\"\",\"offsetgroup\":\"\",\"orientation\":\"v\",\"showlegend\":false,\"x\":[\"children\",\"Private\",\"Private\",\"Private\",\"Never_worked\",\"Private\",\"Private\",\"Self-employed\",\"Private\",\"Self-employed\",\"Govt_job\",\"Private\",\"Private\",\"Private\",\"Private\",\"Private\",\"Private\",\"Private\",\"Govt_job\",\"Self-employed\",\"Private\",\"Private\",\"Private\",\"Private\",\"Private\",\"Private\",\"Govt_job\",\"Private\",\"Private\",\"Self-employed\",\"Self-employed\",\"Private\",\"Private\",\"children\",\"Private\",\"Govt_job\",\"Private\",\"Private\",\"Private\",\"Self-employed\",\"Private\",\"children\",\"children\",\"children\",\"Private\",\"Private\",\"Govt_job\",\"Private\",\"Govt_job\",\"Self-employed\",\"Private\",\"Self-employed\",\"Self-employed\",\"Private\",\"Private\",\"Private\",\"Private\",\"children\",\"Govt_job\",\"Private\",\"Self-employed\",\"Self-employed\",\"Private\",\"Private\",\"Private\",\"Private\",\"Private\",\"Self-employed\",\"Self-employed\",\"Private\",\"Private\",\"Private\",\"children\",\"Private\",\"Private\",\"Govt_job\",\"Private\",\"Private\",\"children\",\"Private\",\"Private\",\"Private\",\"Private\",\"Self-employed\",\"Private\",\"Self-employed\",\"children\",\"Private\",\"Private\",\"Govt_job\",\"Private\",\"Private\",\"Private\",\"Private\",\"Govt_job\",\"Self-employed\",\"Private\",\"Private\",\"Govt_job\",\"Private\",\"Govt_job\",\"Self-employed\",\"Private\",\"Private\",\"Private\",\"Private\",\"Private\",\"Private\",\"Govt_job\",\"Self-employed\",\"Private\",\"Self-employed\",\"Self-employed\",\"Private\",\"children\",\"Private\",\"Private\",\"Self-employed\",\"Self-employed\",\"Private\",\"children\",\"Private\",\"Private\",\"Private\",\"Private\",\"Govt_job\",\"Govt_job\",\"children\",\"Private\",\"children\",\"Private\",\"children\",\"Private\",\"Govt_job\",\"children\",\"children\",\"Private\",\"Self-employed\",\"Private\",\"Govt_job\",\"Private\",\"Private\",\"Private\",\"Private\",\"Self-employed\",\"Private\",\"Private\",\"Private\",\"Self-employed\",\"Private\",\"Private\",\"children\",\"children\",\"Private\",\"Govt_job\",\"Self-employed\",\"Govt_job\",\"Private\",\"Private\",\"Private\",\"Private\",\"Self-employed\",\"Self-employed\",\"Govt_job\",\"Self-employed\",\"children\",\"Private\",\"children\",\"Private\",\"Private\",\"Private\",\"Govt_job\",\"children\",\"Private\",\"Private\",\"Private\",\"children\",\"Private\",\"Private\",\"Private\",\"Private\",\"Private\",\"Govt_job\",\"Govt_job\",\"Self-employed\",\"Govt_job\",\"Private\",\"Self-employed\",\"children\",\"Private\",\"Private\",\"Private\",\"Private\",\"Private\",\"Govt_job\",\"Self-employed\",\"children\",\"Govt_job\",\"Self-employed\",\"Private\",\"Govt_job\",\"Self-employed\",\"children\",\"Private\",\"Self-employed\",\"Private\",\"Private\",\"Private\",\"Private\",\"Private\",\"children\",\"children\",\"children\",\"Private\",\"Self-employed\",\"Private\",\"Private\",\"Private\",\"Self-employed\",\"Private\",\"Private\",\"Private\",\"Self-employed\",\"Private\",\"Govt_job\",\"Private\",\"Private\",\"Private\",\"Govt_job\",\"Govt_job\",\"Private\",\"children\",\"Self-employed\",\"Self-employed\",\"children\",\"Self-employed\",\"Private\",\"Private\",\"Private\",\"Self-employed\",\"Private\",\"Private\",\"Private\",\"Self-employed\",\"Private\",\"Private\",\"Private\",\"children\",\"children\",\"children\",\"Private\",\"Private\",\"Private\",\"Private\",\"Self-employed\",\"Govt_job\",\"Private\",\"Private\",\"Private\",\"Private\",\"Private\",\"Private\",\"Private\",\"Private\",\"Private\",\"Govt_job\",\"Private\",\"Self-employed\",\"Self-employed\",\"Private\",\"children\",\"Private\",\"Self-employed\",\"Private\",\"Private\",\"Govt_job\",\"children\",\"Private\",\"Govt_job\",\"Private\",\"Private\",\"Self-employed\",\"Private\",\"Private\",\"Private\",\"Private\",\"children\",\"Private\",\"Self-employed\",\"Private\",\"Private\",\"Private\",\"Govt_job\",\"Self-employed\",\"Self-employed\",\"Private\",\"Private\",\"children\",\"Private\",\"Private\",\"Private\",\"children\",\"Private\",\"Private\",\"Self-employed\",\"children\",\"Private\",\"Private\",\"Private\",\"children\",\"Govt_job\",\"children\",\"Private\",\"children\",\"Self-employed\",\"children\",\"Private\",\"Private\",\"Private\",\"Self-employed\",\"Self-employed\",\"Private\",\"Self-employed\",\"Private\",\"Private\",\"Private\",\"Private\",\"Private\",\"Private\",\"Private\",\"Private\",\"Self-employed\",\"Self-employed\",\"Private\",\"Private\",\"children\",\"Private\",\"Private\",\"Self-employed\",\"Private\",\"Private\",\"Private\",\"Private\",\"Private\",\"Private\",\"Private\",\"Private\",\"Self-employed\",\"children\",\"children\",\"Private\",\"Self-employed\",\"Private\",\"Govt_job\",\"Never_worked\",\"Private\",\"children\",\"Private\",\"children\",\"Private\",\"children\",\"Private\",\"Govt_job\",\"Private\",\"Self-employed\",\"Private\",\"Private\",\"Govt_job\",\"Govt_job\",\"Private\",\"Private\",\"Private\",\"Private\",\"Private\",\"Private\",\"Self-employed\",\"Private\",\"Private\",\"Govt_job\",\"Govt_job\",\"Self-employed\",\"Self-employed\",\"Private\",\"Govt_job\",\"Govt_job\",\"Private\",\"Private\",\"Private\",\"Private\",\"Self-employed\",\"Private\",\"Private\",\"children\",\"Private\",\"Self-employed\",\"Self-employed\",\"Self-employed\",\"Self-employed\",\"Private\",\"Private\",\"Govt_job\",\"Self-employed\",\"Self-employed\",\"Private\",\"Private\",\"Private\",\"Private\",\"children\",\"children\",\"Self-employed\",\"Self-employed\",\"Private\",\"Self-employed\",\"Private\",\"Private\",\"Private\",\"Govt_job\",\"Self-employed\",\"children\",\"Private\",\"Govt_job\",\"Self-employed\",\"Private\",\"Private\",\"Govt_job\",\"children\",\"Govt_job\",\"Private\",\"Private\",\"Private\",\"Private\",\"Govt_job\",\"Private\",\"Private\",\"children\",\"children\",\"Private\",\"Private\",\"Private\",\"Private\",\"Private\",\"Self-employed\",\"Self-employed\",\"Private\",\"children\",\"Private\",\"Private\",\"children\",\"Private\",\"Private\",\"Private\",\"Private\",\"Private\",\"Private\",\"Private\",\"Private\",\"Private\",\"Govt_job\",\"Private\",\"Private\",\"Private\",\"Self-employed\",\"Self-employed\",\"Private\",\"Private\",\"Private\",\"Private\",\"Private\",\"children\",\"Private\",\"Private\",\"Self-employed\",\"Private\",\"children\",\"Private\",\"Private\",\"Private\",\"Self-employed\",\"Private\",\"Private\",\"Govt_job\",\"children\",\"Private\",\"Private\",\"children\",\"Self-employed\",\"Private\",\"Private\",\"Private\",\"Govt_job\",\"Private\",\"Private\",\"Private\",\"children\",\"Private\",\"Private\",\"Private\",\"Private\",\"Govt_job\",\"Self-employed\",\"Govt_job\",\"children\",\"Private\",\"Private\",\"children\",\"Private\",\"Private\",\"Private\",\"Private\",\"Govt_job\",\"Private\",\"Private\",\"Private\",\"Private\",\"Private\",\"Private\",\"Private\",\"Private\",\"Private\",\"Private\",\"Private\",\"Private\",\"Govt_job\",\"Private\",\"Private\",\"Govt_job\",\"Self-employed\",\"Private\",\"Private\",\"Private\",\"Private\",\"children\",\"Private\",\"Self-employed\",\"children\",\"Private\",\"Private\",\"Private\",\"Private\",\"Private\",\"Private\",\"Private\",\"Private\",\"Private\",\"Private\",\"Private\",\"Govt_job\",\"Private\",\"Private\",\"Private\",\"children\",\"Private\",\"Private\",\"Self-employed\",\"Private\",\"Private\",\"Private\",\"Private\",\"Govt_job\",\"Govt_job\",\"Private\",\"Private\",\"Private\",\"Private\",\"Govt_job\",\"children\",\"Govt_job\",\"Govt_job\",\"children\",\"Govt_job\",\"Private\",\"Private\",\"Govt_job\",\"Govt_job\",\"Govt_job\",\"Govt_job\",\"Govt_job\",\"Private\",\"Govt_job\",\"Govt_job\",\"Govt_job\",\"children\",\"Private\",\"Private\",\"children\",\"Private\",\"Govt_job\",\"Private\",\"Govt_job\",\"Private\",\"Private\",\"children\",\"Govt_job\",\"Private\",\"Self-employed\",\"children\",\"Private\",\"Govt_job\",\"Private\",\"Govt_job\",\"Self-employed\",\"children\",\"Private\",\"Private\",\"Private\",\"Self-employed\",\"Private\",\"children\",\"Private\",\"Private\",\"Private\",\"Private\",\"Private\",\"Private\",\"Private\",\"Self-employed\",\"Private\",\"Private\",\"Private\",\"Private\",\"Private\",\"Private\",\"Govt_job\",\"Private\",\"Private\",\"Private\",\"Private\",\"Private\",\"children\",\"Private\",\"Self-employed\",\"Govt_job\",\"Govt_job\",\"Private\",\"Private\",\"Private\",\"Self-employed\",\"Never_worked\",\"Private\",\"Private\",\"Self-employed\",\"Self-employed\",\"Private\",\"Private\",\"children\",\"Self-employed\",\"Private\",\"Private\",\"Private\",\"Self-employed\",\"Private\",\"Private\",\"Private\",\"Self-employed\",\"Govt_job\",\"Private\",\"Private\",\"Private\",\"Private\",\"Private\",\"Private\",\"Private\",\"Private\",\"Private\",\"children\",\"Private\",\"Private\",\"Private\",\"Self-employed\",\"Private\",\"children\",\"Govt_job\",\"children\",\"children\",\"Self-employed\",\"Private\",\"children\",\"Private\",\"Private\",\"Private\",\"Self-employed\",\"Self-employed\",\"Private\",\"Govt_job\",\"Self-employed\",\"Self-employed\",\"Private\",\"Private\",\"Private\",\"Private\",\"Never_worked\",\"Private\",\"Govt_job\",\"Self-employed\",\"Private\",\"Self-employed\",\"Self-employed\",\"Private\",\"Private\",\"Self-employed\",\"Private\",\"Private\",\"children\",\"Private\",\"children\",\"Govt_job\",\"Private\",\"Self-employed\",\"children\",\"Private\",\"Never_worked\",\"Private\",\"children\",\"Private\",\"Private\",\"Private\",\"Private\",\"Private\",\"Private\",\"Private\",\"Private\",\"Self-employed\",\"Private\",\"Private\",\"Private\",\"children\",\"Private\",\"Govt_job\",\"children\",\"Private\",\"Private\",\"children\",\"Private\",\"children\",\"Govt_job\",\"Private\",\"Private\",\"children\",\"Self-employed\",\"Private\",\"Private\",\"Private\",\"Private\",\"Self-employed\",\"Private\",\"Govt_job\",\"children\",\"children\",\"Private\",\"Private\",\"children\",\"Private\",\"Private\",\"Private\",\"Private\",\"Govt_job\",\"Private\",\"children\",\"Private\",\"Private\",\"children\",\"Private\",\"Private\",\"children\",\"Self-employed\",\"Govt_job\",\"Private\",\"Self-employed\",\"Self-employed\",\"Self-employed\",\"Self-employed\",\"Private\",\"Govt_job\",\"Private\",\"Govt_job\",\"Private\",\"Private\",\"Private\",\"Private\",\"Private\",\"Self-employed\",\"Private\",\"Private\",\"children\",\"Private\",\"Private\",\"Private\",\"Private\",\"Private\",\"Private\",\"Private\",\"Private\",\"Govt_job\",\"Self-employed\",\"Private\",\"Govt_job\",\"Private\",\"Private\",\"children\",\"Private\",\"Private\",\"Private\",\"Self-employed\",\"Private\",\"Self-employed\",\"Self-employed\",\"Private\",\"children\",\"Private\",\"Private\",\"Private\",\"Private\",\"Private\",\"Private\",\"Private\",\"Self-employed\",\"Govt_job\",\"Self-employed\",\"Private\",\"Private\",\"children\",\"Self-employed\",\"Private\",\"Govt_job\",\"Private\",\"children\",\"Private\",\"Private\",\"Private\",\"Private\",\"Govt_job\",\"Private\",\"Private\",\"Govt_job\",\"Self-employed\",\"Private\",\"Self-employed\",\"Private\",\"Private\",\"Private\",\"Private\",\"Private\",\"Private\",\"Self-employed\",\"children\",\"Private\",\"Private\",\"Private\",\"Private\",\"Private\",\"Private\",\"Self-employed\",\"children\",\"Private\",\"Private\",\"Govt_job\",\"Govt_job\",\"Self-employed\",\"Private\",\"Govt_job\",\"Private\",\"Private\",\"Private\",\"Private\",\"Self-employed\",\"Private\",\"children\",\"Govt_job\",\"Self-employed\",\"Self-employed\",\"Private\",\"Private\",\"Self-employed\",\"Private\",\"children\",\"children\",\"Private\",\"Private\",\"Private\",\"Govt_job\",\"Private\",\"Private\",\"Private\",\"children\",\"Private\",\"children\",\"Private\",\"Govt_job\",\"children\",\"Private\",\"Private\",\"Private\",\"Private\",\"Private\",\"children\",\"Private\",\"children\",\"Private\",\"Private\",\"Private\",\"Govt_job\",\"Private\",\"Private\",\"Private\",\"Govt_job\",\"Private\",\"children\",\"Private\",\"Private\",\"Private\",\"children\",\"Govt_job\",\"Private\",\"Private\",\"Private\",\"Private\",\"Private\",\"Private\",\"Private\",\"Self-employed\",\"Private\",\"Private\",\"Govt_job\",\"Private\",\"Private\",\"children\",\"Govt_job\",\"Govt_job\",\"Private\",\"Private\",\"Private\",\"Private\",\"Private\",\"children\",\"Self-employed\",\"Private\",\"children\",\"Govt_job\",\"Govt_job\",\"Private\",\"Self-employed\",\"Self-employed\",\"Private\",\"Private\",\"Private\",\"children\",\"Private\",\"Private\",\"Private\",\"Private\",\"Private\",\"Private\",\"Private\",\"Self-employed\",\"Private\",\"Private\",\"Private\",\"children\",\"Private\",\"Private\",\"Private\",\"Private\",\"Private\",\"Private\",\"Self-employed\",\"Private\",\"Private\",\"Self-employed\",\"Private\",\"children\",\"Govt_job\",\"Private\",\"Private\",\"children\",\"children\",\"Private\",\"Private\",\"Self-employed\",\"Self-employed\",\"Private\",\"Self-employed\",\"Self-employed\",\"children\",\"Private\",\"Govt_job\",\"Govt_job\",\"Private\",\"Govt_job\",\"Govt_job\",\"Private\",\"Private\",\"Govt_job\",\"Self-employed\",\"Private\",\"children\",\"children\",\"Private\",\"children\",\"Private\",\"Private\",\"Private\",\"Private\",\"children\",\"children\",\"children\",\"Private\",\"Govt_job\",\"Self-employed\",\"Private\",\"Private\",\"Private\",\"Private\",\"Private\",\"Private\",\"Private\",\"Private\",\"Private\",\"Govt_job\",\"Private\",\"Private\",\"Private\",\"children\",\"Private\",\"Private\",\"Private\",\"Self-employed\",\"Private\",\"Govt_job\",\"children\",\"children\",\"Private\",\"Self-employed\",\"children\",\"Private\",\"Private\",\"Private\",\"Govt_job\",\"Self-employed\",\"children\",\"Private\",\"Self-employed\",\"Private\",\"Govt_job\",\"children\",\"Private\",\"Private\",\"Private\",\"Private\",\"Self-employed\",\"children\",\"Self-employed\",\"Private\",\"children\",\"Self-employed\",\"Self-employed\",\"Private\",\"Govt_job\",\"Private\",\"Private\",\"Govt_job\",\"Govt_job\",\"Private\",\"Private\",\"children\",\"Private\",\"Private\",\"Self-employed\",\"Private\",\"children\",\"Private\",\"Self-employed\",\"Private\",\"Private\",\"Private\",\"Self-employed\",\"Govt_job\",\"Self-employed\",\"Private\",\"Private\",\"Private\",\"Private\",\"Private\",\"Self-employed\",\"Self-employed\",\"Private\",\"Private\",\"Self-employed\",\"Private\",\"Private\",\"Private\",\"Private\",\"Private\",\"Private\",\"Private\",\"Self-employed\",\"Private\",\"Private\",\"Private\",\"Private\",\"Self-employed\",\"Private\",\"Private\",\"Govt_job\",\"Self-employed\",\"Self-employed\",\"Private\",\"Self-employed\",\"Govt_job\",\"Private\",\"children\",\"children\",\"Private\",\"Private\",\"Self-employed\",\"Private\",\"children\",\"Self-employed\",\"children\",\"Private\",\"Private\",\"Private\",\"children\",\"children\",\"Private\",\"Private\",\"Govt_job\",\"Private\",\"Govt_job\",\"Self-employed\",\"Private\",\"Private\",\"children\",\"Private\",\"Private\",\"Private\",\"Private\",\"Private\",\"children\",\"Private\",\"Self-employed\",\"children\",\"children\",\"Self-employed\",\"children\",\"Self-employed\",\"Private\",\"Private\",\"children\",\"Private\",\"Govt_job\",\"Govt_job\",\"Private\",\"Private\",\"Private\",\"Private\",\"Private\",\"children\",\"children\",\"Private\",\"children\",\"Private\",\"Private\",\"Private\",\"Private\",\"Private\",\"Self-employed\",\"Private\",\"Private\",\"Private\",\"Private\",\"Private\",\"Private\",\"children\",\"children\",\"Private\",\"children\",\"Private\",\"children\",\"Private\",\"Private\",\"Private\",\"children\",\"Govt_job\",\"children\",\"Private\",\"Private\",\"Private\",\"Govt_job\",\"Private\",\"Private\",\"Private\",\"Private\",\"Private\",\"children\",\"Self-employed\",\"Private\",\"children\",\"Govt_job\",\"Private\",\"Private\",\"Private\",\"children\",\"Private\",\"Private\",\"Govt_job\",\"Private\",\"children\",\"Self-employed\",\"Private\",\"Self-employed\",\"Govt_job\",\"Private\",\"Private\",\"Never_worked\",\"Private\",\"children\",\"Private\",\"Private\",\"children\",\"Self-employed\",\"Private\",\"Private\",\"children\",\"Govt_job\",\"Govt_job\",\"Private\",\"Private\",\"Private\",\"Govt_job\",\"Private\",\"Self-employed\",\"Self-employed\",\"Govt_job\",\"Govt_job\",\"children\",\"children\",\"Self-employed\",\"children\",\"Private\",\"children\",\"Private\",\"Govt_job\",\"Private\",\"Private\",\"children\",\"Self-employed\",\"Private\",\"Govt_job\",\"Self-employed\",\"Private\",\"children\",\"Private\",\"Private\",\"Private\",\"Private\",\"Self-employed\",\"Private\",\"Self-employed\",\"Govt_job\",\"Private\",\"Private\",\"Self-employed\",\"Private\",\"children\",\"Private\",\"Govt_job\",\"Govt_job\",\"Self-employed\",\"Govt_job\",\"Private\",\"Private\",\"Private\",\"Private\",\"Private\",\"Private\",\"Private\",\"Private\",\"Govt_job\",\"Govt_job\",\"Govt_job\",\"Private\",\"Private\",\"Self-employed\",\"Private\",\"Private\",\"Private\",\"Private\",\"children\",\"Private\",\"Self-employed\",\"Private\",\"Private\",\"Private\",\"Private\",\"Self-employed\",\"Private\",\"Private\",\"Self-employed\",\"Self-employed\",\"children\",\"Private\",\"Self-employed\",\"Private\",\"Self-employed\",\"Govt_job\",\"Private\",\"children\",\"Self-employed\",\"Self-employed\",\"children\",\"Private\",\"Private\",\"Private\",\"Private\",\"Private\",\"Private\",\"children\",\"Self-employed\",\"Private\",\"Private\",\"Private\",\"Govt_job\",\"Self-employed\",\"children\",\"Private\",\"Private\",\"Private\",\"Private\",\"Self-employed\",\"Private\",\"Private\",\"Private\",\"Private\",\"Private\",\"Govt_job\",\"Private\",\"Private\",\"Govt_job\",\"children\",\"Private\",\"Govt_job\",\"children\",\"Private\",\"Private\",\"Private\",\"Private\",\"Private\",\"Private\",\"children\",\"Private\",\"Private\",\"children\",\"Private\",\"Govt_job\",\"Private\",\"Private\",\"Self-employed\",\"Private\",\"Private\",\"Private\",\"children\",\"Private\",\"Private\",\"Self-employed\",\"Govt_job\",\"children\",\"Govt_job\",\"Self-employed\",\"Private\",\"Private\",\"children\",\"Govt_job\",\"Govt_job\",\"Private\",\"Private\",\"Private\",\"Private\",\"Private\",\"Private\",\"Private\",\"Private\",\"Self-employed\",\"Private\",\"children\",\"children\",\"Private\",\"Govt_job\",\"Private\",\"Private\",\"Govt_job\",\"Self-employed\",\"Private\",\"Govt_job\",\"Private\",\"Private\",\"Private\",\"Private\",\"Self-employed\",\"children\",\"Private\",\"Private\",\"Private\",\"Self-employed\",\"Private\",\"Private\",\"Private\",\"Private\",\"Private\",\"Private\",\"Private\",\"Private\",\"Self-employed\",\"Private\",\"Govt_job\",\"Private\",\"Private\",\"Private\",\"children\",\"Private\",\"children\",\"Private\",\"Private\",\"Private\",\"Private\",\"Private\",\"Private\",\"Private\",\"Private\",\"Private\",\"Self-employed\",\"Private\",\"Private\",\"Private\",\"Self-employed\",\"Private\",\"children\",\"Private\",\"children\",\"Self-employed\",\"Private\",\"Self-employed\",\"Private\",\"Private\",\"Private\",\"Private\",\"Govt_job\",\"Private\",\"Govt_job\",\"Private\",\"Govt_job\",\"Govt_job\",\"Private\",\"children\",\"children\",\"Private\",\"Private\",\"Private\",\"Govt_job\",\"Private\",\"children\",\"Private\",\"Private\",\"Private\",\"Private\",\"Private\",\"children\",\"Private\",\"Private\",\"Private\",\"Govt_job\",\"Private\",\"Self-employed\",\"Self-employed\",\"Self-employed\",\"Govt_job\",\"children\",\"Private\",\"Private\",\"Govt_job\",\"children\",\"Self-employed\",\"Private\",\"Private\",\"Govt_job\",\"Private\",\"Private\",\"Self-employed\",\"Private\",\"Private\",\"Private\",\"Self-employed\",\"Private\",\"Private\",\"Private\",\"Private\",\"Private\",\"Private\",\"Private\",\"Govt_job\",\"Govt_job\",\"Private\",\"Self-employed\",\"Private\",\"Private\",\"Self-employed\",\"Govt_job\",\"Self-employed\",\"Self-employed\",\"Private\",\"children\",\"Private\",\"Self-employed\",\"Self-employed\",\"Private\",\"Private\",\"Govt_job\",\"children\",\"Private\",\"children\",\"Private\",\"Self-employed\",\"Private\",\"Private\",\"Private\",\"Private\",\"children\",\"Private\",\"Private\",\"children\",\"Private\",\"Private\",\"Self-employed\",\"Private\",\"Private\",\"children\",\"Private\",\"Private\",\"Self-employed\",\"Private\",\"Govt_job\",\"Never_worked\",\"Private\",\"children\",\"Private\",\"Private\",\"children\",\"Private\",\"Private\",\"Private\",\"Self-employed\",\"Private\",\"Private\",\"Private\",\"Private\",\"Private\",\"Private\",\"Private\",\"children\",\"Private\",\"children\",\"Private\",\"Self-employed\",\"Private\",\"Private\",\"Private\",\"Govt_job\",\"Private\",\"Self-employed\",\"Private\",\"Private\",\"Private\",\"Private\",\"Private\",\"Private\",\"Private\",\"children\",\"Private\",\"Private\",\"Private\",\"Private\",\"Private\",\"Private\",\"children\",\"Private\",\"children\",\"Private\",\"Private\",\"Govt_job\",\"Self-employed\",\"Self-employed\",\"Self-employed\",\"Govt_job\",\"children\",\"Private\",\"Private\",\"Private\",\"Private\",\"children\",\"Self-employed\",\"Private\",\"children\",\"Self-employed\",\"Private\",\"Private\",\"Govt_job\",\"Self-employed\",\"Private\",\"Govt_job\",\"Private\",\"Self-employed\",\"Govt_job\",\"Private\",\"Private\",\"Private\",\"children\",\"Private\",\"Private\",\"children\",\"Private\",\"Govt_job\",\"Private\",\"Self-employed\",\"Govt_job\",\"Self-employed\",\"Private\",\"Private\",\"Private\",\"Self-employed\",\"children\",\"Self-employed\",\"Private\",\"Govt_job\",\"Self-employed\",\"Private\",\"Private\",\"Self-employed\",\"Private\",\"Private\",\"Self-employed\",\"Private\",\"Private\",\"Govt_job\",\"Govt_job\",\"Private\",\"Govt_job\",\"Private\",\"Private\",\"Govt_job\",\"Private\",\"Govt_job\",\"Private\",\"children\",\"Private\",\"Private\",\"Private\",\"Private\",\"Govt_job\",\"Private\",\"Private\",\"Private\",\"Private\",\"children\",\"Self-employed\",\"Private\",\"Private\",\"Private\",\"Private\",\"Govt_job\",\"children\",\"Govt_job\",\"children\",\"Self-employed\",\"Private\",\"Never_worked\",\"Self-employed\",\"Private\",\"Private\",\"Private\",\"children\",\"children\",\"children\",\"Private\",\"Private\",\"Private\",\"Private\",\"Private\",\"Private\",\"Private\",\"Private\",\"Self-employed\",\"Govt_job\",\"Self-employed\",\"Private\",\"children\",\"Private\",\"Self-employed\",\"Private\",\"Private\",\"Private\",\"children\",\"Private\",\"children\",\"Private\",\"Govt_job\",\"Self-employed\",\"Self-employed\",\"Govt_job\",\"Private\",\"children\",\"children\",\"children\",\"Private\",\"Self-employed\",\"Private\",\"Private\",\"Self-employed\",\"children\",\"Private\",\"Private\",\"Private\",\"Private\",\"Private\",\"Self-employed\",\"Private\",\"Private\",\"Private\",\"children\",\"Private\",\"Private\",\"Self-employed\",\"Private\",\"children\",\"Private\",\"Govt_job\",\"Self-employed\",\"Private\",\"Private\",\"Private\",\"Private\",\"Private\",\"Private\",\"children\",\"Private\",\"Private\",\"Private\",\"Govt_job\",\"Private\",\"Private\",\"Self-employed\",\"Private\",\"children\",\"Private\",\"Private\",\"Self-employed\",\"Govt_job\",\"Private\",\"Private\",\"Private\",\"Private\",\"children\",\"Private\",\"Private\",\"Govt_job\",\"children\",\"children\",\"Private\",\"children\",\"Self-employed\",\"Private\",\"Private\",\"Private\",\"Private\",\"Private\",\"Private\",\"Private\",\"Govt_job\",\"Private\",\"Self-employed\",\"Private\",\"Private\",\"Private\",\"children\",\"Private\",\"Private\",\"Private\",\"Self-employed\",\"Private\",\"children\",\"Private\",\"Private\",\"Private\",\"Private\",\"Govt_job\",\"children\",\"Private\",\"Private\",\"children\",\"Private\",\"Self-employed\",\"Private\",\"Govt_job\",\"children\",\"Private\",\"Self-employed\",\"Govt_job\",\"Private\",\"Private\",\"children\",\"Govt_job\",\"Private\",\"Private\",\"Private\",\"Self-employed\",\"Private\",\"Govt_job\",\"Private\",\"Private\",\"Private\",\"Self-employed\",\"Govt_job\",\"Private\",\"Private\",\"Govt_job\",\"Govt_job\",\"children\",\"children\",\"Private\",\"children\",\"Private\",\"Private\",\"children\",\"Private\",\"Govt_job\",\"Private\",\"Private\",\"Private\",\"Private\",\"Private\",\"Self-employed\",\"Private\",\"Private\",\"Private\",\"children\",\"Self-employed\",\"Self-employed\",\"Govt_job\",\"Private\",\"Private\",\"Private\",\"Self-employed\",\"Private\",\"Private\",\"Private\",\"Self-employed\",\"Private\",\"Private\",\"Private\",\"Private\",\"Private\",\"Private\",\"Private\",\"Private\",\"Private\",\"Self-employed\",\"Private\",\"Private\",\"Private\",\"children\",\"Self-employed\",\"Govt_job\",\"Private\",\"Private\",\"Private\",\"Self-employed\",\"Private\",\"Private\",\"Private\",\"Private\",\"Private\",\"Private\",\"Private\",\"Private\",\"Self-employed\",\"Private\",\"Private\",\"Self-employed\",\"Private\",\"Private\",\"Private\",\"Private\",\"Self-employed\",\"Self-employed\",\"Private\",\"Private\",\"Self-employed\",\"Private\",\"Private\",\"children\",\"Govt_job\",\"children\",\"Private\",\"Private\",\"Private\",\"children\",\"Govt_job\",\"children\",\"Self-employed\",\"Self-employed\",\"children\",\"Self-employed\",\"Govt_job\",\"Private\",\"Govt_job\",\"Govt_job\",\"children\",\"Self-employed\",\"children\",\"Private\",\"Private\",\"Private\",\"children\",\"Private\",\"Private\",\"Private\",\"Private\",\"Self-employed\",\"children\",\"Private\",\"children\",\"Private\",\"Private\",\"Private\",\"Private\",\"Self-employed\",\"Private\",\"Private\",\"Private\",\"children\",\"Private\",\"Private\",\"Govt_job\",\"Self-employed\",\"children\",\"Self-employed\",\"Private\",\"children\",\"Private\",\"Private\",\"Private\",\"Self-employed\",\"Private\",\"Self-employed\",\"Private\",\"Govt_job\",\"Self-employed\",\"Self-employed\",\"Govt_job\",\"Govt_job\",\"Govt_job\",\"Govt_job\",\"Self-employed\",\"Private\",\"Self-employed\",\"Private\",\"Private\",\"Self-employed\",\"Private\",\"Private\",\"children\",\"Govt_job\",\"Private\",\"Private\",\"Private\",\"children\",\"Private\",\"Private\",\"Private\",\"Govt_job\",\"Private\",\"Private\",\"Self-employed\",\"children\",\"Private\",\"Govt_job\",\"Self-employed\",\"Private\",\"Private\",\"Private\",\"Self-employed\",\"Private\",\"Private\",\"children\",\"children\",\"children\",\"Self-employed\",\"Private\",\"children\",\"Private\",\"children\",\"Private\",\"children\",\"Private\",\"Private\",\"Private\",\"Govt_job\",\"Private\",\"Self-employed\",\"Govt_job\",\"Private\",\"children\",\"Private\",\"Private\",\"Private\",\"Govt_job\",\"Private\",\"Private\",\"Self-employed\",\"Self-employed\",\"Private\",\"children\",\"Private\",\"Private\",\"Private\",\"Self-employed\",\"Private\",\"Govt_job\",\"Self-employed\",\"Private\",\"Private\",\"Private\",\"Private\",\"Self-employed\",\"Private\",\"Private\",\"Private\",\"Self-employed\",\"Private\",\"Private\",\"Private\",\"Private\",\"Private\",\"Private\",\"children\",\"Self-employed\",\"Private\",\"Govt_job\",\"Private\",\"Govt_job\",\"Private\",\"Private\",\"Private\",\"children\",\"Private\",\"Self-employed\",\"Govt_job\",\"children\",\"children\",\"Private\",\"Self-employed\",\"children\",\"Govt_job\",\"children\",\"children\",\"Self-employed\",\"Private\",\"Private\",\"Self-employed\",\"Private\",\"Govt_job\",\"Private\",\"Private\",\"Private\",\"Govt_job\",\"Self-employed\",\"Private\",\"Self-employed\",\"Private\",\"Private\",\"Private\",\"Self-employed\",\"children\",\"Private\",\"Private\",\"Private\",\"children\",\"Govt_job\",\"Private\",\"Self-employed\",\"Private\",\"Private\",\"Govt_job\",\"Private\",\"Private\",\"Self-employed\",\"Govt_job\",\"Self-employed\",\"Private\",\"Never_worked\",\"children\",\"children\",\"Private\",\"Private\",\"Private\",\"Private\",\"children\",\"Private\",\"Private\",\"Self-employed\",\"Private\",\"children\",\"Govt_job\",\"Self-employed\",\"Private\",\"Self-employed\",\"Self-employed\",\"children\",\"Private\",\"Self-employed\",\"Private\",\"Private\",\"Self-employed\",\"children\",\"Private\",\"Private\",\"Self-employed\",\"Self-employed\",\"Private\",\"Private\",\"Private\",\"Private\",\"Private\",\"Private\",\"Private\",\"Private\",\"Private\",\"Private\",\"Govt_job\",\"Private\",\"Private\",\"children\",\"children\",\"Private\",\"Private\",\"Private\",\"Private\",\"Private\",\"Private\",\"Private\",\"children\",\"Govt_job\",\"Self-employed\",\"Govt_job\",\"Private\",\"Private\",\"Private\",\"Private\",\"Private\",\"Private\",\"Govt_job\",\"Govt_job\",\"Govt_job\",\"Private\",\"Private\",\"Private\",\"Private\",\"Private\",\"Govt_job\",\"Private\",\"Govt_job\",\"Self-employed\",\"Private\",\"Private\",\"Private\",\"Self-employed\",\"children\",\"Private\",\"children\",\"children\",\"Govt_job\",\"Govt_job\",\"Self-employed\",\"Govt_job\",\"Private\",\"children\",\"Self-employed\",\"Govt_job\",\"Private\",\"children\",\"children\",\"Private\",\"Private\",\"Self-employed\",\"Govt_job\",\"Self-employed\",\"children\",\"Private\",\"Private\",\"Self-employed\",\"Private\",\"Private\",\"Private\",\"children\",\"Self-employed\",\"Govt_job\",\"Private\",\"Private\",\"Private\",\"Private\",\"children\",\"Private\",\"Private\",\"Private\",\"Private\",\"Govt_job\",\"Private\",\"Govt_job\",\"Private\",\"Govt_job\",\"Private\",\"Self-employed\",\"Private\",\"Self-employed\",\"children\",\"children\",\"Private\",\"children\",\"Private\",\"Private\",\"Self-employed\",\"children\",\"children\",\"children\",\"children\",\"Private\",\"Govt_job\",\"Private\",\"Private\",\"Self-employed\",\"Self-employed\",\"children\",\"Private\",\"children\",\"Self-employed\",\"Govt_job\",\"Govt_job\",\"Self-employed\",\"Private\",\"Private\",\"Private\",\"children\",\"Self-employed\",\"Self-employed\",\"Private\",\"Self-employed\",\"Private\",\"Private\",\"Private\",\"Private\",\"Private\",\"Private\",\"Private\",\"Private\",\"Private\",\"Private\",\"Private\",\"Private\",\"Private\",\"Private\",\"Private\",\"Private\",\"Private\",\"Self-employed\",\"Private\",\"Private\",\"Private\",\"Private\",\"Private\",\"children\",\"Private\",\"Private\",\"Private\",\"children\",\"children\",\"Private\",\"Private\",\"Private\",\"Private\",\"Private\",\"Self-employed\",\"children\",\"Self-employed\",\"Self-employed\",\"Private\",\"children\",\"children\",\"Private\",\"Private\",\"Govt_job\",\"Govt_job\",\"Private\",\"Private\",\"Private\",\"Private\",\"Private\",\"Self-employed\",\"children\",\"Govt_job\",\"Private\",\"Private\",\"Private\",\"Private\",\"children\",\"Private\",\"Private\",\"Private\",\"Private\",\"Private\",\"children\",\"Private\",\"Private\",\"Private\",\"Self-employed\",\"Private\",\"Private\",\"Private\",\"Private\",\"Private\",\"Self-employed\",\"Private\",\"Self-employed\",\"children\",\"Private\",\"Private\",\"Private\",\"Private\",\"Private\",\"Private\",\"Govt_job\",\"Private\",\"children\",\"Self-employed\",\"children\",\"Govt_job\",\"Govt_job\",\"children\",\"Private\",\"children\",\"Private\",\"Private\",\"Private\",\"Private\",\"Self-employed\",\"Govt_job\",\"Self-employed\",\"Self-employed\",\"Private\",\"children\",\"Self-employed\",\"Private\",\"Private\",\"Govt_job\",\"Private\",\"Private\",\"Self-employed\",\"Private\",\"Private\",\"Private\",\"Govt_job\",\"Private\",\"Private\",\"children\",\"children\",\"Private\",\"Private\",\"Private\",\"Self-employed\",\"Private\",\"Govt_job\",\"Govt_job\",\"Private\",\"Private\",\"children\",\"Private\",\"Private\",\"Self-employed\",\"Private\",\"Self-employed\",\"Private\",\"Self-employed\",\"Private\",\"Private\",\"Govt_job\",\"Govt_job\",\"Private\",\"Private\",\"Private\",\"Govt_job\",\"Private\",\"Govt_job\",\"Govt_job\",\"Private\",\"Govt_job\",\"Private\",\"children\",\"Govt_job\",\"Govt_job\",\"Govt_job\",\"Govt_job\",\"Govt_job\",\"Govt_job\",\"children\",\"children\",\"Private\",\"Private\",\"children\",\"Self-employed\",\"Govt_job\",\"Private\",\"children\",\"Private\",\"Private\",\"Govt_job\",\"Govt_job\",\"Govt_job\",\"Self-employed\",\"Private\",\"Govt_job\",\"Private\",\"Private\",\"Private\",\"Private\",\"Private\",\"children\",\"Self-employed\",\"Private\",\"Private\",\"Self-employed\",\"Private\",\"children\",\"Govt_job\",\"Private\",\"Private\",\"Private\",\"children\",\"Private\",\"Govt_job\",\"Private\",\"Private\",\"Private\",\"Private\",\"Private\",\"Private\",\"Govt_job\",\"Private\",\"Private\",\"Self-employed\",\"Private\",\"Private\",\"Private\",\"children\",\"Govt_job\",\"Self-employed\",\"Govt_job\",\"Private\",\"Private\",\"Private\",\"Govt_job\",\"Private\",\"children\",\"Private\",\"Govt_job\",\"Self-employed\",\"Never_worked\",\"Private\",\"Private\",\"Self-employed\",\"children\",\"Private\",\"Self-employed\",\"Private\",\"children\",\"Self-employed\",\"Private\",\"Govt_job\",\"children\",\"Self-employed\",\"Govt_job\",\"Private\",\"Self-employed\",\"Private\",\"children\",\"Never_worked\",\"Private\",\"Private\",\"Private\",\"Private\",\"Private\",\"Self-employed\",\"Govt_job\",\"Private\",\"Private\",\"Self-employed\",\"Govt_job\",\"Private\",\"Private\",\"Self-employed\",\"children\",\"Private\",\"Private\",\"Private\",\"Govt_job\",\"Private\",\"Private\",\"Private\",\"Private\",\"Private\",\"Self-employed\",\"Self-employed\",\"Private\",\"Private\",\"Self-employed\",\"Private\",\"Self-employed\",\"Self-employed\",\"Govt_job\",\"Private\",\"Private\",\"children\",\"Private\",\"Private\",\"children\",\"Self-employed\",\"Never_worked\",\"Govt_job\",\"Private\",\"Private\",\"Private\",\"Govt_job\",\"Private\",\"Private\",\"Private\",\"children\",\"Govt_job\",\"Self-employed\",\"Private\",\"Private\",\"Private\",\"Private\",\"Private\",\"Private\",\"Govt_job\",\"Self-employed\",\"children\",\"Private\",\"children\",\"Govt_job\",\"Private\",\"Private\",\"Govt_job\",\"children\",\"Private\",\"Private\",\"Private\",\"children\",\"Private\",\"Private\",\"Govt_job\",\"Private\",\"Private\",\"Private\",\"children\",\"Private\",\"Self-employed\",\"Private\",\"Private\",\"Private\",\"Private\",\"Self-employed\",\"children\",\"Private\",\"Private\",\"Private\",\"Self-employed\",\"Private\",\"Private\",\"Private\",\"Private\",\"Private\",\"Private\",\"Govt_job\",\"Private\",\"Private\",\"Private\",\"Private\",\"Private\",\"Govt_job\",\"children\",\"Private\",\"Private\",\"Private\",\"Private\",\"Private\",\"Private\",\"Self-employed\",\"Private\",\"children\",\"Private\",\"Private\",\"Private\",\"children\",\"Govt_job\",\"Govt_job\",\"children\",\"Govt_job\",\"Govt_job\",\"Private\",\"Private\",\"Private\",\"Private\",\"Self-employed\",\"Private\",\"Self-employed\",\"children\",\"Self-employed\",\"Private\",\"Private\",\"children\",\"Self-employed\",\"Private\",\"Private\",\"Private\",\"Private\",\"Self-employed\",\"Private\",\"Self-employed\",\"Private\",\"Private\",\"Self-employed\",\"Private\",\"Govt_job\",\"children\",\"Private\",\"Private\",\"children\",\"Private\",\"Private\",\"Private\",\"Private\",\"Self-employed\",\"children\",\"Private\",\"Private\",\"Govt_job\",\"Self-employed\",\"Private\",\"Private\",\"Private\",\"Private\",\"Private\",\"Self-employed\",\"Private\",\"Private\",\"Private\",\"Private\",\"Govt_job\",\"Private\",\"Govt_job\",\"Private\",\"Never_worked\",\"Self-employed\",\"Private\",\"Private\",\"children\",\"Self-employed\",\"Private\",\"Govt_job\",\"Self-employed\",\"Self-employed\",\"children\",\"children\",\"children\",\"Private\",\"Self-employed\",\"Private\",\"Private\",\"Self-employed\",\"Self-employed\",\"Private\",\"Private\",\"Govt_job\",\"Private\",\"Govt_job\",\"Self-employed\",\"Private\",\"Private\",\"Private\",\"Self-employed\",\"children\",\"Private\",\"Private\",\"Private\",\"Private\",\"Private\",\"Govt_job\",\"Private\",\"Private\",\"Private\",\"children\",\"Private\",\"Private\",\"Private\",\"Govt_job\",\"Private\",\"Self-employed\",\"Private\",\"Private\",\"Private\",\"Self-employed\",\"Self-employed\",\"Govt_job\",\"Private\",\"Private\",\"Private\",\"children\",\"Private\",\"Private\",\"Private\",\"Self-employed\",\"Govt_job\",\"Private\",\"Self-employed\",\"Private\",\"Private\",\"Govt_job\",\"Private\",\"children\",\"Private\",\"Govt_job\",\"Private\",\"Private\",\"Private\",\"Private\",\"Private\",\"Private\",\"Private\",\"Private\",\"Private\",\"Private\",\"Private\",\"Self-employed\",\"children\",\"Private\",\"Self-employed\",\"Private\",\"Private\",\"children\",\"Govt_job\",\"Private\",\"Self-employed\",\"Private\",\"children\",\"Self-employed\",\"Private\",\"Govt_job\",\"Self-employed\",\"Private\",\"Private\",\"Private\",\"Self-employed\",\"Private\",\"Private\",\"Private\",\"Self-employed\",\"Private\",\"Govt_job\",\"Govt_job\",\"Private\",\"Private\",\"Govt_job\",\"Private\",\"Private\",\"Private\",\"children\",\"Private\",\"Private\",\"Private\",\"Self-employed\",\"Private\",\"Private\",\"Private\",\"Private\",\"Private\",\"Private\",\"children\",\"Private\",\"children\",\"Private\",\"Self-employed\",\"Private\",\"Self-employed\",\"Govt_job\",\"Private\",\"children\",\"Private\",\"Private\",\"Govt_job\",\"Govt_job\",\"Govt_job\",\"Self-employed\",\"children\",\"Private\",\"Self-employed\",\"Private\",\"Private\",\"children\",\"Private\",\"Private\",\"Govt_job\",\"Private\",\"Private\",\"Private\",\"Private\",\"Private\",\"Self-employed\",\"Private\",\"Self-employed\",\"Self-employed\",\"Private\",\"Self-employed\",\"Private\",\"children\",\"Private\",\"Self-employed\",\"Private\",\"Govt_job\",\"Private\",\"Private\",\"children\",\"children\",\"Self-employed\",\"Private\",\"Govt_job\",\"Private\",\"children\",\"Private\",\"children\",\"Private\",\"children\",\"children\",\"Private\",\"Private\",\"Private\",\"Private\",\"Private\",\"Private\",\"Private\",\"Private\",\"Private\",\"children\",\"Self-employed\",\"Govt_job\",\"children\",\"Govt_job\",\"Govt_job\",\"Private\",\"Govt_job\",\"Self-employed\",\"Private\",\"children\",\"Govt_job\",\"Private\",\"Private\",\"Private\",\"Self-employed\",\"Private\",\"Private\",\"Govt_job\",\"Self-employed\",\"Self-employed\",\"Govt_job\",\"children\",\"Self-employed\",\"Private\",\"children\",\"Private\",\"Private\",\"Private\",\"Private\",\"children\",\"Private\",\"Govt_job\",\"Self-employed\",\"Private\",\"Govt_job\",\"Private\",\"Self-employed\",\"children\",\"Self-employed\",\"Private\",\"Self-employed\",\"Private\",\"Self-employed\",\"Govt_job\",\"Private\",\"Private\",\"Private\",\"Private\",\"Self-employed\",\"Govt_job\",\"Private\",\"Private\",\"Private\",\"Private\",\"Self-employed\",\"Private\",\"Private\",\"Private\",\"Private\",\"Private\",\"Private\",\"Private\",\"Private\",\"Self-employed\",\"Private\",\"Private\",\"Private\",\"children\",\"Private\",\"Govt_job\",\"Private\",\"Private\",\"Govt_job\",\"Govt_job\",\"Private\",\"Govt_job\",\"Private\",\"Govt_job\",\"Govt_job\",\"Private\",\"Private\",\"Private\",\"Private\",\"Private\",\"Private\",\"Private\",\"Private\",\"Private\",\"Never_worked\",\"Self-employed\",\"Self-employed\",\"Govt_job\",\"children\",\"Private\",\"Self-employed\",\"Private\",\"Private\",\"Self-employed\",\"Private\",\"Private\",\"children\",\"Private\",\"Private\",\"Govt_job\",\"Govt_job\",\"Self-employed\",\"Self-employed\",\"Private\",\"Self-employed\",\"Private\",\"Private\",\"Govt_job\",\"Self-employed\",\"Private\",\"Private\",\"Private\",\"Self-employed\",\"Self-employed\",\"children\",\"Private\",\"Private\",\"Private\",\"Private\",\"Govt_job\",\"Private\",\"children\",\"Self-employed\",\"Govt_job\",\"Private\",\"Private\",\"Govt_job\",\"Private\",\"children\",\"Self-employed\",\"Private\",\"Govt_job\",\"Private\",\"Private\",\"Private\",\"Private\",\"Private\",\"Self-employed\",\"Private\",\"children\",\"Private\",\"Govt_job\",\"Govt_job\",\"Private\",\"Private\",\"Private\",\"Govt_job\",\"Private\",\"Self-employed\",\"children\",\"Private\",\"Self-employed\",\"Private\",\"Self-employed\",\"Private\",\"Private\",\"children\",\"Govt_job\",\"Self-employed\",\"Private\",\"Govt_job\",\"Private\",\"Self-employed\",\"Govt_job\",\"Self-employed\",\"Private\",\"Private\",\"Private\",\"Private\",\"children\",\"children\",\"Private\",\"Private\",\"Govt_job\",\"Private\",\"Self-employed\",\"Govt_job\",\"Private\",\"Private\",\"Self-employed\",\"Private\",\"Private\",\"Private\",\"children\",\"Self-employed\",\"Self-employed\",\"Private\",\"Private\",\"Govt_job\",\"children\",\"Private\",\"Govt_job\",\"children\",\"Private\",\"Govt_job\",\"Self-employed\",\"Private\",\"Private\",\"Private\",\"children\",\"Private\",\"children\",\"Private\",\"children\",\"Self-employed\",\"Private\",\"Private\",\"children\",\"Self-employed\",\"children\",\"Private\",\"children\",\"children\",\"Private\",\"Private\",\"Self-employed\",\"Self-employed\",\"Private\",\"Private\",\"children\",\"Private\",\"Private\",\"Private\",\"Private\",\"Self-employed\",\"Private\",\"children\",\"Govt_job\",\"children\",\"Private\",\"Self-employed\",\"children\",\"Private\",\"Self-employed\",\"Private\",\"Govt_job\",\"Private\",\"Govt_job\",\"Private\",\"Private\",\"Govt_job\",\"Private\",\"Private\",\"Private\",\"Govt_job\",\"children\",\"Self-employed\",\"Private\",\"Self-employed\",\"Private\",\"Private\",\"Private\",\"Private\",\"Private\",\"Private\",\"Self-employed\",\"Private\",\"Govt_job\",\"children\",\"Private\",\"Private\",\"Govt_job\",\"Private\",\"Private\",\"Private\",\"Self-employed\",\"Self-employed\",\"Private\",\"Self-employed\",\"Private\",\"Private\",\"Govt_job\",\"Private\",\"children\",\"Private\",\"Self-employed\",\"Self-employed\",\"Private\",\"Private\",\"Private\",\"children\",\"Govt_job\",\"Private\",\"Private\",\"Private\",\"children\",\"Private\",\"Govt_job\",\"Private\",\"Govt_job\",\"children\",\"Private\",\"Private\",\"Private\",\"Private\",\"Govt_job\",\"Private\",\"Private\",\"Private\",\"Private\",\"Private\",\"Private\",\"Private\",\"children\",\"Private\",\"Self-employed\",\"Private\",\"Govt_job\",\"children\",\"Govt_job\",\"Self-employed\",\"children\",\"Private\",\"Private\",\"Private\",\"Private\",\"Private\",\"Private\",\"Self-employed\",\"Private\",\"Self-employed\",\"Private\",\"Self-employed\",\"children\",\"Self-employed\",\"Private\",\"Private\",\"Govt_job\",\"children\",\"Self-employed\",\"Private\",\"Private\",\"Self-employed\",\"Private\",\"Private\",\"children\",\"Govt_job\",\"Private\",\"Self-employed\",\"Private\",\"Self-employed\",\"Private\",\"Private\",\"Govt_job\",\"Private\",\"Private\",\"Private\",\"Govt_job\",\"Private\",\"Govt_job\",\"Self-employed\",\"Private\",\"children\",\"Private\",\"Govt_job\",\"Private\",\"Never_worked\",\"Self-employed\",\"Self-employed\",\"Private\",\"children\",\"Private\",\"Self-employed\",\"Private\",\"Private\",\"children\",\"Private\",\"Private\",\"Private\",\"Private\",\"Govt_job\",\"children\",\"Private\",\"Self-employed\",\"Private\",\"Self-employed\",\"children\",\"Private\",\"Self-employed\",\"Private\",\"Private\",\"Private\",\"Private\",\"Self-employed\",\"Private\",\"Private\",\"Govt_job\",\"Private\",\"Self-employed\",\"Private\",\"Self-employed\",\"Self-employed\",\"Govt_job\",\"Self-employed\",\"Private\",\"Self-employed\",\"Private\",\"Self-employed\",\"children\",\"Private\",\"Private\",\"Private\",\"Private\",\"Private\",\"Private\",\"Private\",\"Private\",\"Private\",\"Self-employed\",\"Private\",\"Private\",\"Self-employed\",\"Private\",\"Govt_job\",\"Self-employed\",\"children\",\"Private\",\"Self-employed\",\"Private\",\"Private\",\"Private\",\"Private\",\"Private\",\"Private\",\"Govt_job\",\"Govt_job\",\"Private\",\"children\",\"Private\",\"Govt_job\",\"Self-employed\",\"children\",\"Private\",\"Private\",\"children\",\"Private\",\"Govt_job\",\"Private\",\"Private\",\"Private\",\"Private\",\"Self-employed\",\"Private\",\"children\",\"Private\",\"Self-employed\",\"Private\",\"Self-employed\",\"children\",\"Govt_job\",\"Self-employed\",\"Private\",\"Private\",\"Private\",\"Private\",\"Govt_job\",\"Private\",\"Self-employed\",\"Private\",\"Govt_job\",\"Private\",\"children\",\"Private\",\"Private\",\"Private\",\"Private\",\"Private\",\"Govt_job\",\"Private\",\"Private\",\"Govt_job\",\"Self-employed\",\"children\",\"Self-employed\",\"Private\",\"Private\",\"Private\",\"Private\",\"Private\",\"Private\",\"Self-employed\",\"Self-employed\",\"Private\",\"Govt_job\",\"Private\",\"Govt_job\",\"Private\",\"Self-employed\",\"Self-employed\",\"Private\",\"Govt_job\",\"Self-employed\",\"Private\",\"children\",\"Self-employed\",\"Private\",\"Private\",\"Private\",\"children\",\"Private\",\"Private\",\"Self-employed\",\"Self-employed\",\"Private\",\"Private\",\"Private\",\"children\",\"children\",\"Private\",\"Private\",\"Private\",\"Private\",\"children\",\"Self-employed\",\"children\",\"Private\",\"Private\",\"Private\",\"Govt_job\",\"Private\",\"Self-employed\",\"Private\",\"Govt_job\",\"Private\",\"Private\",\"Private\",\"Self-employed\",\"Private\",\"Govt_job\",\"Private\",\"Govt_job\",\"Private\",\"children\",\"Private\",\"Private\",\"children\",\"Private\",\"Self-employed\",\"Self-employed\",\"children\",\"Private\",\"Private\",\"Private\",\"children\",\"Self-employed\",\"children\",\"Govt_job\",\"Govt_job\",\"Private\",\"children\",\"children\",\"Self-employed\",\"Private\",\"Private\",\"Self-employed\",\"Govt_job\",\"Private\",\"Private\",\"Govt_job\",\"children\",\"Private\",\"Govt_job\",\"Self-employed\",\"Private\",\"children\",\"Private\",\"children\",\"Private\",\"Self-employed\",\"Private\",\"Self-employed\",\"Self-employed\",\"children\",\"children\",\"Self-employed\",\"Self-employed\",\"Self-employed\",\"Self-employed\",\"Self-employed\",\"Self-employed\",\"children\",\"Private\",\"Private\",\"children\",\"Private\",\"Private\",\"Private\",\"Private\",\"Private\",\"Self-employed\",\"Private\",\"Govt_job\",\"Private\",\"children\",\"Private\",\"Private\",\"Private\",\"Private\",\"Private\",\"Private\",\"Private\",\"children\",\"children\",\"children\",\"Private\",\"children\",\"Private\",\"children\",\"Private\",\"children\",\"Private\",\"Private\",\"Self-employed\",\"Private\",\"children\",\"Private\",\"children\",\"Private\",\"Private\",\"children\",\"Private\",\"Private\",\"children\",\"Private\",\"Govt_job\",\"Self-employed\",\"Private\",\"children\",\"Private\",\"Private\",\"Govt_job\",\"Govt_job\",\"Private\",\"Private\",\"children\",\"Private\",\"Self-employed\",\"Self-employed\",\"Private\",\"Private\",\"Private\",\"Self-employed\",\"Govt_job\",\"Private\",\"Private\",\"Private\",\"children\",\"Private\",\"Private\",\"Private\",\"children\",\"Private\",\"Private\",\"Private\",\"Private\",\"Govt_job\",\"Private\",\"Govt_job\",\"Govt_job\",\"Private\",\"Self-employed\",\"Govt_job\",\"children\",\"Private\",\"Private\",\"Private\",\"Private\",\"Govt_job\",\"Private\",\"Private\",\"Self-employed\",\"Self-employed\",\"Private\",\"children\",\"children\",\"Private\",\"Private\",\"children\",\"Private\",\"Govt_job\",\"Private\",\"Private\",\"Private\",\"Private\",\"children\",\"Private\",\"children\",\"Private\",\"Private\",\"Private\",\"Private\",\"Private\",\"Govt_job\",\"Govt_job\",\"Private\",\"children\",\"Govt_job\",\"children\",\"Private\",\"Govt_job\",\"Govt_job\",\"Govt_job\",\"Private\",\"Govt_job\",\"Govt_job\",\"Private\",\"Private\",\"children\",\"Private\",\"Private\",\"Private\",\"Private\",\"Self-employed\",\"Private\",\"Govt_job\",\"Private\",\"Govt_job\",\"children\",\"Private\",\"Self-employed\",\"Private\",\"Private\",\"Private\",\"Private\",\"children\",\"Private\",\"Self-employed\",\"Self-employed\",\"Private\",\"Private\",\"Private\",\"Private\",\"children\",\"Govt_job\",\"children\",\"Private\",\"Private\",\"children\",\"Self-employed\",\"children\",\"Private\",\"Self-employed\",\"Govt_job\",\"Govt_job\",\"Self-employed\",\"Private\",\"Private\",\"children\",\"Govt_job\",\"Private\",\"Private\",\"Private\",\"children\",\"Govt_job\",\"Private\",\"Private\",\"children\",\"Private\",\"children\",\"Private\",\"Govt_job\",\"Private\",\"Private\",\"Private\",\"children\",\"Private\",\"Private\",\"Govt_job\",\"Private\",\"Self-employed\",\"Govt_job\",\"children\",\"Govt_job\",\"Private\",\"Private\",\"Private\",\"children\",\"Private\",\"Self-employed\",\"Self-employed\",\"Govt_job\",\"Private\",\"children\",\"Private\",\"Private\",\"children\",\"Private\",\"Self-employed\",\"Private\",\"Private\",\"Private\",\"Private\",\"Govt_job\",\"Private\",\"Govt_job\",\"Private\",\"children\",\"Private\",\"Govt_job\",\"Private\",\"Govt_job\",\"Private\",\"Private\",\"Private\",\"Private\",\"Private\",\"Self-employed\",\"Private\",\"Private\",\"children\",\"Private\",\"Private\",\"Private\",\"Private\",\"Private\",\"Private\",\"children\",\"Private\",\"Govt_job\",\"Self-employed\",\"Private\",\"Govt_job\",\"Private\",\"Self-employed\",\"Private\",\"children\",\"children\",\"Private\",\"children\",\"Private\",\"children\",\"Private\",\"Private\",\"Self-employed\",\"children\",\"Self-employed\",\"Self-employed\",\"Private\",\"Private\",\"Self-employed\",\"Private\",\"Self-employed\",\"Govt_job\",\"Private\",\"Private\",\"Self-employed\",\"Private\",\"Private\",\"Private\",\"Private\",\"Self-employed\",\"Private\",\"Private\",\"Private\",\"Private\",\"Private\",\"children\",\"Govt_job\",\"children\",\"Private\",\"Never_worked\",\"Self-employed\",\"Private\",\"Self-employed\",\"Private\",\"Private\",\"Private\",\"Private\",\"Private\",\"Govt_job\",\"Private\",\"Private\",\"Self-employed\",\"Self-employed\",\"children\",\"Govt_job\",\"Self-employed\",\"Private\",\"Private\",\"Private\",\"Private\",\"Private\",\"Private\",\"Private\",\"Private\",\"Private\",\"Private\",\"Private\",\"Private\",\"children\",\"Private\",\"Private\",\"Govt_job\",\"Govt_job\",\"children\",\"children\",\"Private\",\"Govt_job\",\"Self-employed\",\"Private\",\"Private\",\"Private\",\"Govt_job\",\"Govt_job\",\"Govt_job\",\"Private\",\"children\",\"children\",\"children\",\"children\",\"Self-employed\",\"Private\",\"Self-employed\",\"children\",\"Govt_job\",\"Govt_job\",\"Private\",\"Govt_job\",\"children\",\"Private\",\"Private\",\"Self-employed\",\"Private\",\"Private\",\"Self-employed\",\"Private\",\"Private\",\"children\",\"children\",\"children\",\"Private\",\"children\",\"Self-employed\",\"Govt_job\",\"Private\",\"Private\",\"Private\",\"Private\",\"Private\",\"Govt_job\",\"Self-employed\",\"children\",\"Private\",\"Private\",\"children\",\"Private\",\"Private\",\"Private\",\"Self-employed\",\"Govt_job\",\"Private\",\"Private\",\"Private\",\"children\",\"Self-employed\",\"Private\",\"Never_worked\",\"Private\",\"Self-employed\",\"Private\",\"Private\",\"Self-employed\",\"Govt_job\",\"children\",\"Private\",\"Govt_job\",\"Self-employed\",\"children\",\"Private\",\"Private\",\"children\",\"Self-employed\",\"children\",\"Private\",\"Private\",\"children\",\"Self-employed\",\"Govt_job\",\"Govt_job\",\"Govt_job\",\"Govt_job\",\"Self-employed\",\"Self-employed\",\"Self-employed\",\"Private\",\"Self-employed\",\"Private\",\"Private\",\"Private\",\"Private\",\"Govt_job\",\"Self-employed\",\"Private\",\"Self-employed\",\"Govt_job\",\"Self-employed\",\"Private\",\"Private\",\"Self-employed\",\"Private\",\"Private\",\"Private\",\"Private\",\"Private\",\"Self-employed\",\"Govt_job\",\"Govt_job\",\"Private\",\"Private\",\"Self-employed\",\"Private\",\"Private\",\"Private\",\"Private\",\"Private\",\"Govt_job\",\"children\",\"Self-employed\",\"Private\",\"children\",\"Private\",\"children\",\"Private\",\"Self-employed\",\"Private\",\"Private\",\"Self-employed\",\"Private\",\"Private\",\"Private\",\"Private\",\"Private\",\"Self-employed\",\"Private\",\"Private\",\"Govt_job\",\"Govt_job\",\"Self-employed\",\"Private\",\"children\",\"Self-employed\",\"Self-employed\",\"Private\",\"Private\",\"Private\",\"children\",\"Private\",\"Private\",\"Never_worked\",\"Private\",\"Self-employed\",\"Private\",\"Private\",\"Private\",\"Private\",\"Private\",\"Private\",\"Private\",\"children\",\"Private\",\"children\",\"children\",\"Self-employed\",\"Private\",\"Private\",\"Govt_job\",\"Govt_job\",\"Self-employed\",\"Private\",\"Private\",\"Private\",\"Self-employed\",\"Private\",\"Private\",\"Private\",\"Private\",\"Private\",\"Private\",\"children\",\"Private\",\"Private\",\"Private\",\"Private\",\"Private\",\"children\",\"Private\",\"Self-employed\",\"Private\",\"Self-employed\",\"Private\",\"Private\",\"children\",\"Private\",\"Private\",\"children\",\"Private\",\"Govt_job\",\"Private\",\"children\",\"Self-employed\",\"Private\",\"Private\",\"Self-employed\",\"children\",\"Private\",\"Self-employed\",\"children\",\"Govt_job\",\"Private\",\"Private\",\"Private\",\"Self-employed\",\"Private\",\"Private\",\"Self-employed\",\"children\",\"Self-employed\",\"Private\",\"Private\",\"Govt_job\",\"children\",\"children\",\"Private\",\"Private\",\"Private\",\"Self-employed\",\"Private\",\"Self-employed\",\"Private\",\"Self-employed\",\"Govt_job\",\"Private\",\"children\",\"Private\",\"children\",\"Private\",\"Govt_job\",\"Self-employed\",\"Private\",\"Private\",\"children\",\"Self-employed\",\"children\",\"Private\",\"children\",\"Self-employed\",\"Self-employed\",\"Private\",\"Private\",\"Private\",\"children\",\"Private\",\"Self-employed\",\"Private\",\"Private\",\"Private\",\"Self-employed\",\"Private\",\"Private\",\"Private\",\"Private\",\"Govt_job\",\"Self-employed\",\"children\",\"Self-employed\",\"children\",\"Self-employed\",\"Govt_job\",\"Private\",\"Private\",\"Private\",\"Govt_job\",\"Private\",\"Private\",\"children\",\"Govt_job\",\"Govt_job\",\"Private\",\"Private\",\"Govt_job\",\"Self-employed\",\"children\",\"children\",\"Govt_job\",\"Private\",\"Govt_job\",\"Private\",\"Self-employed\",\"Private\",\"Private\",\"Private\",\"children\",\"Self-employed\",\"Govt_job\",\"Govt_job\",\"Private\",\"Private\",\"Private\",\"Govt_job\",\"Private\",\"Private\",\"Private\",\"Self-employed\",\"Private\",\"Private\",\"Private\",\"Private\",\"Private\",\"Self-employed\",\"Self-employed\",\"children\",\"children\",\"Self-employed\",\"Govt_job\",\"Self-employed\",\"Private\",\"children\",\"Private\",\"Self-employed\",\"Private\",\"children\",\"Private\",\"Private\",\"Private\",\"Private\",\"Private\",\"Govt_job\",\"Private\",\"Govt_job\",\"Private\",\"children\",\"Private\",\"Private\",\"Private\",\"Private\",\"Private\",\"Self-employed\",\"Private\",\"Self-employed\",\"Private\",\"Govt_job\",\"Private\",\"Private\",\"Self-employed\",\"Private\",\"Govt_job\",\"Private\",\"Private\",\"Private\",\"Private\",\"Govt_job\",\"Private\",\"children\",\"Private\",\"Self-employed\",\"Govt_job\",\"Private\",\"Govt_job\",\"children\",\"Govt_job\",\"Private\",\"children\",\"Private\",\"Govt_job\",\"Self-employed\",\"Govt_job\",\"children\",\"children\",\"Private\",\"Self-employed\",\"Private\",\"children\",\"Private\",\"Private\",\"Private\",\"Govt_job\",\"Self-employed\",\"Private\",\"Private\",\"Private\",\"children\",\"Private\",\"Private\",\"Self-employed\",\"Private\",\"Private\",\"children\",\"Govt_job\",\"Govt_job\",\"Self-employed\",\"Private\",\"Private\",\"Private\",\"Private\",\"Private\",\"Private\",\"Private\",\"children\",\"Never_worked\",\"Self-employed\",\"Private\",\"Private\",\"Private\",\"Private\",\"Private\",\"Self-employed\",\"Private\",\"Self-employed\",\"Private\",\"Private\",\"Govt_job\",\"children\",\"children\",\"Private\",\"Govt_job\",\"Private\",\"Private\",\"Private\",\"Govt_job\",\"Private\",\"children\",\"Private\",\"Govt_job\",\"children\",\"Private\",\"Self-employed\",\"Self-employed\",\"children\",\"Private\",\"Private\",\"Private\",\"Self-employed\",\"Self-employed\",\"Self-employed\",\"Private\",\"Private\",\"Private\",\"Self-employed\",\"Private\",\"Govt_job\",\"Private\",\"Private\",\"Private\",\"Private\",\"Govt_job\",\"Self-employed\",\"children\",\"Govt_job\",\"Govt_job\",\"Private\",\"children\",\"Private\",\"Govt_job\",\"children\",\"children\",\"Private\",\"Private\",\"Govt_job\",\"Private\",\"Private\",\"children\",\"Self-employed\",\"Private\",\"Govt_job\",\"Govt_job\",\"Private\",\"Self-employed\",\"Private\",\"Private\",\"Private\",\"Private\",\"Private\",\"Private\",\"Private\",\"Private\",\"Private\",\"Govt_job\",\"Self-employed\",\"Private\",\"Self-employed\",\"children\",\"Govt_job\",\"Private\",\"children\",\"Self-employed\",\"Govt_job\",\"Self-employed\",\"Private\",\"Self-employed\",\"children\",\"children\",\"Private\",\"Govt_job\",\"Private\",\"Self-employed\",\"Private\",\"children\",\"Private\",\"children\",\"Private\",\"Private\",\"Private\",\"Self-employed\",\"Govt_job\",\"Private\",\"Private\",\"Private\",\"Govt_job\",\"children\",\"Private\",\"Govt_job\",\"Private\",\"Private\",\"Private\",\"Private\",\"children\",\"Self-employed\",\"Private\",\"Govt_job\",\"Private\",\"Private\",\"Private\",\"Private\",\"children\",\"Private\",\"Govt_job\",\"children\",\"Self-employed\",\"children\",\"Private\",\"Private\",\"Govt_job\",\"Private\",\"children\",\"children\",\"Private\",\"Private\",\"Private\",\"children\",\"Private\",\"Private\",\"Private\",\"Self-employed\",\"Private\",\"Private\",\"Private\",\"Self-employed\",\"Private\",\"Govt_job\",\"Private\",\"Govt_job\",\"Self-employed\",\"Private\",\"Self-employed\",\"Private\",\"children\",\"children\",\"Private\",\"Private\",\"Private\",\"Private\",\"Private\",\"Private\",\"Private\",\"Private\",\"Self-employed\",\"Govt_job\",\"Govt_job\",\"Govt_job\",\"children\",\"Govt_job\",\"Govt_job\",\"Private\",\"children\",\"Private\",\"children\",\"Private\",\"Private\",\"Self-employed\",\"Private\",\"children\",\"Private\",\"Private\",\"Govt_job\",\"Private\",\"Private\",\"Govt_job\",\"Private\",\"children\",\"Private\",\"Private\",\"Govt_job\",\"children\",\"Private\",\"Private\",\"Govt_job\",\"Private\",\"Private\",\"Govt_job\",\"Never_worked\",\"Private\",\"Private\",\"Govt_job\",\"Private\",\"Private\",\"Govt_job\",\"Private\",\"Private\",\"Private\",\"Private\",\"Private\",\"Govt_job\",\"Private\",\"Govt_job\",\"Private\",\"Private\",\"Self-employed\",\"Private\",\"Private\",\"Govt_job\",\"Private\",\"Private\",\"Private\",\"Govt_job\",\"Self-employed\",\"Private\",\"Private\",\"Private\",\"children\",\"Govt_job\",\"Private\",\"Private\",\"Private\",\"children\",\"Self-employed\",\"Private\",\"Private\",\"children\",\"Private\",\"Private\",\"Private\",\"Govt_job\",\"Private\",\"children\",\"Private\",\"children\",\"Govt_job\",\"Private\",\"Private\",\"Private\",\"Private\",\"Private\",\"Private\",\"Self-employed\",\"Private\",\"Private\",\"Self-employed\",\"Govt_job\",\"Private\",\"Private\",\"Self-employed\",\"Govt_job\",\"children\",\"children\",\"Private\",\"Self-employed\",\"Self-employed\",\"Private\",\"Self-employed\",\"Self-employed\",\"Private\",\"Self-employed\",\"Private\",\"Private\",\"Self-employed\",\"Self-employed\",\"Self-employed\",\"Private\",\"children\",\"Self-employed\",\"Private\",\"Private\",\"children\",\"Govt_job\",\"Private\",\"Private\",\"Self-employed\",\"Private\",\"Private\",\"Private\",\"Self-employed\",\"Govt_job\",\"Private\",\"Private\",\"Govt_job\",\"Private\",\"Self-employed\",\"Private\",\"Private\",\"Self-employed\",\"Private\",\"Self-employed\",\"children\",\"Private\",\"Private\",\"Private\",\"Private\",\"Govt_job\",\"Private\",\"Private\",\"Self-employed\",\"Self-employed\",\"Self-employed\",\"Private\",\"Private\",\"Govt_job\",\"Self-employed\",\"Private\",\"children\",\"Private\",\"Private\",\"Private\",\"Self-employed\",\"Private\",\"Private\",\"Govt_job\",\"Govt_job\",\"Private\",\"Private\",\"Private\",\"Private\",\"Govt_job\",\"Private\",\"Private\",\"Govt_job\",\"children\",\"Govt_job\",\"Private\",\"Self-employed\",\"Private\",\"Private\",\"Self-employed\",\"Private\",\"Private\",\"children\",\"Private\",\"Self-employed\",\"Private\",\"Private\",\"children\",\"Self-employed\",\"Private\",\"children\",\"Govt_job\",\"Govt_job\",\"Govt_job\",\"Private\",\"Self-employed\",\"Private\",\"Self-employed\",\"Never_worked\",\"Private\",\"children\",\"Govt_job\",\"Private\",\"Private\",\"Self-employed\",\"Self-employed\",\"Private\",\"Private\",\"Private\",\"children\",\"Private\",\"Never_worked\",\"Private\",\"Self-employed\",\"children\",\"Private\",\"Private\",\"Private\",\"children\",\"Private\",\"children\",\"Self-employed\",\"Govt_job\",\"Govt_job\",\"Private\",\"children\",\"Govt_job\",\"Private\",\"children\",\"Private\",\"Private\",\"Self-employed\",\"Private\",\"Self-employed\",\"Private\",\"Private\",\"Private\",\"Self-employed\",\"Private\",\"Private\",\"Private\",\"Private\",\"Govt_job\",\"Self-employed\",\"Private\",\"Self-employed\",\"Self-employed\",\"Self-employed\",\"Private\",\"Private\",\"Private\",\"children\",\"Private\",\"Private\",\"Govt_job\",\"Private\",\"Private\",\"children\",\"Private\",\"Private\",\"Private\",\"Self-employed\",\"Govt_job\",\"Private\",\"Private\",\"children\",\"Private\",\"children\",\"children\",\"Private\",\"children\",\"Private\",\"Private\",\"Private\",\"children\",\"Govt_job\",\"children\",\"Private\",\"Govt_job\",\"children\",\"Private\",\"Private\",\"Private\",\"Private\",\"Private\",\"Private\",\"children\",\"Private\",\"Private\",\"Private\",\"children\",\"children\",\"Private\",\"Self-employed\",\"Govt_job\",\"Private\",\"children\",\"children\",\"children\",\"Private\",\"Private\",\"Private\",\"Private\",\"Private\",\"children\",\"children\",\"Self-employed\",\"Self-employed\",\"Private\",\"Private\",\"Govt_job\",\"Private\",\"Private\",\"Private\",\"Private\",\"Govt_job\",\"Private\",\"Govt_job\",\"Self-employed\",\"Private\",\"Govt_job\",\"Private\",\"Private\",\"Self-employed\",\"children\",\"Private\",\"children\",\"Private\",\"Private\",\"Private\",\"children\",\"Private\",\"Private\",\"Private\",\"Self-employed\",\"Private\",\"children\",\"Private\",\"Private\",\"Private\",\"Govt_job\",\"Govt_job\",\"Govt_job\",\"Private\",\"Govt_job\",\"Private\",\"Private\",\"Private\",\"Govt_job\",\"Private\",\"Self-employed\",\"Self-employed\",\"Private\",\"children\",\"children\",\"children\",\"children\",\"Govt_job\",\"Private\",\"Private\",\"children\",\"Private\",\"Private\",\"Self-employed\",\"Private\",\"Private\",\"Private\",\"Self-employed\",\"Private\",\"Private\",\"children\",\"children\",\"Self-employed\",\"Private\",\"Private\",\"Govt_job\",\"Private\",\"Private\",\"Self-employed\",\"Private\",\"Self-employed\",\"Private\",\"Private\",\"Private\",\"Private\",\"Self-employed\",\"Private\",\"children\",\"Private\",\"Private\",\"Private\",\"children\",\"Private\",\"Private\",\"children\",\"Govt_job\",\"Private\",\"Private\",\"Private\",\"Private\",\"Private\",\"Private\",\"Private\",\"Private\",\"children\",\"Private\",\"Private\",\"Private\",\"Private\",\"Private\",\"Private\",\"Govt_job\",\"Private\",\"Private\",\"Govt_job\",\"children\",\"children\",\"Private\",\"Private\",\"Govt_job\",\"Self-employed\",\"Private\",\"Private\",\"children\",\"Private\",\"Private\",\"Private\",\"Private\",\"Govt_job\",\"Private\",\"Private\",\"Private\",\"Private\",\"Govt_job\",\"Private\",\"Self-employed\",\"Self-employed\",\"Private\",\"Private\",\"Private\",\"Private\",\"Govt_job\",\"Self-employed\",\"Govt_job\",\"Self-employed\",\"Private\",\"children\",\"Private\",\"Private\",\"Private\",\"Private\",\"Private\",\"Govt_job\",\"Private\",\"children\",\"Private\",\"Private\",\"Private\",\"children\",\"Private\",\"Private\",\"Private\",\"Self-employed\",\"Self-employed\",\"Govt_job\",\"Private\",\"Private\",\"Private\",\"Private\",\"Private\",\"Govt_job\",\"Private\",\"Private\",\"Govt_job\",\"Private\",\"Private\",\"children\",\"Private\",\"children\",\"Govt_job\",\"Private\",\"Private\",\"Private\",\"Govt_job\",\"Private\",\"Govt_job\",\"Private\",\"Private\",\"Self-employed\",\"Private\",\"Self-employed\",\"Private\",\"Private\",\"Private\",\"Self-employed\",\"Private\",\"children\",\"Private\",\"Private\",\"Private\",\"Govt_job\",\"Private\",\"Private\",\"Private\",\"children\",\"children\",\"Self-employed\",\"Govt_job\",\"Private\",\"Private\",\"Private\",\"Private\",\"Private\",\"Self-employed\",\"Self-employed\",\"children\",\"Govt_job\",\"Private\",\"Govt_job\",\"Govt_job\",\"children\",\"children\",\"Govt_job\",\"Self-employed\",\"children\",\"Private\",\"Self-employed\",\"Private\",\"Private\",\"Private\",\"children\",\"Private\",\"Self-employed\",\"Self-employed\",\"Private\",\"Govt_job\"],\"xaxis\":\"x\",\"yaxis\":\"y\",\"type\":\"histogram\"}],                        {\"template\":{\"data\":{\"bar\":[{\"error_x\":{\"color\":\"#2a3f5f\"},\"error_y\":{\"color\":\"#2a3f5f\"},\"marker\":{\"line\":{\"color\":\"#E5ECF6\",\"width\":0.5},\"pattern\":{\"fillmode\":\"overlay\",\"size\":10,\"solidity\":0.2}},\"type\":\"bar\"}],\"barpolar\":[{\"marker\":{\"line\":{\"color\":\"#E5ECF6\",\"width\":0.5},\"pattern\":{\"fillmode\":\"overlay\",\"size\":10,\"solidity\":0.2}},\"type\":\"barpolar\"}],\"carpet\":[{\"aaxis\":{\"endlinecolor\":\"#2a3f5f\",\"gridcolor\":\"white\",\"linecolor\":\"white\",\"minorgridcolor\":\"white\",\"startlinecolor\":\"#2a3f5f\"},\"baxis\":{\"endlinecolor\":\"#2a3f5f\",\"gridcolor\":\"white\",\"linecolor\":\"white\",\"minorgridcolor\":\"white\",\"startlinecolor\":\"#2a3f5f\"},\"type\":\"carpet\"}],\"choropleth\":[{\"colorbar\":{\"outlinewidth\":0,\"ticks\":\"\"},\"type\":\"choropleth\"}],\"contour\":[{\"colorbar\":{\"outlinewidth\":0,\"ticks\":\"\"},\"colorscale\":[[0.0,\"#0d0887\"],[0.1111111111111111,\"#46039f\"],[0.2222222222222222,\"#7201a8\"],[0.3333333333333333,\"#9c179e\"],[0.4444444444444444,\"#bd3786\"],[0.5555555555555556,\"#d8576b\"],[0.6666666666666666,\"#ed7953\"],[0.7777777777777778,\"#fb9f3a\"],[0.8888888888888888,\"#fdca26\"],[1.0,\"#f0f921\"]],\"type\":\"contour\"}],\"contourcarpet\":[{\"colorbar\":{\"outlinewidth\":0,\"ticks\":\"\"},\"type\":\"contourcarpet\"}],\"heatmap\":[{\"colorbar\":{\"outlinewidth\":0,\"ticks\":\"\"},\"colorscale\":[[0.0,\"#0d0887\"],[0.1111111111111111,\"#46039f\"],[0.2222222222222222,\"#7201a8\"],[0.3333333333333333,\"#9c179e\"],[0.4444444444444444,\"#bd3786\"],[0.5555555555555556,\"#d8576b\"],[0.6666666666666666,\"#ed7953\"],[0.7777777777777778,\"#fb9f3a\"],[0.8888888888888888,\"#fdca26\"],[1.0,\"#f0f921\"]],\"type\":\"heatmap\"}],\"heatmapgl\":[{\"colorbar\":{\"outlinewidth\":0,\"ticks\":\"\"},\"colorscale\":[[0.0,\"#0d0887\"],[0.1111111111111111,\"#46039f\"],[0.2222222222222222,\"#7201a8\"],[0.3333333333333333,\"#9c179e\"],[0.4444444444444444,\"#bd3786\"],[0.5555555555555556,\"#d8576b\"],[0.6666666666666666,\"#ed7953\"],[0.7777777777777778,\"#fb9f3a\"],[0.8888888888888888,\"#fdca26\"],[1.0,\"#f0f921\"]],\"type\":\"heatmapgl\"}],\"histogram\":[{\"marker\":{\"pattern\":{\"fillmode\":\"overlay\",\"size\":10,\"solidity\":0.2}},\"type\":\"histogram\"}],\"histogram2d\":[{\"colorbar\":{\"outlinewidth\":0,\"ticks\":\"\"},\"colorscale\":[[0.0,\"#0d0887\"],[0.1111111111111111,\"#46039f\"],[0.2222222222222222,\"#7201a8\"],[0.3333333333333333,\"#9c179e\"],[0.4444444444444444,\"#bd3786\"],[0.5555555555555556,\"#d8576b\"],[0.6666666666666666,\"#ed7953\"],[0.7777777777777778,\"#fb9f3a\"],[0.8888888888888888,\"#fdca26\"],[1.0,\"#f0f921\"]],\"type\":\"histogram2d\"}],\"histogram2dcontour\":[{\"colorbar\":{\"outlinewidth\":0,\"ticks\":\"\"},\"colorscale\":[[0.0,\"#0d0887\"],[0.1111111111111111,\"#46039f\"],[0.2222222222222222,\"#7201a8\"],[0.3333333333333333,\"#9c179e\"],[0.4444444444444444,\"#bd3786\"],[0.5555555555555556,\"#d8576b\"],[0.6666666666666666,\"#ed7953\"],[0.7777777777777778,\"#fb9f3a\"],[0.8888888888888888,\"#fdca26\"],[1.0,\"#f0f921\"]],\"type\":\"histogram2dcontour\"}],\"mesh3d\":[{\"colorbar\":{\"outlinewidth\":0,\"ticks\":\"\"},\"type\":\"mesh3d\"}],\"parcoords\":[{\"line\":{\"colorbar\":{\"outlinewidth\":0,\"ticks\":\"\"}},\"type\":\"parcoords\"}],\"pie\":[{\"automargin\":true,\"type\":\"pie\"}],\"scatter\":[{\"marker\":{\"colorbar\":{\"outlinewidth\":0,\"ticks\":\"\"}},\"type\":\"scatter\"}],\"scatter3d\":[{\"line\":{\"colorbar\":{\"outlinewidth\":0,\"ticks\":\"\"}},\"marker\":{\"colorbar\":{\"outlinewidth\":0,\"ticks\":\"\"}},\"type\":\"scatter3d\"}],\"scattercarpet\":[{\"marker\":{\"colorbar\":{\"outlinewidth\":0,\"ticks\":\"\"}},\"type\":\"scattercarpet\"}],\"scattergeo\":[{\"marker\":{\"colorbar\":{\"outlinewidth\":0,\"ticks\":\"\"}},\"type\":\"scattergeo\"}],\"scattergl\":[{\"marker\":{\"colorbar\":{\"outlinewidth\":0,\"ticks\":\"\"}},\"type\":\"scattergl\"}],\"scattermapbox\":[{\"marker\":{\"colorbar\":{\"outlinewidth\":0,\"ticks\":\"\"}},\"type\":\"scattermapbox\"}],\"scatterpolar\":[{\"marker\":{\"colorbar\":{\"outlinewidth\":0,\"ticks\":\"\"}},\"type\":\"scatterpolar\"}],\"scatterpolargl\":[{\"marker\":{\"colorbar\":{\"outlinewidth\":0,\"ticks\":\"\"}},\"type\":\"scatterpolargl\"}],\"scatterternary\":[{\"marker\":{\"colorbar\":{\"outlinewidth\":0,\"ticks\":\"\"}},\"type\":\"scatterternary\"}],\"surface\":[{\"colorbar\":{\"outlinewidth\":0,\"ticks\":\"\"},\"colorscale\":[[0.0,\"#0d0887\"],[0.1111111111111111,\"#46039f\"],[0.2222222222222222,\"#7201a8\"],[0.3333333333333333,\"#9c179e\"],[0.4444444444444444,\"#bd3786\"],[0.5555555555555556,\"#d8576b\"],[0.6666666666666666,\"#ed7953\"],[0.7777777777777778,\"#fb9f3a\"],[0.8888888888888888,\"#fdca26\"],[1.0,\"#f0f921\"]],\"type\":\"surface\"}],\"table\":[{\"cells\":{\"fill\":{\"color\":\"#EBF0F8\"},\"line\":{\"color\":\"white\"}},\"header\":{\"fill\":{\"color\":\"#C8D4E3\"},\"line\":{\"color\":\"white\"}},\"type\":\"table\"}]},\"layout\":{\"annotationdefaults\":{\"arrowcolor\":\"#2a3f5f\",\"arrowhead\":0,\"arrowwidth\":1},\"autotypenumbers\":\"strict\",\"coloraxis\":{\"colorbar\":{\"outlinewidth\":0,\"ticks\":\"\"}},\"colorscale\":{\"diverging\":[[0,\"#8e0152\"],[0.1,\"#c51b7d\"],[0.2,\"#de77ae\"],[0.3,\"#f1b6da\"],[0.4,\"#fde0ef\"],[0.5,\"#f7f7f7\"],[0.6,\"#e6f5d0\"],[0.7,\"#b8e186\"],[0.8,\"#7fbc41\"],[0.9,\"#4d9221\"],[1,\"#276419\"]],\"sequential\":[[0.0,\"#0d0887\"],[0.1111111111111111,\"#46039f\"],[0.2222222222222222,\"#7201a8\"],[0.3333333333333333,\"#9c179e\"],[0.4444444444444444,\"#bd3786\"],[0.5555555555555556,\"#d8576b\"],[0.6666666666666666,\"#ed7953\"],[0.7777777777777778,\"#fb9f3a\"],[0.8888888888888888,\"#fdca26\"],[1.0,\"#f0f921\"]],\"sequentialminus\":[[0.0,\"#0d0887\"],[0.1111111111111111,\"#46039f\"],[0.2222222222222222,\"#7201a8\"],[0.3333333333333333,\"#9c179e\"],[0.4444444444444444,\"#bd3786\"],[0.5555555555555556,\"#d8576b\"],[0.6666666666666666,\"#ed7953\"],[0.7777777777777778,\"#fb9f3a\"],[0.8888888888888888,\"#fdca26\"],[1.0,\"#f0f921\"]]},\"colorway\":[\"#636efa\",\"#EF553B\",\"#00cc96\",\"#ab63fa\",\"#FFA15A\",\"#19d3f3\",\"#FF6692\",\"#B6E880\",\"#FF97FF\",\"#FECB52\"],\"font\":{\"color\":\"#2a3f5f\"},\"geo\":{\"bgcolor\":\"white\",\"lakecolor\":\"white\",\"landcolor\":\"#E5ECF6\",\"showlakes\":true,\"showland\":true,\"subunitcolor\":\"white\"},\"hoverlabel\":{\"align\":\"left\"},\"hovermode\":\"closest\",\"mapbox\":{\"style\":\"light\"},\"paper_bgcolor\":\"white\",\"plot_bgcolor\":\"#E5ECF6\",\"polar\":{\"angularaxis\":{\"gridcolor\":\"white\",\"linecolor\":\"white\",\"ticks\":\"\"},\"bgcolor\":\"#E5ECF6\",\"radialaxis\":{\"gridcolor\":\"white\",\"linecolor\":\"white\",\"ticks\":\"\"}},\"scene\":{\"xaxis\":{\"backgroundcolor\":\"#E5ECF6\",\"gridcolor\":\"white\",\"gridwidth\":2,\"linecolor\":\"white\",\"showbackground\":true,\"ticks\":\"\",\"zerolinecolor\":\"white\"},\"yaxis\":{\"backgroundcolor\":\"#E5ECF6\",\"gridcolor\":\"white\",\"gridwidth\":2,\"linecolor\":\"white\",\"showbackground\":true,\"ticks\":\"\",\"zerolinecolor\":\"white\"},\"zaxis\":{\"backgroundcolor\":\"#E5ECF6\",\"gridcolor\":\"white\",\"gridwidth\":2,\"linecolor\":\"white\",\"showbackground\":true,\"ticks\":\"\",\"zerolinecolor\":\"white\"}},\"shapedefaults\":{\"line\":{\"color\":\"#2a3f5f\"}},\"ternary\":{\"aaxis\":{\"gridcolor\":\"white\",\"linecolor\":\"white\",\"ticks\":\"\"},\"baxis\":{\"gridcolor\":\"white\",\"linecolor\":\"white\",\"ticks\":\"\"},\"bgcolor\":\"#E5ECF6\",\"caxis\":{\"gridcolor\":\"white\",\"linecolor\":\"white\",\"ticks\":\"\"}},\"title\":{\"x\":0.05},\"xaxis\":{\"automargin\":true,\"gridcolor\":\"white\",\"linecolor\":\"white\",\"ticks\":\"\",\"title\":{\"standoff\":15},\"zerolinecolor\":\"white\",\"zerolinewidth\":2},\"yaxis\":{\"automargin\":true,\"gridcolor\":\"white\",\"linecolor\":\"white\",\"ticks\":\"\",\"title\":{\"standoff\":15},\"zerolinecolor\":\"white\",\"zerolinewidth\":2}}},\"xaxis\":{\"anchor\":\"y\",\"domain\":[0.0,1.0],\"title\":{\"text\":\"work_type\"}},\"yaxis\":{\"anchor\":\"x\",\"domain\":[0.0,1.0],\"title\":{\"text\":\"count\"}},\"legend\":{\"tracegroupgap\":0},\"title\":{\"text\":\"Patients without stroke\"},\"barmode\":\"relative\"},                        {\"responsive\": true}                    ).then(function(){\n",
              "                            \n",
              "var gd = document.getElementById('656db9e5-d65f-40b9-845b-3d90e926931e');\n",
              "var x = new MutationObserver(function (mutations, observer) {{\n",
              "        var display = window.getComputedStyle(gd).display;\n",
              "        if (!display || display === 'none') {{\n",
              "            console.log([gd, 'removed!']);\n",
              "            Plotly.purge(gd);\n",
              "            observer.disconnect();\n",
              "        }}\n",
              "}});\n",
              "\n",
              "// Listen for the removal of the full notebook cells\n",
              "var notebookContainer = gd.closest('#notebook-container');\n",
              "if (notebookContainer) {{\n",
              "    x.observe(notebookContainer, {childList: true});\n",
              "}}\n",
              "\n",
              "// Listen for the clearing of the current output cell\n",
              "var outputEl = gd.closest('.output');\n",
              "if (outputEl) {{\n",
              "    x.observe(outputEl, {childList: true});\n",
              "}}\n",
              "\n",
              "                        })                };                            </script>        </div>\n",
              "</body>\n",
              "</html>"
            ]
          },
          "metadata": {}
        }
      ]
    },
    {
      "cell_type": "code",
      "source": [
        "s_data.head()\n"
      ],
      "metadata": {
        "colab": {
          "base_uri": "https://localhost:8080/",
          "height": 305
        },
        "id": "-9B-6aUnLV2_",
        "outputId": "f71efe9f-c53e-4d6f-cb04-7a01f5ee7c2a"
      },
      "execution_count": null,
      "outputs": [
        {
          "output_type": "execute_result",
          "data": {
            "text/plain": [
              "      id  gender   age  hypertension  heart_disease ever_married  \\\n",
              "0   9046    Male  67.0             0              1          Yes   \n",
              "1  51676  Female  61.0             0              0          Yes   \n",
              "2  31112    Male  80.0             0              1          Yes   \n",
              "3  60182  Female  49.0             0              0          Yes   \n",
              "4   1665  Female  79.0             1              0          Yes   \n",
              "\n",
              "       work_type Residence_type  avg_glucose_level        bmi  \\\n",
              "0        Private          Urban             228.69  36.600000   \n",
              "1  Self-employed          Rural             202.21  28.893237   \n",
              "2        Private          Rural             105.92  32.500000   \n",
              "3        Private          Urban             171.23  34.400000   \n",
              "4  Self-employed          Rural             174.12  24.000000   \n",
              "\n",
              "    smoking_status stroke  \n",
              "0  formerly smoked    Yes  \n",
              "1     never smoked    Yes  \n",
              "2     never smoked    Yes  \n",
              "3           smokes    Yes  \n",
              "4     never smoked    Yes  "
            ],
            "text/html": [
              "\n",
              "  <div id=\"df-7499b94f-e63f-48bc-8d1c-bbc0cc4abdfc\">\n",
              "    <div class=\"colab-df-container\">\n",
              "      <div>\n",
              "<style scoped>\n",
              "    .dataframe tbody tr th:only-of-type {\n",
              "        vertical-align: middle;\n",
              "    }\n",
              "\n",
              "    .dataframe tbody tr th {\n",
              "        vertical-align: top;\n",
              "    }\n",
              "\n",
              "    .dataframe thead th {\n",
              "        text-align: right;\n",
              "    }\n",
              "</style>\n",
              "<table border=\"1\" class=\"dataframe\">\n",
              "  <thead>\n",
              "    <tr style=\"text-align: right;\">\n",
              "      <th></th>\n",
              "      <th>id</th>\n",
              "      <th>gender</th>\n",
              "      <th>age</th>\n",
              "      <th>hypertension</th>\n",
              "      <th>heart_disease</th>\n",
              "      <th>ever_married</th>\n",
              "      <th>work_type</th>\n",
              "      <th>Residence_type</th>\n",
              "      <th>avg_glucose_level</th>\n",
              "      <th>bmi</th>\n",
              "      <th>smoking_status</th>\n",
              "      <th>stroke</th>\n",
              "    </tr>\n",
              "  </thead>\n",
              "  <tbody>\n",
              "    <tr>\n",
              "      <th>0</th>\n",
              "      <td>9046</td>\n",
              "      <td>Male</td>\n",
              "      <td>67.0</td>\n",
              "      <td>0</td>\n",
              "      <td>1</td>\n",
              "      <td>Yes</td>\n",
              "      <td>Private</td>\n",
              "      <td>Urban</td>\n",
              "      <td>228.69</td>\n",
              "      <td>36.600000</td>\n",
              "      <td>formerly smoked</td>\n",
              "      <td>Yes</td>\n",
              "    </tr>\n",
              "    <tr>\n",
              "      <th>1</th>\n",
              "      <td>51676</td>\n",
              "      <td>Female</td>\n",
              "      <td>61.0</td>\n",
              "      <td>0</td>\n",
              "      <td>0</td>\n",
              "      <td>Yes</td>\n",
              "      <td>Self-employed</td>\n",
              "      <td>Rural</td>\n",
              "      <td>202.21</td>\n",
              "      <td>28.893237</td>\n",
              "      <td>never smoked</td>\n",
              "      <td>Yes</td>\n",
              "    </tr>\n",
              "    <tr>\n",
              "      <th>2</th>\n",
              "      <td>31112</td>\n",
              "      <td>Male</td>\n",
              "      <td>80.0</td>\n",
              "      <td>0</td>\n",
              "      <td>1</td>\n",
              "      <td>Yes</td>\n",
              "      <td>Private</td>\n",
              "      <td>Rural</td>\n",
              "      <td>105.92</td>\n",
              "      <td>32.500000</td>\n",
              "      <td>never smoked</td>\n",
              "      <td>Yes</td>\n",
              "    </tr>\n",
              "    <tr>\n",
              "      <th>3</th>\n",
              "      <td>60182</td>\n",
              "      <td>Female</td>\n",
              "      <td>49.0</td>\n",
              "      <td>0</td>\n",
              "      <td>0</td>\n",
              "      <td>Yes</td>\n",
              "      <td>Private</td>\n",
              "      <td>Urban</td>\n",
              "      <td>171.23</td>\n",
              "      <td>34.400000</td>\n",
              "      <td>smokes</td>\n",
              "      <td>Yes</td>\n",
              "    </tr>\n",
              "    <tr>\n",
              "      <th>4</th>\n",
              "      <td>1665</td>\n",
              "      <td>Female</td>\n",
              "      <td>79.0</td>\n",
              "      <td>1</td>\n",
              "      <td>0</td>\n",
              "      <td>Yes</td>\n",
              "      <td>Self-employed</td>\n",
              "      <td>Rural</td>\n",
              "      <td>174.12</td>\n",
              "      <td>24.000000</td>\n",
              "      <td>never smoked</td>\n",
              "      <td>Yes</td>\n",
              "    </tr>\n",
              "  </tbody>\n",
              "</table>\n",
              "</div>\n",
              "      <button class=\"colab-df-convert\" onclick=\"convertToInteractive('df-7499b94f-e63f-48bc-8d1c-bbc0cc4abdfc')\"\n",
              "              title=\"Convert this dataframe to an interactive table.\"\n",
              "              style=\"display:none;\">\n",
              "        \n",
              "  <svg xmlns=\"http://www.w3.org/2000/svg\" height=\"24px\"viewBox=\"0 0 24 24\"\n",
              "       width=\"24px\">\n",
              "    <path d=\"M0 0h24v24H0V0z\" fill=\"none\"/>\n",
              "    <path d=\"M18.56 5.44l.94 2.06.94-2.06 2.06-.94-2.06-.94-.94-2.06-.94 2.06-2.06.94zm-11 1L8.5 8.5l.94-2.06 2.06-.94-2.06-.94L8.5 2.5l-.94 2.06-2.06.94zm10 10l.94 2.06.94-2.06 2.06-.94-2.06-.94-.94-2.06-.94 2.06-2.06.94z\"/><path d=\"M17.41 7.96l-1.37-1.37c-.4-.4-.92-.59-1.43-.59-.52 0-1.04.2-1.43.59L10.3 9.45l-7.72 7.72c-.78.78-.78 2.05 0 2.83L4 21.41c.39.39.9.59 1.41.59.51 0 1.02-.2 1.41-.59l7.78-7.78 2.81-2.81c.8-.78.8-2.07 0-2.86zM5.41 20L4 18.59l7.72-7.72 1.47 1.35L5.41 20z\"/>\n",
              "  </svg>\n",
              "      </button>\n",
              "      \n",
              "  <style>\n",
              "    .colab-df-container {\n",
              "      display:flex;\n",
              "      flex-wrap:wrap;\n",
              "      gap: 12px;\n",
              "    }\n",
              "\n",
              "    .colab-df-convert {\n",
              "      background-color: #E8F0FE;\n",
              "      border: none;\n",
              "      border-radius: 50%;\n",
              "      cursor: pointer;\n",
              "      display: none;\n",
              "      fill: #1967D2;\n",
              "      height: 32px;\n",
              "      padding: 0 0 0 0;\n",
              "      width: 32px;\n",
              "    }\n",
              "\n",
              "    .colab-df-convert:hover {\n",
              "      background-color: #E2EBFA;\n",
              "      box-shadow: 0px 1px 2px rgba(60, 64, 67, 0.3), 0px 1px 3px 1px rgba(60, 64, 67, 0.15);\n",
              "      fill: #174EA6;\n",
              "    }\n",
              "\n",
              "    [theme=dark] .colab-df-convert {\n",
              "      background-color: #3B4455;\n",
              "      fill: #D2E3FC;\n",
              "    }\n",
              "\n",
              "    [theme=dark] .colab-df-convert:hover {\n",
              "      background-color: #434B5C;\n",
              "      box-shadow: 0px 1px 3px 1px rgba(0, 0, 0, 0.15);\n",
              "      filter: drop-shadow(0px 1px 2px rgba(0, 0, 0, 0.3));\n",
              "      fill: #FFFFFF;\n",
              "    }\n",
              "  </style>\n",
              "\n",
              "      <script>\n",
              "        const buttonEl =\n",
              "          document.querySelector('#df-7499b94f-e63f-48bc-8d1c-bbc0cc4abdfc button.colab-df-convert');\n",
              "        buttonEl.style.display =\n",
              "          google.colab.kernel.accessAllowed ? 'block' : 'none';\n",
              "\n",
              "        async function convertToInteractive(key) {\n",
              "          const element = document.querySelector('#df-7499b94f-e63f-48bc-8d1c-bbc0cc4abdfc');\n",
              "          const dataTable =\n",
              "            await google.colab.kernel.invokeFunction('convertToInteractive',\n",
              "                                                     [key], {});\n",
              "          if (!dataTable) return;\n",
              "\n",
              "          const docLinkHtml = 'Like what you see? Visit the ' +\n",
              "            '<a target=\"_blank\" href=https://colab.research.google.com/notebooks/data_table.ipynb>data table notebook</a>'\n",
              "            + ' to learn more about interactive tables.';\n",
              "          element.innerHTML = '';\n",
              "          dataTable['output_type'] = 'display_data';\n",
              "          await google.colab.output.renderOutput(dataTable, element);\n",
              "          const docLink = document.createElement('div');\n",
              "          docLink.innerHTML = docLinkHtml;\n",
              "          element.appendChild(docLink);\n",
              "        }\n",
              "      </script>\n",
              "    </div>\n",
              "  </div>\n",
              "  "
            ]
          },
          "metadata": {},
          "execution_count": 137
        }
      ]
    },
    {
      "cell_type": "markdown",
      "source": [
        "Body Mass Index"
      ],
      "metadata": {
        "id": "UHj4MLzYLo5s"
      }
    },
    {
      "cell_type": "code",
      "source": [
        "sns.set_theme(style = 'darkgrid')\n",
        "fig, ((ax1, ax2)) = plt.subplots(1,2,figsize=(16,3))\n",
        "sns.histplot(data=s_data,x=\"bmi\",ax=ax1)\n",
        "ax1.title.set_text('Patients with stroke')\n",
        "sns.histplot(data=n_data,x=\"bmi\",ax=ax2)\n",
        "ax2.title.set_text('Patients without stroke')"
      ],
      "metadata": {
        "colab": {
          "base_uri": "https://localhost:8080/",
          "height": 245
        },
        "id": "6g8Ke5uALp3n",
        "outputId": "f9a38355-f69c-4849-9050-0986755936e6"
      },
      "execution_count": null,
      "outputs": [
        {
          "output_type": "display_data",
          "data": {
            "text/plain": [
              "<Figure size 1152x216 with 2 Axes>"
            ],
            "image/png": "[encoded data removed]"
          },
          "metadata": {}
        }
      ]
    },
    {
      "cell_type": "markdown",
      "source": [
        "Smoking Status"
      ],
      "metadata": {
        "id": "gSm-1W70Lw4d"
      }
    },
    {
      "cell_type": "code",
      "source": [
        "sns.set_theme(style = 'darkgrid')\n",
        "fig, ((ax1, ax2)) = plt.subplots(1,2,figsize=(16,3))\n",
        "sns.histplot(data=s_data,x=\"smoking_status\",ax=ax1)\n",
        "ax1.title.set_text('Patients with stroke')\n",
        "sns.histplot(data=n_data,x=\"smoking_status\",ax=ax2)\n",
        "ax2.title.set_text('Patients without stroke')"
      ],
      "metadata": {
        "colab": {
          "base_uri": "https://localhost:8080/",
          "height": 245
        },
        "id": "kOKo5cKiLqlw",
        "outputId": "72cca329-bd09-4547-acd6-6a8d226ebfb5"
      },
      "execution_count": null,
      "outputs": [
        {
          "output_type": "display_data",
          "data": {
            "text/plain": [
              "<Figure size 1152x216 with 2 Axes>"
            ],
            "image/png": "[encoded data removed]"
          },
          "metadata": {}
        }
      ]
    },
    {
      "cell_type": "code",
      "source": [],
      "metadata": {
        "id": "BGPbbb7aL3L9"
      },
      "execution_count": null,
      "outputs": []
    }
  ]
}